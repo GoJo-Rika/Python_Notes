{
  "cells": [
    {
      "cell_type": "markdown",
      "metadata": {
        "id": "Ilbz2quzq_8u"
      },
      "source": [
        "# S04 Repetitive structure for\n",
        "\n",
        "Mit Patel\n",
        "\n",
        "Version: 1.0 (August 2023)\n",
        "\n",
        "***\n",
        "\n",
        "# 4. Repetitive structure\n",
        "\n",
        "There are three basic algorithmic structures so that by combining them all programs can be made:\n",
        "\n",
        "- **Sequential structure**, where a **series of instructions are executed one after the other**.\n",
        "- **Alternative structure**, where **one set of instructions is executed** or **another dependin**g on **whether a condition is met or not**.\n",
        "- **Repetitive structure**, where a **set of instructions is executed several times in a row**.\n",
        "\n",
        "In this and the next session we will focus on repetitive structures and how they are implemented in Python language."
      ]
    },
    {
      "cell_type": "markdown",
      "metadata": {
        "id": "GSbfF8Cpq_88"
      },
      "source": [
        "## 4.1 Repetitive structures using the `for` statement\n",
        "\n",
        "While the structure uses the `while` statement, which we will see in the next session. It is the basic repetitive structure with which all problems that require repetitions can be solved, there is also a repetitive structure derived from it that is much more convenient to use **when we can know the number of times it will have to be repeated a set of instructions**. In Python this structure is provided by the `for` statement.\n",
        "\n",
        "We will see the usefulness of the repetitive structure used by the `for` instruction during the course. For now, we'll look at its usefulness in combination with the `range ()` statement.\n",
        "\n",
        "### 4.1.1. `Range ()` statement\n",
        "\n",
        "This statement requires at least an integer value in parentheses (argument). The instruction:\n",
        "\n",
        "```python\n",
        "range (n)\n",
        "```\n",
        "\n",
        "with n integers, it generates a _quence_ of `n` integers starting from the value` 0` and ending in the value `n-1`, in increments of` 1`. This means the sequence: 0, 1, 2, 3, 4, 5, $ \\ldots $, (n-1). Therefore, note that the value `n` **is not included**.\n",
        "\n",
        "For example, executing `range (5)` generates the sequence: 0, 1, 2, 3, 4.\n",
        "\n",
        "_Note:_ This statement supports other _optional_ arguments that allow you to control the first value of the sequence and the increment between value and value.\n",
        "\n",
        "Like this\n",
        "\n",
        "```python\n",
        "range (ni, nf)\n",
        "```\n",
        "\n",
        "generates a sequence of integers, starting with `ni` and ending in` nf-1`. For example, the `range (2,5)` statement generates the sequence: 2, 3, 4.\n",
        "\n",
        "On the other hand\n",
        "\n",
        "```python\n",
        "range (ni, nf, npas)\n",
        "```\n",
        "\n",
        "generates a sequence of integers, starting with the value `ni` with increments of` npas` and ending with the last value of the sequence below `nf`. For example, the instruction `range (2,5,2)` generates the sequence: 2, 4.\n",
        "\n",
        "Needless to say, the negative value of the increment can be given to generate a _count count_.\n",
        "\n",
        "### 4.1.2. Repetitive cycles with `for in range ()`\n",
        "\n",
        "You can have a repetitive structure in Python using the `for` command where an instruction block is executed as many times as elements generate the range () statement.\n",
        "\n",
        "Run this example from the following cell:\n",
        "```Python\n",
        "for i in range (3):\n",
        "    print (\"Value of i: {}\". format (i))\n",
        "```"
      ]
    },
    {
      "cell_type": "code",
      "execution_count": null,
      "metadata": {
        "id": "j3eW6C9sq_8_",
        "colab": {
          "base_uri": "https://localhost:8080/"
        },
        "outputId": "755997d8-8242-4681-8c1b-99ff406b9aa8"
      },
      "outputs": [
        {
          "output_type": "stream",
          "name": "stdout",
          "text": [
            "Value of i: 0\n",
            "Value of i: 1\n",
            "Value of i: 2\n"
          ]
        }
      ],
      "source": [
        "for i in range (3):\n",
        "    print (\"Value of i: {}\". format (i))"
      ]
    },
    {
      "cell_type": "code",
      "source": [
        "for i in range (3):\n",
        "    print (f\"Value of i: {i}\")"
      ],
      "metadata": {
        "colab": {
          "base_uri": "https://localhost:8080/"
        },
        "id": "0LYkx6G14Lyh",
        "outputId": "d2b264c6-a337-4f11-bd26-52c039862f26"
      },
      "execution_count": null,
      "outputs": [
        {
          "output_type": "stream",
          "name": "stdout",
          "text": [
            "Value of i: 0\n",
            "Value of i: 1\n",
            "Value of i: 2\n"
          ]
        }
      ]
    },
    {
      "cell_type": "markdown",
      "metadata": {
        "id": "68k7U5tfq_9D"
      },
      "source": [
        "We have said that the `range (3)` statement generates a sequence with _3 integers_ (0, 1, 2).\n",
        "\n",
        "The `for` statement should be translated as follows: For each value generated by the range, do everything in the block.\n",
        "\n",
        "Note that the indented instruction block in the `for` loop has been executed 3 times, as many as items have been generated.\n",
        "\n",
        "So if for example we want to calculate and write the squares of the `n` first natural numbers, starting with zero, we can do it with the code\n",
        "```Python\n",
        "n = int (input (\"Enter the value of n:\"))\n",
        "for i in range (n):\n",
        "     q_i = i ** 2 # We calculate the square of the value i\n",
        "     print (q_i) # We write its value\n",
        "```\n",
        "Check it in the following cell:"
      ]
    },
    {
      "cell_type": "code",
      "source": [
        "n = int (input (\"Enter the value of n:\"))\n",
        "for i in range (n):\n",
        "     q_i = i ** 2 # We calculate the square of the value i\n",
        "     print (q_i) # We write its value"
      ],
      "metadata": {
        "colab": {
          "base_uri": "https://localhost:8080/"
        },
        "id": "4ab93dbcXbhM",
        "outputId": "c5d81c0b-aaa0-451f-a4d6-12d4ea191be2"
      },
      "execution_count": null,
      "outputs": [
        {
          "output_type": "stream",
          "name": "stdout",
          "text": [
            "Enter the value of n:10\n",
            "0\n",
            "1\n",
            "4\n",
            "9\n",
            "16\n",
            "25\n",
            "36\n",
            "49\n",
            "64\n",
            "81\n"
          ]
        }
      ]
    },
    {
      "cell_type": "code",
      "source": [
        "n = int (input (\"Enter the value of n:\"))\n",
        "for i in range (n):\n",
        "     # q_i = i ** 2 # We calculate the square of the value i\n",
        "     print (i ** 2) # We write its value"
      ],
      "metadata": {
        "colab": {
          "base_uri": "https://localhost:8080/"
        },
        "id": "-cHOIySs4pjk",
        "outputId": "3ae22197-8a20-49ff-b0c4-4468a9ec9a43"
      },
      "execution_count": null,
      "outputs": [
        {
          "output_type": "stream",
          "name": "stdout",
          "text": [
            "Enter the value of n:10\n",
            "0\n",
            "1\n",
            "4\n",
            "9\n",
            "16\n",
            "25\n",
            "36\n",
            "49\n",
            "64\n",
            "81\n"
          ]
        }
      ]
    },
    {
      "cell_type": "markdown",
      "metadata": {
        "id": "wn74Ke6bq_9F"
      },
      "source": [
        "If instead we want to calculate the squares of the `n` first natural numbers, starting with the u (positive integers), we can do it with the code\n",
        "```Python\n",
        "n = int (input (\"Enter the value of n:\"))\n",
        "for i in range (1, n + 1):\n",
        "     q_i = i ** 2 # We calculate the square of the value i\n",
        "     print (q_i) # We write its value\n",
        "```\n",
        "Note that within the range a 1 has been added as the initial value and the second value has been changed to n + 1 so that it reaches n.\n",
        "\n",
        "Check that it works in the following cell:"
      ]
    },
    {
      "cell_type": "code",
      "execution_count": null,
      "metadata": {
        "id": "JL1DXyl-q_9G",
        "colab": {
          "base_uri": "https://localhost:8080/"
        },
        "outputId": "4dbeba5d-7ba7-4ffc-fba7-f40490004005"
      },
      "outputs": [
        {
          "output_type": "stream",
          "name": "stdout",
          "text": [
            "Enter the value of n:10\n",
            "1\n",
            "4\n",
            "9\n",
            "16\n",
            "25\n",
            "36\n",
            "49\n",
            "64\n",
            "81\n",
            "100\n"
          ]
        }
      ],
      "source": [
        "n = int (input (\"Enter the value of n:\"))\n",
        "for i in range (1, n + 1):\n",
        "     q_i = i ** 2 # We calculate the square of the value i\n",
        "     print (q_i) # We write its value"
      ]
    },
    {
      "cell_type": "code",
      "source": [
        "n = int (input (\"Enter the value of n:\"))\n",
        "for i in range (1, n + 1, 2):\n",
        "     q_i = i ** 2 # We calculate the square of the value i\n",
        "     print (q_i) # We write its value"
      ],
      "metadata": {
        "colab": {
          "base_uri": "https://localhost:8080/"
        },
        "id": "8KKuUUf0480h",
        "outputId": "1402f077-b9d5-4af8-ea12-0b66e8468e42"
      },
      "execution_count": null,
      "outputs": [
        {
          "output_type": "stream",
          "name": "stdout",
          "text": [
            "Enter the value of n:10\n",
            "1\n",
            "9\n",
            "25\n",
            "49\n",
            "81\n"
          ]
        }
      ]
    },
    {
      "cell_type": "markdown",
      "metadata": {
        "id": "NZPK0vitq_9H"
      },
      "source": [
        "## 4.2 Accumulators\n",
        "\n",
        "In scientific disciplines it is common for us to calculate the sum of a series of values, which we call **summative**, or its product, which we call **productive**.\n",
        "In both cases the strategy must be the same:\n",
        "\n",
        "- a variable is used to go **accumulating** the value of the sum or the product, which we will call **accumulator**\n",
        "- this accumulator must be assigned an initial value, **initialize it**, to a value that is neutral (`0` in the case of the sum and` 1` in the case of the product)\n",
        "- a repetitive structure is used that is executed as many times (cycles) as terms we want to accumulate\n",
        "- in each cycle, a term is added to the accumulator in the form of a sum or product, as appropriate.\n",
        "\n",
        "Next we will calculate the sum of the first 5 positive integers:\n",
        "\n",
        "$$ S = \\sum_ {i = 1} ^ {5} i = 1 + 2 + 3 + 4 + 5 $$\n",
        "\n",
        "We can see this sum as a repetitive operation if we rewrite it as a repeated sum of two terms:\n",
        "\n",
        " $$ 0 + 1 $$\n",
        " $$ 1 + 2 $$\n",
        " $$ 3 + 3 $$\n",
        " $$ 6 + 4 $$\n",
        " $$ 10 + 5 $$\n",
        "\n",
        "Note that at each step, the value on the left is the result of the previous sum and the value on the right is the new term to be added to the sum. This repetitive structure of 5 sums of two elements is equivalent to making the sum of 5 elements.\n"
      ]
    },
    {
      "cell_type": "markdown",
      "metadata": {
        "id": "Y3gGxYIqq_9J"
      },
      "source": [
        "### 4.2.1 Accumulators in a for cycle\n",
        "\n",
        "See below for the Python code that corresponds to this summation.\n",
        "\n",
        "```Python\n",
        "sum = 0\n",
        "for i in range (6):\n",
        "     sum = sum + i\n",
        "print (\"The sum is valid {}\". format (sum))\n",
        "```\n",
        "\n",
        "Run it and see if it does what we expect it to do."
      ]
    },
    {
      "cell_type": "code",
      "execution_count": null,
      "metadata": {
        "id": "WjLVXAZtq_9K",
        "colab": {
          "base_uri": "https://localhost:8080/"
        },
        "outputId": "6a8630bd-e2c0-4c91-92b5-b331aafceaef"
      },
      "outputs": [
        {
          "output_type": "stream",
          "name": "stdout",
          "text": [
            "The value of sum is in each iteration: 0\n",
            "The value of sum is in each iteration: 1\n",
            "The value of sum is in each iteration: 3\n",
            "The value of sum is in each iteration: 6\n",
            "The value of sum is in each iteration: 10\n",
            "The value of sum is in each iteration: 15\n",
            "The sum is valid 15\n"
          ]
        }
      ],
      "source": [
        "sum = 0\n",
        "for i in range (6): # This loop will run for the values of range from 0 to n - 1, in this case, if it from 0 to 5, i.e - 0, 1, 2, 3, 4, 5.\n",
        "     sum = sum + i\n",
        "     print(f\"The value of sum is in each iteration: {sum}\")\n",
        "print (\"The sum is valid {}\". format (sum))"
      ]
    },
    {
      "cell_type": "code",
      "source": [
        "sum = 0\n",
        "for i in range (6): # This loop will run for the values of range from 0 to n - 1, in this case, if it from 0 to 5, i.e - 0, 1, 2, 3, 4, 5.\n",
        "     sum = sum + i\n",
        "print (\"The sum is valid {}\". format (sum))"
      ],
      "metadata": {
        "colab": {
          "base_uri": "https://localhost:8080/"
        },
        "id": "rMk91our6EXi",
        "outputId": "bb6e1737-9229-4eac-9e3c-e1fd1eb30fe7"
      },
      "execution_count": null,
      "outputs": [
        {
          "output_type": "stream",
          "name": "stdout",
          "text": [
            "The sum is valid 15\n"
          ]
        }
      ]
    },
    {
      "cell_type": "code",
      "source": [
        "sum = 0\n",
        "for i in range (6): # This loop will run for the values of range from 0 to n - 1, in this case, if it from 0 to 5, i.e - 0, 1, 2, 3, 4, 5.\n",
        "     sum = sum + i\n",
        "print (f\"The sum is valid {sum}\")"
      ],
      "metadata": {
        "colab": {
          "base_uri": "https://localhost:8080/"
        },
        "id": "7xdwNzQY6GWt",
        "outputId": "c1b95486-c6d9-4d91-b55e-d7e074230dc6"
      },
      "execution_count": null,
      "outputs": [
        {
          "output_type": "stream",
          "name": "stdout",
          "text": [
            "The sum is valid 15\n"
          ]
        }
      ]
    },
    {
      "cell_type": "markdown",
      "metadata": {
        "id": "5PU82v3sq_9L"
      },
      "source": [
        "Let's break this code down into parts:\n",
        "\n",
        "- First we have _initialized_ the value of the variable that will be used to accumulate the sum to the value _zero_. In this case we have called it `sum`, but we can use any valid variable name that reminds us of the magnitude it should represent.\n",
        "- Then the repetitive cycle or structure begins with the instruction\n",
        "\n",
        "```python\n",
        "for i in range (6):\n",
        "```\n",
        "\n",
        "This instruction indicates to execute the following set of instructions belonging to the cycle (note the indentation!) _For each element of the sequence_ `range (6)`. In this case, the instructions in the block to execute consist only of adding the value of `i` to the variable` sum`.\n",
        "\n",
        "- Remember that the value `n` is not included in` range (n). In our case it has generated the sequence:\n",
        "> 0, 1, 2, 3, 4, 5\n",
        "    \n",
        "- The cycle ends when the instruction block for the last element of the sequence is executed (5, in our case).\n",
        "\n",
        "Finally, note that in the example the first step in the cycle is not very useful since `i` has the value` 0`. If we want to avoid this, we can write the statement `range (1, n)` (see above when we discussed the arguments of `range ()`) and then it will generate the sequence 1, 2, 3, 4, 5, $ \\ldots $, (n-1).\n",
        "\n",
        "This will be:\n",
        "```Python\n",
        "sum = 0\n",
        "for i in range (1,6):\n",
        "    sum = sum + i\n",
        "print (\"The sum is valid {}\". format (sum))\n",
        "```\n",
        "Check that it works:"
      ]
    },
    {
      "cell_type": "code",
      "execution_count": null,
      "metadata": {
        "id": "b21rdEUQq_9L",
        "colab": {
          "base_uri": "https://localhost:8080/"
        },
        "outputId": "e9d635df-f8e7-418e-bff6-c6b3a7ef25ff"
      },
      "outputs": [
        {
          "output_type": "stream",
          "name": "stdout",
          "text": [
            "The sum is valid 15\n"
          ]
        }
      ],
      "source": [
        "sum = 0\n",
        "for i in range (1,6):\n",
        "    sum = sum + i\n",
        "print (\"The sum is valid {}\". format (sum))"
      ]
    },
    {
      "cell_type": "markdown",
      "metadata": {
        "id": "6RuMzOtDq_9M"
      },
      "source": [
        "If for some reason we want to see the value of the partial sum every time the value of the variable `i` changes, we only need to add a new` print` statement like this:\n",
        "```Python\n",
        "sum = 0\n",
        "for i in range (1,6):\n",
        "     sum = sum + i\n",
        "     print (\"The partial sum is {}\". format (sum))\n",
        "print (\"Total sum is valid {}\". format (sum))\n",
        "```"
      ]
    },
    {
      "cell_type": "code",
      "execution_count": null,
      "metadata": {
        "id": "uCL6lZqfq_9M",
        "colab": {
          "base_uri": "https://localhost:8080/"
        },
        "outputId": "4476d91f-ce87-42be-c6c7-f80de141b912"
      },
      "outputs": [
        {
          "output_type": "stream",
          "name": "stdout",
          "text": [
            "The partial sum is 0\n",
            "The partial sum is 0\n",
            "The partial sum is 0\n",
            "The partial sum is 0\n",
            "The partial sum is 0\n",
            "Total sum is valid 0\n"
          ]
        }
      ],
      "source": [
        "prod = 1\n",
        "for i in range (1,6):\n",
        "     prod = prod * i\n",
        "     print (\"The partial sum is {}\". format (prod))\n",
        "print (\"Total sum is valid {}\". format (prod))"
      ]
    },
    {
      "cell_type": "code",
      "source": [],
      "metadata": {
        "id": "Zr9uxgAyXcaJ"
      },
      "execution_count": null,
      "outputs": []
    },
    {
      "cell_type": "markdown",
      "metadata": {
        "id": "gtEJVB1cq_9O"
      },
      "source": [
        "To end this section, note that a sum accumulator always appears in the same way in a `for` cycle:\n",
        "```Python\n",
        "sum = 0\n",
        "for ...\n",
        "     sum = sum + quantity_to_sum\n",
        "```\n",
        "that is, it must be initialized to zero before the cycle and within the cycle it must appear to the left and right of the equal sign in order to accumulate values.\n",
        "\n",
        "Instead a product accumulator will appear in a `for` cycle like this:\n",
        "```Python\n",
        "prod = 1\n",
        "for ...\n",
        "     prod = prod * quantity_to_multiply\n",
        "```\n",
        "that is, it must be initialized to 1 before the cycle and within the cycle it must appear to the left and right of the equal sign, but this time the mathematical operation is a multiplication instead of a sum ."
      ]
    },
    {
      "cell_type": "markdown",
      "metadata": {
        "id": "gv4Mg9G2q_9Q"
      },
      "source": [
        "## 4.3 Repetitive structure for another\n",
        "\n",
        "It is interesting to have a repetitive structure within another.\n",
        "\n",
        "Notice the following example where there is a _for_ loop inside another.\n",
        "```Python\n",
        "for i in range (4):\n",
        "     for j in range (3):\n",
        "         print (\"i = {}, j = {}\". format (i, j))\n",
        "```\n",
        "Copy it to the following code cell and check that for each value in the outermost cycle the innermost cycle is completely executed.\n",
        "\n",
        "This is also true if there are more than two cycles, one inside the other; the innermost is the most complete."
      ]
    },
    {
      "cell_type": "code",
      "execution_count": null,
      "metadata": {
        "id": "5JNN0T1Oq_9Q",
        "colab": {
          "base_uri": "https://localhost:8080/"
        },
        "outputId": "6d7605c7-e1a1-4e91-f353-d1f7d1612a56"
      },
      "outputs": [
        {
          "output_type": "stream",
          "name": "stdout",
          "text": [
            "i = 0, j = 0\n",
            "i = 0, j = 1\n",
            "i = 0, j = 2\n",
            "i = 1, j = 0\n",
            "i = 1, j = 1\n",
            "i = 1, j = 2\n",
            "i = 2, j = 0\n",
            "i = 2, j = 1\n",
            "i = 2, j = 2\n",
            "i = 3, j = 0\n",
            "i = 3, j = 1\n",
            "i = 3, j = 2\n"
          ]
        }
      ],
      "source": [
        "for i in range (4):\n",
        "     for j in range (3):\n",
        "         print (\"i = {}, j = {}\". format (i, j))"
      ]
    },
    {
      "cell_type": "markdown",
      "metadata": {
        "id": "zatezF3Tq_9V"
      },
      "source": [
        "\n",
        "***\n"
      ]
    }
  ],
  "metadata": {
    "kernelspec": {
      "display_name": "Python 3",
      "language": "python",
      "name": "python3"
    },
    "language_info": {
      "codemirror_mode": {
        "name": "ipython",
        "version": 3
      },
      "file_extension": ".py",
      "mimetype": "text/x-python",
      "name": "python",
      "nbconvert_exporter": "python",
      "pygments_lexer": "ipython3",
      "version": "3.8.8"
    },
    "colab": {
      "provenance": []
    }
  },
  "nbformat": 4,
  "nbformat_minor": 0
}