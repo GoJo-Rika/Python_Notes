{
  "nbformat": 4,
  "nbformat_minor": 0,
  "metadata": {
    "kernelspec": {
      "display_name": "Python 3",
      "language": "python",
      "name": "python3"
    },
    "language_info": {
      "codemirror_mode": {
        "name": "ipython",
        "version": 3
      },
      "file_extension": ".py",
      "mimetype": "text/x-python",
      "name": "python",
      "nbconvert_exporter": "python",
      "pygments_lexer": "ipython3",
      "version": "3.8.8"
    },
    "colab": {
      "provenance": []
    }
  },
  "cells": [
    {
      "cell_type": "markdown",
      "metadata": {
        "id": "NRCyh6wASEox"
      },
      "source": [
        "# S09 Numpy\n",
        "\n",
        "Mit Patel. Version: 1.00 (August 2023).\n",
        "\n",
        "***\n",
        "\n",
        "# 9. Python for scientific calculation: the NumPy module\n",
        "\n",
        "Numerical Python ([NumPy](http://www.numpy.org/)) is a key Python package for high-performance numerical computation and data analysis. It is the foundation on which most scientific tools written in Python are based.\n",
        "\n",
        "It contains, among others:\n",
        "\n",
        "- The `ndarray`: type of multidimensional variable (_object_) (called _array_, from English)\n",
        "- _Vectorized_ mathematical functions to quickly perform standard mathematical operations on entire data collections without having to type loops\n",
        "- Tools for reading / writing data to disk and working with files\n",
        "- Linear algebra tools, random number generation, and Fourier transform\n",
        "- Tools for the integration of written codes in other programming languages ​​such as C, C ++ and Fortran\n",
        "\n",
        "An _ndarray_ (or _numpy array_ or _NumPy array_) is a collection (vector, array, tensor) of data:\n",
        "\n",
        "- all of the same type and,\n",
        "- of fixed size since its creation.\n",
        "\n",
        "Remember that _lists_, on the other hand, allow you to combine different types of data and can vary in length.\n",
        "\n",
        "But these limitations allow to define many operations on the _ndarray_ and that these operations are well optimized (they are done very quickly) which has its importance in long programs.\n",
        "\n",
        "\n",
        "## 9.1 A simple example\n",
        "\n",
        "Until now, if we wanted to calculate the value of the sines of a whole list of angles in radians, we could do so for example (check it in the following cell):\n",
        "```Python\n",
        "import math\n",
        "angles = [0, math.pi / 4, math.pi / 2, 3 * math.pi / 4, math.pi] # List of angles in radians\n",
        "sin_ang = [] # An empty sine list is created\n",
        "for ang in angles: # For each angle in the list\n",
        "    res = math.sin (ang) # The sine is calculated\n",
        "    sin_ang.append (nothing) # Added to the sine list\n",
        "print (\"Angles: {}\". format (angles))\n",
        "print (\"Sinus: {}\". format (sin_ang))\n",
        "```"
      ]
    },
    {
      "cell_type": "code",
      "metadata": {
        "id": "jWDkDDZmSEo3",
        "colab": {
          "base_uri": "https://localhost:8080/"
        },
        "outputId": "0e3d1edb-cb00-4588-b1b4-827326636e62"
      },
      "source": [
        "import math\n",
        "angles = [0, math.pi / 4, math.pi / 2, 3 * math.pi / 4, math.pi] # List of angles in radians\n",
        "sin_ang = [] # An empty sine list is created\n",
        "for ang in angles: # For each angle in the list\n",
        "    res = math.sin (ang) # The sine is calculated\n",
        "    sin_ang.append (res) # Added to the sine list\n",
        "print (\"Angles: {}\". format (angles))\n",
        "print (\"Sinus: {}\". format (sin_ang))"
      ],
      "execution_count": null,
      "outputs": [
        {
          "output_type": "stream",
          "name": "stdout",
          "text": [
            "Angles: [0, 0.7853981633974483, 1.5707963267948966, 2.356194490192345, 3.141592653589793]\n",
            "Sinus: [0.0, 0.7071067811865475, 1.0, 0.7071067811865476, 1.2246467991473532e-16]\n"
          ]
        }
      ]
    },
    {
      "cell_type": "markdown",
      "metadata": {
        "id": "DPowT1NjSEo4"
      },
      "source": [
        "This way of working can be very inefficient numerically if the list has many elements (thousands or millions).\n",
        "\n",
        "A much more efficient, and easier way to encode, is to use the `numpy` module.\n",
        "\n",
        "```Python\n",
        "import numpy\n",
        "angles = [0, numpy.pi / 4, numpy.pi / 2, 3 * numpy.pi / 4, numpy.pi] # List of angles in radians\n",
        "angles = numpy.array (angles) # The list is transformed into a numpy array\n",
        "sin_ang = numpy.sin (angles) # The sine of all angles is calculated with a single instruction\n",
        "print (\"Angles: {}\". format (angles))\n",
        "print (\"Sinus: {}\". format (sin_ang))\n",
        "```\n",
        "\n",
        "Run this program in the next cell and check that the numeric values are the same."
      ]
    },
    {
      "cell_type": "code",
      "metadata": {
        "id": "WXVmgxFfSEo5",
        "colab": {
          "base_uri": "https://localhost:8080/"
        },
        "outputId": "218dfa04-793a-40dc-8a7a-ddc5fd8ea3a7"
      },
      "source": [
        "import numpy\n",
        "angles = [0, numpy.pi / 4, numpy.pi / 2, 3 * numpy.pi / 4, numpy.pi] # List of angles in radians\n",
        "angles = numpy.array (angles) # The list is transformed into a numpy array\n",
        "sin_ang = numpy.sin (angles) # The sine of all angles is calculated with a single instruction\n",
        "print (\"Angles: {}\". format (angles))\n",
        "print (\"Sinus: {}\". format (sin_ang))"
      ],
      "execution_count": null,
      "outputs": [
        {
          "output_type": "stream",
          "name": "stdout",
          "text": [
            "Angles: [0.         0.78539816 1.57079633 2.35619449 3.14159265]\n",
            "Sinus: [0.00000000e+00 7.07106781e-01 1.00000000e+00 7.07106781e-01\n",
            " 1.22464680e-16]\n"
          ]
        }
      ]
    },
    {
      "cell_type": "markdown",
      "metadata": {
        "id": "cxxWklCBSEo5"
      },
      "source": [
        "Note that the numpy module includes the `pi` number and the` sinus` function, so it is not necessary to use the `math` module here.\n",
        "\n",
        "After the `numpy.array` statement the variable _angles_ is no longer of type` list` and is a _numpy array_. This can be seen by typing its type using the `type () ` function that can be used whenever you want to check the type of a variable.\n",
        "\n",
        "Run this code snippet in the following cell to check:\n",
        "```Python\n",
        "import numpy\n",
        "angles = [0, numpy.pi / 4, numpy.pi / 2, 3 * numpy.pi / 4, numpy.pi]\n",
        "print (\"Before the numpy.array statement the type of the angle variable is:\", type (angles))\n",
        "angles = numpy.array (angles)\n",
        "print (\"After the numpy.array statement the angle variable type is:\", type (angles))\n",
        "```"
      ]
    },
    {
      "cell_type": "code",
      "metadata": {
        "id": "YerL47DJSEo6",
        "colab": {
          "base_uri": "https://localhost:8080/"
        },
        "outputId": "fdfc2e31-afb6-483a-f5a1-f0e938cf5578"
      },
      "source": [
        "import numpy\n",
        "angles = [0, numpy.pi / 4, numpy.pi / 2, 3 * numpy.pi / 4, numpy.pi]\n",
        "print (\"Before the numpy.array statement the type of the angle variable is:\", type (angles))\n",
        "angles = numpy.array (angles)\n",
        "print (\"After the numpy.array statement the angle variable type is:\", type (angles))"
      ],
      "execution_count": null,
      "outputs": [
        {
          "output_type": "stream",
          "name": "stdout",
          "text": [
            "Before the numpy.array statement the type of the angle variable is: <class 'list'>\n",
            "After the numpy.array statement the angle variable type is: <class 'numpy.ndarray'>\n"
          ]
        }
      ]
    },
    {
      "cell_type": "markdown",
      "metadata": {
        "id": "s3rDKkBQSEo6"
      },
      "source": [
        "If for some reason you want to keep the list of angles as _list_ you could do this for example:\n",
        "```Python\n",
        "import numpy\n",
        "angles = [0, numpy.pi / 4, numpy.pi / 2, 3 * numpy.pi / 4, numpy.pi] # List of angles in radians\n",
        "a_angles = numpy.array (angles) # Transforms the list into a numpy array and assigns it to a new variable\n",
        "sin_ang = numpy.sin (a_angles) # Calculates the sine of all angles with a single statement\n",
        "print (\"List of angles: {}\". format (angles))\n",
        "print (\"Angle array: {}\". format (a_angles))\n",
        "print (\"Sinus Array: {}\". format (sin_ang))\n",
        "```"
      ]
    },
    {
      "cell_type": "code",
      "metadata": {
        "id": "y2U-XGt7SEo7",
        "colab": {
          "base_uri": "https://localhost:8080/"
        },
        "outputId": "8705f71e-ebab-44b5-cb46-de4d56efeb3b"
      },
      "source": [
        "import numpy\n",
        "angles = [0, numpy.pi / 4, numpy.pi / 2, 3 * numpy.pi / 4, numpy.pi] # List of angles in radians\n",
        "a_angles = numpy.array (angles) # Transforms the list into a numpy array and assigns it to a new variable\n",
        "sin_ang = numpy.sin (a_angles) # Calculates the sine of all angles with a single statement\n",
        "print (\"List of angles: {}\". format (angles))\n",
        "print (\"Angle array: {}\". format (a_angles))\n",
        "print (\"Sinus Array: {}\". format (sin_ang))"
      ],
      "execution_count": null,
      "outputs": [
        {
          "output_type": "stream",
          "name": "stdout",
          "text": [
            "List of angles: [0, 0.7853981633974483, 1.5707963267948966, 2.356194490192345, 3.141592653589793]\n",
            "Angle array: [0.         0.78539816 1.57079633 2.35619449 3.14159265]\n",
            "Sinus Array: [0.00000000e+00 7.07106781e-01 1.00000000e+00 7.07106781e-01\n",
            " 1.22464680e-16]\n"
          ]
        }
      ]
    },
    {
      "cell_type": "markdown",
      "metadata": {
        "id": "XHGTXg49SEo7"
      },
      "source": [
        "## 9.2 Indexed variables: NumPy _ndarray_\n",
        "\n",
        "In a _ndarray_ we don't necessarily have to store numeric values, they can contain any value, but unlike lists, arrays are **homogeneous**, that is, all their elements must be of the same type. We will, however, basically work with arrays where their elements will be numeric values.\n",
        "\n",
        "In addition, each array has a shape or shape. For now we will focus on arrays (collections) **one-dimensional**. A one-dimensional or 1-dimensional array is what in mathematics we would call a `vector` and to obtain the value of one of its elements it is necessary to indicate the name of the variable and specify a single index.\n",
        "\n",
        "We will first look at how to construct these vectors and then use them."
      ]
    },
    {
      "cell_type": "markdown",
      "metadata": {
        "id": "0--V83-SSEo8"
      },
      "source": [
        "## 9.3 NumPy vectors\n",
        "\n",
        "### 9.3.1 Creating one-dimensional arrays (vectors)\n",
        "\n",
        "In this section we will see how a NumPy array can be generated. Although there are many ways, we will focus on creating _arrays_:\n",
        "\n",
        "- from a list.\n",
        "- using NumPy functions for creating arrays.\n",
        "- applying NumPy functions on pre-existing arrays.\n",
        "- using data entered by the user.\n",
        "\n",
        "#### Create a NumPy vector from a list\n",
        "\n",
        "We've seen an example before with converting a list of angles to a _numpy array_.\n",
        "\n",
        "Now we can see a couple more in the following code:\n",
        "```Python\n",
        "import numpy as np # This will put np instead of numpy\n",
        "smooth1 = [1, 2.5, 3, 4.5, 5] # List with integer and actual data\n",
        "arr1 = np.array (smooth1) # Converts the list to a numpy array\n",
        "print (arr1)\n",
        "smooth2 = [1.5, 1d + 2, 2.5, 3, 3.5] # List with integer, real, and complex data\n",
        "arr2 = np.array (smooth2) # The list is converted to a numpy array\n",
        "print (arr2)\n",
        "```\n",
        "Check it out.\n"
      ]
    },
    {
      "cell_type": "code",
      "metadata": {
        "id": "Jchu-TgvSEo8",
        "colab": {
          "base_uri": "https://localhost:8080/"
        },
        "outputId": "ec2a1fec-9656-4ca7-d3fb-ed5196a862ad"
      },
      "source": [
        "import numpy as np # This will put np instead of numpy\n",
        "smooth1 = [1, 2.5, 3, 4.5, 5] # List with integer and actual data\n",
        "arr1 = np.array (smooth1) # Converts the list to a numpy array\n",
        "print (arr1)\n",
        "smooth2 = [1.5, 1j + 2, 2.5, 3, 3.5] # List with integer, real, and complex data\n",
        "arr2 = np.array (smooth2) # The list is converted to a numpy array\n",
        "print (arr2)"
      ],
      "execution_count": null,
      "outputs": [
        {
          "output_type": "stream",
          "name": "stdout",
          "text": [
            "[1.  2.5 3.  4.5 5. ]\n",
            "[1.5+0.j 2. +1.j 2.5+0.j 3. +0.j 3.5+0.j]\n"
          ]
        }
      ]
    },
    {
      "cell_type": "markdown",
      "metadata": {
        "id": "JbguYvZmSEo9"
      },
      "source": [
        "Note that if we use a list of numeric values of different types, NumPy creates the array with the most general type (real in the first case of the example and complex in the second case)."
      ]
    },
    {
      "cell_type": "markdown",
      "metadata": {
        "id": "lb2L8ur5SEo9"
      },
      "source": [
        "#### Create a NumPy vector from scratch\n",
        "\n",
        "If we want to create a NumPy vector from scratch, without doing so from a previous list or array, we have a number of functions in the NumPy module that make it possible:\n",
        "\n",
        "**`numpy.linspace ()` function:**\n",
        "\n",
        "- The function `numpy.linspace ()` creates an array with **real** values (`float`) equally spaced between an initial and a final value.\n",
        "\n",
        "The following is an example where the result of the function is assigned to a variable \"` x` \":\n",
        "\n",
        "> ```python\n",
        "x = numpy.linspace (start, stop, num)\n",
        "```\n",
        "\n",
        "The function has **required arguments**:\n",
        "\n",
        "- `start`: initial value of the sequence (real number)\n",
        "- `stop`: final value of the sequence (real number)\n",
        "\n",
        "and an **optional argument**:\n",
        "\n",
        "- `num`: number of values that the array must contain (integer value). If no value is specified, the function defaults to 50 values."
      ]
    },
    {
      "cell_type": "markdown",
      "metadata": {
        "id": "eKcbU-xzSEo-"
      },
      "source": [
        "Here is an example where we generate an array of 21 values equally spaced between -2.0 and 2.0:\n",
        "```Python\n",
        "import numpy\n",
        "npunts = 21\n",
        "values = numpy.linspace (-2.0, 2.0, npoints)\n",
        "print (values)\n",
        "```\n",
        "\n",
        "Check how it works:"
      ]
    },
    {
      "cell_type": "code",
      "metadata": {
        "id": "VZavR2UJSEo-",
        "colab": {
          "base_uri": "https://localhost:8080/"
        },
        "outputId": "26c81d08-2748-4830-fe75-ea1bc6ea5cb0"
      },
      "source": [
        "import numpy\n",
        "npoints = 21\n",
        "values = numpy.linspace (-2.0, 2.0,5)\n",
        "print (values)"
      ],
      "execution_count": null,
      "outputs": [
        {
          "output_type": "stream",
          "name": "stdout",
          "text": [
            "[-2. -1.  0.  1.  2.]\n"
          ]
        }
      ]
    },
    {
      "cell_type": "markdown",
      "metadata": {
        "id": "X6V-OkRdSEo_"
      },
      "source": [
        "**`numpy.arange ()` function:**\n",
        "\n",
        "- The `numpy.arange ()` function behaves similarly to `range ()` in standard Python. In this case, the NumPy function generates a NumPy vector that contains a sequence of integers between the `start` value and a` stop` value (not included!) In increments of `step`. The following is an example where the result of the function is assigned to a variable \"` x` \":\n",
        "\n",
        "```python\n",
        "x = numpy.arange (start, stop, step)\n",
        "```\n",
        "\n",
        "Of the three function arguments, only `stop` is required. For optional arguments:\n",
        "\n",
        "   - `start`: we can specify the initial value of the sequence (default` start = 0`).\n",
        "   - `step`: we can specify the increment between consecutive values ​​of the sequence (default` step = 1`)\n",
        "    \n",
        "It is important to remember that, as in Python's `range ()` function, **the value of `stop` is excluded from the sequence**.\n",
        "\n",
        "The following code uses the arange () function to construct a NumPy array that contains the integer sequence 0, 1, 2, ..., 8:\n",
        "```Python\n",
        "import numpy\n",
        "vect = numpy.arange (9)\n",
        "print (vector)\n",
        "```\n",
        "Check it out."
      ]
    },
    {
      "cell_type": "code",
      "source": [
        "import numpy as np\n",
        "vect = np.linspace(11,31, 15)\n",
        "vect\n"
      ],
      "metadata": {
        "colab": {
          "base_uri": "https://localhost:8080/"
        },
        "id": "5ndj6y_Wc9D-",
        "outputId": "adab5ca7-e9b8-4a97-f821-71b3f001f643"
      },
      "execution_count": null,
      "outputs": [
        {
          "output_type": "execute_result",
          "data": {
            "text/plain": [
              "array([11.        , 12.42857143, 13.85714286, 15.28571429, 16.71428571,\n",
              "       18.14285714, 19.57142857, 21.        , 22.42857143, 23.85714286,\n",
              "       25.28571429, 26.71428571, 28.14285714, 29.57142857, 31.        ])"
            ]
          },
          "metadata": {},
          "execution_count": 10
        }
      ]
    },
    {
      "cell_type": "code",
      "metadata": {
        "id": "ICrBrlP-SEo_",
        "colab": {
          "base_uri": "https://localhost:8080/"
        },
        "outputId": "49ee9041-53fd-4881-fe32-355b78487b6d"
      },
      "source": [
        "import numpy\n",
        "vect = numpy.arange (9)\n",
        "print (vect)"
      ],
      "execution_count": null,
      "outputs": [
        {
          "output_type": "stream",
          "name": "stdout",
          "text": [
            "[0 1 2 3 4 5 6 7 8]\n"
          ]
        }
      ]
    },
    {
      "cell_type": "code",
      "source": [
        "import numpy\n",
        "vect = numpy.arange (0,9,3)\n",
        "print (vect)"
      ],
      "metadata": {
        "colab": {
          "base_uri": "https://localhost:8080/"
        },
        "id": "Q-WZmO9Wi7iU",
        "outputId": "4a34eda8-72ed-405a-8a44-d4fda892aa14"
      },
      "execution_count": null,
      "outputs": [
        {
          "output_type": "stream",
          "name": "stdout",
          "text": [
            "[0 3 6]\n"
          ]
        }
      ]
    },
    {
      "cell_type": "markdown",
      "metadata": {
        "id": "fU9-nFMNSEo_"
      },
      "source": [
        "**Functions for creating NumPy vectors with zeros or ones:**\n",
        "\n",
        "There are other features worth mentioning that can be very useful for generating an array from scratch:\n",
        "\n",
        "- The instruction **`numpy.zeros (num)`** generates a vector of length `num` where all components have the value zero.\n",
        "\n",
        "- Similarly, the function **`numpy.ones (num)`** generates the length vector `num` and all components of value 1.\n",
        "\n",
        "The following code generates a 25-component NumPy vector, all of which are initially zero.\n",
        "```Python\n",
        "import numpy\n",
        "x = numpy.zeros (25)\n",
        "print (x)\n",
        "```\n",
        "\n",
        "Run it to see the result."
      ]
    },
    {
      "cell_type": "code",
      "metadata": {
        "id": "cZfgrLbpSEpA",
        "colab": {
          "base_uri": "https://localhost:8080/"
        },
        "outputId": "5d7ff304-d9e1-4741-8257-281aa41101f8"
      },
      "source": [
        "import numpy as np\n",
        "x = np.zeros (5)\n",
        "print (x)"
      ],
      "execution_count": null,
      "outputs": [
        {
          "output_type": "stream",
          "name": "stdout",
          "text": [
            "[0. 0. 0. 0. 0.]\n"
          ]
        }
      ]
    },
    {
      "cell_type": "markdown",
      "metadata": {
        "id": "aIkDYws4SEpA"
      },
      "source": [
        "**Exercise:** Following the example in the previous cell, then generate a vector of 10 components, all of them initially equal to 1, and assign it to a variable `y`. Enter the value of `y`:"
      ]
    },
    {
      "cell_type": "code",
      "metadata": {
        "id": "NKXKNrQmSEpB"
      },
      "source": [],
      "execution_count": null,
      "outputs": []
    },
    {
      "cell_type": "markdown",
      "metadata": {
        "id": "XifyWlnFSEpB"
      },
      "source": [
        "#### Create a NumPy array by applying a function to an existing NumPy array\n",
        "\n",
        "_Arrays_ can also be obtained by applying a NumPy function to a pre-existing array.\n",
        "\n",
        "In the example of the beginning we applied the function `numpy.sin ()` to the array `angles` and its result,` sin_ang`, was of type `numpy.ndarray`."
      ]
    },
    {
      "cell_type": "markdown",
      "metadata": {
        "id": "p2_I-lXpSEpB"
      },
      "source": [
        "#### Create a NumPy vector from user-entered data\n",
        "\n",
        "To create numpy vectors with user-entered data we have different options:\n",
        "\n",
        "1) Create a list with the data entered by the user one by one and then convert the list to NumPy array.\n",
        "\n",
        "Here's an example (run it in the following cell):\n",
        "```Python\n",
        "import numpy\n",
        "nel = int (input (\"Enter the number of elements in the vector:\"))\n",
        "lvec = [] # we create an empty list\n",
        "for i in range (in):\n",
        "     comp = input (\"Enter the value of component {}:\" .format (i))\n",
        "     lvec.append (float (comp)) # convert it to real and add it to lvec\n",
        "vec = numpy.array (lvec) # we create an array from the list\n",
        "print (old)\n",
        "```"
      ]
    },
    {
      "cell_type": "code",
      "metadata": {
        "id": "GFVk3wYZSEpC",
        "colab": {
          "base_uri": "https://localhost:8080/"
        },
        "outputId": "8ca6235c-932d-4d1f-9093-3da07f5f2215"
      },
      "source": [
        "import numpy\n",
        "nel = int (input (\"Enter the number of elements in the vector:\"))\n",
        "lvec = [] # we create an empty list\n",
        "for i in range (nel):\n",
        "     comp = input (\"Enter the value of component {}:\" .format (i))\n",
        "     lvec.append (float (comp)) # convert it to real and add it to lvec\n",
        "vec = numpy.array (lvec) # we create an array from the list\n",
        "print (vec)"
      ],
      "execution_count": null,
      "outputs": [
        {
          "output_type": "stream",
          "name": "stdout",
          "text": [
            "Enter the number of elements in the vector:6\n",
            "Enter the value of component 0:-1\n",
            "Enter the value of component 1:3\n",
            "Enter the value of component 2:5\n",
            "Enter the value of component 3:7\n",
            "Enter the value of component 4:0\n",
            "Enter the value of component 5:-1\n",
            "[-1.  3.  5.  7.  0. -1.]\n"
          ]
        }
      ]
    },
    {
      "cell_type": "markdown",
      "metadata": {
        "id": "jarNI7vZSEpC"
      },
      "source": [
        "**Note**: We take this opportunity to highlight the possibility of writing a variable value by including `{}` and `format` in the input statement, which is great for indicating which element of the vector is requested to be entered ."
      ]
    },
    {
      "cell_type": "markdown",
      "metadata": {
        "id": "hneAJ00MSEpD"
      },
      "source": [
        "2) Create a numpy vector initially filled with zeros (`numpy.zeros ()`) and then assign the values, component by component with the data entered by the user one by one.\n",
        "\n",
        "Below is the same example as before but reading the values directly as components of the array:\n",
        "```Python\n",
        "import numpy\n",
        "nel = int (input (\"Enter the number of elements in the vector:\"))\n",
        "vec = numpy.zeros (nel) # We create the vector with zeros as components\n",
        "for i in range (nel):\n",
        "     comp = input (\"Enter the value of component {}:\" .format (i))\n",
        "     vec [i] = float (comp) # we convert it to real and assign it to the \"i\" component of vec\n",
        "print (vec)\n",
        "```"
      ]
    },
    {
      "cell_type": "code",
      "metadata": {
        "id": "qxGh-YsQSEpD",
        "colab": {
          "base_uri": "https://localhost:8080/"
        },
        "outputId": "6a132931-3dcd-4037-ee20-b19f9f119a06"
      },
      "source": [
        "import numpy\n",
        "nel = int (input (\"Enter the number of elements in the vector:\"))\n",
        "vec = numpy.zeros (nel) # We create the vector with zeros as components\n",
        "for i in range (nel):\n",
        "     comp = input (\"Enter the value of component {}:\" .format (i))\n",
        "     vec [i] = float (comp) # we convert it to real and assign it to the \"i\" component of vec\n",
        "print (vec)"
      ],
      "execution_count": null,
      "outputs": [
        {
          "output_type": "stream",
          "name": "stdout",
          "text": [
            "Enter the number of elements in the vector:3\n",
            "Enter the value of component 0:1\n",
            "Enter the value of component 1:8\n",
            "Enter the value of component 2:4\n",
            "[1. 8. 4.]\n"
          ]
        }
      ]
    },
    {
      "cell_type": "markdown",
      "metadata": {
        "id": "PjiIrQmySEpD"
      },
      "source": [
        "In this last example we have made use of the indexing of NumPy vectors which, although very similar to that of lists, we have not yet seen and will deal with in a moment."
      ]
    },
    {
      "cell_type": "markdown",
      "metadata": {
        "id": "BWQuS1ChSEpE"
      },
      "source": [
        "3) Enter multiple numeric data all on the same line, separate them into a list, and convert the list into a numpy vector with the instruction `numpy.float _ ()`\n",
        "\n",
        "Check with the following code:\n",
        "```Python\n",
        "import numpy\n",
        "lin = input (\"Enter the components of a vector in a line:\")\n",
        "smooth = lin.split () # separates the line considering the targets\n",
        "vec = numpy.float_ (smooth) # look at the _ back of the numpy float\n",
        "print (\"List: {}\". format (smooth))\n",
        "print (\"Vector: {}\". format (old))\n",
        "```"
      ]
    },
    {
      "cell_type": "code",
      "metadata": {
        "id": "sN7pT2LeSEpE",
        "colab": {
          "base_uri": "https://localhost:8080/"
        },
        "outputId": "e709184d-f3e4-49a2-cc89-6995ce2f6b39"
      },
      "source": [
        "import numpy\n",
        "lin = input (\"Enter the components of a vector in a line:\")\n",
        "smooth = lin.split () # separates the line considering the targets\n",
        "vec = numpy.float_ (smooth) # look at the _ back of the numpy float\n",
        "print (\"List: {}\". format (smooth))\n",
        "print (\"Vector: {}\". format (vec))"
      ],
      "execution_count": null,
      "outputs": [
        {
          "output_type": "stream",
          "name": "stdout",
          "text": [
            "Enter the components of a vector in a line:6 1 5.6 1.2 3 8\n",
            "List: ['6', '1', '5.6', '1.2', '3', '8']\n",
            "Vector: [6.  1.  5.6 1.2 3.  8. ]\n"
          ]
        }
      ]
    },
    {
      "cell_type": "markdown",
      "metadata": {
        "id": "s2dQB6l3SEpE"
      },
      "source": [
        "4) Read data from a file. We will see this variant in a future session."
      ]
    },
    {
      "cell_type": "markdown",
      "metadata": {
        "id": "oasr5SxnSEpE"
      },
      "source": [
        "### 9.3.2 Dimensions of a NumPy array\n",
        "\n",
        "Once we have created a NumPy array we can find out about its **attributes** (properties) using a syntax similar to that of methods (but note that there are no arguments or parentheses):\n",
        "\n",
        "```python\n",
        "x.attribute_name\n",
        "```\n",
        "\n",
        "where the `attribute_name` changes depending on what we want to know:\n",
        "\n",
        "- `ndim`: number of dimensions (1 in the case of vectors, 2 for matrices, etc.).\n",
        "- `shape`: shape of the array, is the number of elements in each dimension (for example number of components in a vector, number of rows and columns in an array).\n",
        "- `size`: the total number of elements in the array."
      ]
    },
    {
      "cell_type": "markdown",
      "metadata": {
        "id": "00NOWxK2SEpF"
      },
      "source": [
        "Observe the contents of the following code in detail and then run it.\n",
        "```Python\n",
        "import numpy\n",
        "x = numpy.linspace (-1, 1, 21) # We create the vector\n",
        "n_dim = x.ndim\n",
        "print (\"Number of dimensions: {}\". format (n_dim))\n",
        "n_size = x.size\n",
        "print (\"Number of components obtained with .size: {}\". format (n_size))\n",
        "print (\"Number of elements in each dimension obtained with .shape: {}\". format (x.shape))\n",
        "long = len (x)\n",
        "print (\"Number of components obtained with len: {}\" .format (long))\n",
        "```"
      ]
    },
    {
      "cell_type": "code",
      "metadata": {
        "id": "ClQs6xl3SEpF",
        "colab": {
          "base_uri": "https://localhost:8080/"
        },
        "outputId": "371e3942-7187-4257-a7b4-e3486a2c80fa"
      },
      "source": [
        "import numpy\n",
        "x = numpy.linspace (-1, 1, 21) # We create the vector\n",
        "n_dim = x.ndim\n",
        "print (\"Number of dimensions: {}\". format (n_dim))\n",
        "n_size = x.size\n",
        "print (\"Number of components obtained with .size: {}\". format (n_size))\n",
        "print (\"Number of elements in each dimension obtained with .shape: {}\". format (x.shape))\n",
        "long = len (x)\n",
        "print (\"Number of components obtained with len: {}\" .format (long))"
      ],
      "execution_count": null,
      "outputs": [
        {
          "output_type": "stream",
          "name": "stdout",
          "text": [
            "Number of dimensions: 1\n",
            "Number of components obtained with .size: 21\n",
            "Number of elements in each dimension obtained with .shape: (21,)\n",
            "Number of components obtained with len: 21\n"
          ]
        }
      ]
    },
    {
      "cell_type": "markdown",
      "metadata": {
        "id": "SUO64jbTSEpG"
      },
      "source": [
        "Note that in the case of a vector the number of components can be obtained with both _.size_ and _len ()_."
      ]
    },
    {
      "cell_type": "markdown",
      "metadata": {
        "id": "MQjX-eunSEpG"
      },
      "source": [
        "### 9.3.3 Indexing\n",
        "\n",
        "An individual element or subset (_slice_) can be selected from a NumPy array in multiple ways. The case of one-dimensional arrays is very simple, apparently there are no differences with that of Python lists."
      ]
    },
    {
      "cell_type": "markdown",
      "metadata": {
        "id": "xd4iySeTSEpH"
      },
      "source": [
        "#### Individual elements of a NumPy array\n",
        "\n",
        "To obtain a specific value contained in a NumPy vector **we need to specify the name of the variable and, in brackets, the index** (the position it occupies in the _ndarray_). Attention! It should be borne in mind that, as in the case of lists, the first element occupies the zero position.\n",
        "\n",
        "In the following example we get the value of the seventh element (value 6 of the index) of the variable `vec`:\n",
        "```Python\n",
        "import numpy\n",
        "vec = numpy.linspace (-1,1,11) # We generate a vector with 11 equally spaced values between -1 and 1\n",
        "print (old)\n",
        "print (old [6])\n",
        "```\n",
        "Check it out"
      ]
    },
    {
      "cell_type": "code",
      "metadata": {
        "id": "in26OrQySEpH",
        "colab": {
          "base_uri": "https://localhost:8080/"
        },
        "outputId": "3acab60c-f23b-411b-8f71-238276dd6fb8"
      },
      "source": [
        "import numpy\n",
        "vec = numpy.linspace (-1,1,11) # We generate a vector with 11 equally spaced values between -1 and 1\n",
        "print (vec)\n",
        "print (vec [6])"
      ],
      "execution_count": null,
      "outputs": [
        {
          "output_type": "stream",
          "name": "stdout",
          "text": [
            "[-1.  -0.8 -0.6 -0.4 -0.2  0.   0.2  0.4  0.6  0.8  1. ]\n",
            "0.20000000000000018\n"
          ]
        }
      ]
    },
    {
      "cell_type": "markdown",
      "metadata": {
        "id": "Kq4c8WwmSEpH"
      },
      "source": [
        "#### Slices of NumPy arrays\n",
        "\n",
        "To obtain a _slice_ (segment or subset) of a NumPy vector (one-dimensional array) we can use the same syntax as in the case of lists.\n",
        "\n",
        "```python\n",
        "vec [start:end:step] # \"slice\" from \"vec\" position to \"end\" position with \"step\" jumps\n",
        "vec [start:end] # all items from \"vec\" from \"start\" to \"end-1\"\n",
        "vec [start:] # all elements of \"vec\" from \"start\" to FINAL\n",
        "vec [:end] # all items from \"vec\" from FIRST to \"end-1\"\n",
        "vec [:] # the whole vector\n",
        "```\n",
        "\n",
        "Attention! It is very important to note that **if the final slice limit is specified, it is excluded from the result**.\n",
        "\n",
        "Check this by running this code in the following cell:\n",
        "```Python\n",
        "import numpy\n",
        "vec = numpy.linspace (-1,1,11) # We generate a vector with 11 equally spaced values between -1 and 1\n",
        "print (vec) # The whole vector\n",
        "print (see [3: 6]) # Items with index 3, 4, and 5\n",
        "```"
      ]
    },
    {
      "cell_type": "code",
      "metadata": {
        "id": "jLMveK2cSEpI",
        "colab": {
          "base_uri": "https://localhost:8080/"
        },
        "outputId": "5710fe9f-a001-4ab3-9cf4-5bfb5e07fdb3"
      },
      "source": [
        "import numpy\n",
        "vec = numpy.linspace (-1,1,11) # We generate a vector with 11 equally spaced values between -1 and 1\n",
        "print (vec) # The whole vector\n",
        "print (vec [3: 6]) # Items with index 3, 4, and 5"
      ],
      "execution_count": null,
      "outputs": [
        {
          "output_type": "stream",
          "name": "stdout",
          "text": [
            "[-1.  -0.8 -0.6 -0.4 -0.2  0.   0.2  0.4  0.6  0.8  1. ]\n",
            "[-0.4 -0.2  0. ]\n"
          ]
        }
      ]
    },
    {
      "cell_type": "markdown",
      "metadata": {
        "id": "tsu69z6iSEpI"
      },
      "source": [
        "#### Assigning values to NumPy vector elements\n",
        "\n",
        "As with lists, we can modify an element (a component) of the NumPy array by specifying its index and making the corresponding assignment.\n",
        "\n",
        "Please read this example in detail and run it in the following cell:\n",
        "```Python\n",
        "import numpy\n",
        "vec = numpy.linspace (-1,1,11) # We generate a vector with 11 equally spaced values between -1 and 1\n",
        "print (\"Vector generated by linspace: {}\". format (vec))\n",
        "vec [5] = 11.0\n",
        "print (\"Vector after first assignment: {}\". format (vec))\n",
        "vec [: 3] = [12.0, 13.0, 14.0]\n",
        "print (\"Vector after second assignment: {}\". format (vec))\n",
        "```"
      ]
    },
    {
      "cell_type": "code",
      "metadata": {
        "id": "Y4DygQwNSEpI",
        "colab": {
          "base_uri": "https://localhost:8080/"
        },
        "outputId": "5082a97a-7c17-42c9-f31e-a7182e74eb5e"
      },
      "source": [
        "import numpy\n",
        "vec = numpy.linspace (-1,1,11) # We generate a vector with 11 equally spaced values between -1 and 1\n",
        "print (\"Vector generated by linspace: {}\". format (vec))\n",
        "vec [5] = 11.0\n",
        "print (\"Vector after first assignment: {}\". format (vec))\n",
        "vec [: 3] = [12.0, 13.0, 14.0]\n",
        "print (\"Vector after second assignment: {}\". format (vec))"
      ],
      "execution_count": null,
      "outputs": [
        {
          "output_type": "stream",
          "name": "stdout",
          "text": [
            "Vector generated by linspace: [-1.  -0.8 -0.6 -0.4 -0.2  0.   0.2  0.4  0.6  0.8  1. ]\n",
            "Vector after first assignment: [-1.  -0.8 -0.6 -0.4 -0.2 11.   0.2  0.4  0.6  0.8  1. ]\n",
            "Vector after second assignment: [12.  13.  14.  -0.4 -0.2 11.   0.2  0.4  0.6  0.8  1. ]\n"
          ]
        }
      ]
    },
    {
      "cell_type": "markdown",
      "metadata": {
        "id": "w-WFGk6oSEpI"
      },
      "source": [
        "#### Copy a numpy array (or slice) to another numpy array\n",
        "\n",
        "As we saw in the case of the lists, if you have a numpy array _a_ and want to copy to another numpy array _b_ it is not advisable to do\n",
        "\n",
        "```Python\n",
        "b = a\n",
        "```\n",
        "\n",
        "If this is done, the result of working with a and b may not be as expected (Python considers the vector to be unique and can be accessed with both the name _a_ and the name _b_ so that if n change one, change the other too!). And the same goes for a slice instead of _a_ integer.\n",
        "\n",
        "If you want to make sure you have a separate copy, you can:\n",
        "\n",
        "```python\n",
        "b = a.copy ()\n",
        "```\n",
        "or\n",
        "\n",
        "```python\n",
        "b = numpy.array (a)\n",
        "```"
      ]
    },
    {
      "cell_type": "markdown",
      "metadata": {
        "id": "JhpgZxo3SEpJ"
      },
      "source": [
        "## 9.4 Arithmetic operations with NumPy vectors\n",
        "\n",
        "Operations between two NumPy vectors (and two NumPy arrays in general) are performed **element by element**, the first element of one with the first element of the other, the second of one with the second of l 'other, ...\n",
        "\n",
        "In the following example we do simple arithmetic operations between two NumPy vectors.\n",
        "```Python\n",
        "import numpy\n",
        "arr1 = numpy.linspace (0,20,5) # A 5-component vector is created\n",
        "print (\"Primer array\", arr1)\n",
        "arr2 = numpy.linspace (20,40,5) # Another 5-component vector\n",
        "print (\"Second array\", arr2)\n",
        "# sum of arrays\n",
        "dif = arr1 + arr2\n",
        "print (\"Sum:\", diff)\n",
        "# array difference\n",
        "dif = arr1 - arr2\n",
        "print (\"Difference:\", diff)\n",
        "# array product\n",
        "prod = arr1 * arr2\n",
        "print (\"Product:\", prod)\n",
        "# quotient of arrays\n",
        "quo = arr1 / arr2\n",
        "print (\"Quocient:\", quo)\n",
        "```\n",
        "\n",
        "Observe in detail what it does and run it:"
      ]
    },
    {
      "cell_type": "code",
      "metadata": {
        "id": "8jZGAw1tSEpJ",
        "colab": {
          "base_uri": "https://localhost:8080/"
        },
        "outputId": "e05ce94f-1b52-436d-b82a-7b9bf11856c4"
      },
      "source": [
        "import numpy\n",
        "arr1 = numpy.linspace (0,20,5) # A 5-component vector is created\n",
        "print (\"Primer array\", arr1)\n",
        "arr2 = numpy.linspace (20,40,5) # Another 5-component vector\n",
        "print (\"Second array\", arr2)\n",
        "# sum of arrays\n",
        "dif = arr1 + arr2\n",
        "print (\"Sum:\", dif)\n",
        "# array difference\n",
        "dif = arr1 - arr2\n",
        "print (\"Difference:\", dif)\n",
        "# array product\n",
        "prod = arr1 * arr2\n",
        "print (\"Product:\", prod)\n",
        "# quotient of arrays\n",
        "quo = arr1 / arr2\n",
        "print (\"Quocient:\", quo)"
      ],
      "execution_count": null,
      "outputs": [
        {
          "output_type": "stream",
          "name": "stdout",
          "text": [
            "Primer array [ 0.  5. 10. 15. 20.]\n",
            "Second array [20. 25. 30. 35. 40.]\n",
            "Sum: [20. 30. 40. 50. 60.]\n",
            "Difference: [-20. -20. -20. -20. -20.]\n",
            "Product: [  0. 125. 300. 525. 800.]\n",
            "Quocient: [0.         0.2        0.33333333 0.42857143 0.5       ]\n"
          ]
        }
      ]
    },
    {
      "cell_type": "markdown",
      "metadata": {
        "id": "wH96VLDvSEpJ"
      },
      "source": [
        "Note that:\n",
        "\n",
        "- As we have already said, the operations are carried out element by element\n",
        "- Its result is a NumPy array and has the same dimensions as its operands.\n",
        "\n",
        "**Caution:** In general, if we do operations between NumPy vectors that do NOT have the same number of elements we will get a runtime error."
      ]
    },
    {
      "cell_type": "markdown",
      "metadata": {
        "id": "gJyDaqIOSEpJ"
      },
      "source": [
        "**Arithmetic operations can also be performed between a scalar and a vector**. The result is the operation of each element of the vector with the scalar.\n",
        "\n",
        "Check with the following code:\n",
        "```Python\n",
        "import numpy\n",
        "arr = numpy.linspace (0,20,5)\n",
        "print (arr)\n",
        "arr2 = 3 * arr\n",
        "print (arr2)\n",
        "```\n",
        "Run it in the following cell and study the result:"
      ]
    },
    {
      "cell_type": "code",
      "metadata": {
        "id": "x4SvUnNsSEpK",
        "colab": {
          "base_uri": "https://localhost:8080/"
        },
        "outputId": "1006a2d7-8ff0-47f7-9430-08abe8f783b9"
      },
      "source": [
        "import numpy\n",
        "arr = numpy.linspace (0,20,5)\n",
        "print (arr)\n",
        "arr2 = 3 * arr\n",
        "print (arr2)"
      ],
      "execution_count": null,
      "outputs": [
        {
          "output_type": "stream",
          "name": "stdout",
          "text": [
            "[ 0.  5. 10. 15. 20.]\n",
            "[ 0. 15. 30. 45. 60.]\n"
          ]
        }
      ]
    },
    {
      "cell_type": "markdown",
      "metadata": {
        "id": "RDyKyY40SEpK"
      },
      "source": [
        "\n",
        "## 9.5 Efficient Array Calculation: Universal Functions\n",
        "\n",
        "_Universal functions_, known as **ufuncs** are a very prominent element of NumPy. A _ufunc_ is a function that, if applied to a scalar, produces a scalar, but if applied to a NumPy vector, it results in an array of the same size, obtained by applying the function to each of its elements.\n",
        "\n",
        "The following [link](http://docs.scipy.org/doc/numpy/reference/ufuncs.html) provides a description of all _ufuncs_. Some of the most interesting are:\n",
        "\n",
        "- Mathematical functions: `log`,` log10`, `exp`, ...\n",
        "- Trigonometric functions: `body`,` sin`, `tan`, ...\n"
      ]
    },
    {
      "cell_type": "markdown",
      "metadata": {
        "id": "4yyATngzSEpK"
      },
      "source": [
        "At the beginning of this notebook we actually used a _ufunc_, `numpy.sin ()`, to calculate the sine of an angle array that we got from a list.\n",
        "\n",
        "Now, in another example, we will do the same with numpy.cos but we will get the angle array beforehand with the `numpy.linspace` function.\n",
        "```Python\n",
        "import numpy\n",
        "angles = numpy.linspace (0, numpy.pi, 5) # Vector of angles (same as in the first example)\n",
        "print (angles)\n",
        "cos_ang = numpy.cos (angles) # The cosine of all of them is calculated with a single instruction\n",
        "print (cos_ang)\n",
        "```\n",
        "\n",
        "Run the following cell and observe how it works:"
      ]
    },
    {
      "cell_type": "code",
      "metadata": {
        "id": "H92fwvrKSEpK",
        "colab": {
          "base_uri": "https://localhost:8080/"
        },
        "outputId": "d499fecd-2e6e-4c58-ea2e-c6d5f64af692"
      },
      "source": [
        "import numpy\n",
        "angles = numpy.linspace (0, numpy.pi, 5) # Vector of angles (same as in the first example)\n",
        "print (angles)\n",
        "cos_ang = numpy.cos (angles) # The cosine of all of them is calculated with a single instruction\n",
        "print (cos_ang)"
      ],
      "execution_count": null,
      "outputs": [
        {
          "output_type": "stream",
          "name": "stdout",
          "text": [
            "[0.         0.78539816 1.57079633 2.35619449 3.14159265]\n",
            "[ 1.00000000e+00  7.07106781e-01  6.12323400e-17 -7.07106781e-01\n",
            " -1.00000000e+00]\n"
          ]
        }
      ]
    },
    {
      "cell_type": "markdown",
      "metadata": {
        "id": "xmHvVsQySEpL"
      },
      "source": [
        "## 9.6 Array Statistics\n",
        "\n",
        "The NumPy module incorporates a series of functions that allow the statistical analysis of a data collection in an efficient way and using a very compact notation. Specifically, we highlight the functions:\n",
        "\n",
        "- `numpy.min ()` provides the minimum value of the array\n",
        "- `numpy.argmin ()` returns the **position** (index) that occupies the minimum value within the array\n",
        "- `numpy.max ()` provides the maximum value of the array\n",
        "- `numpy.argmax ()` returns the **position** (index) that occupies the maximum value within the array\n",
        "- `numpy.mean ()` provides the [arithmetic mean](https://en.wikipedia.org/wiki/Arithmetic_mean) of the array values\n",
        "- `numpy.var ()` provides the [variance](https://en.wikipedia.org/wiki/Variance) of the array values\n",
        "- `numpy.std ()` provides the [standard deviation](https://en.wikipedia.org/wiki/Standard_deviation)\n",
        "- `numpy.sum ()` returns the sum of all values ​​in the array\n",
        "- `numpy.prod ()` returns the producer of all values ​​in the array\n",
        "\n",
        "In all these functions the first argument is the name of the variable that contains the NumPy array.\n",
        "\n",
        "You can see the use of some of these features by running this code in the following cell:\n",
        "```Python\n",
        "import numpy\n",
        "# The following statement is used to generate a vector of 10 random data\n",
        "# Each time it runs it gives different values\n",
        "values ​​= numpy.random.random (10) # 10 random values ​​in the range [0,1)\n",
        "print (\"Values: {}\". format (values))\n",
        "val_max = numpy.max (values) # Maximum value of vector components\n",
        "print (\"Maximum value: {}\". format (max_value))\n",
        "pos_max = numpy.argmax (values) # Position of the maximum value in the vector (starting with 0)\n",
        "print (\"Maximum value index: {}\". format (pos_max))\n",
        "val_min = numpy.min (values) # Minimum value of vector components\n",
        "print (\"Minimum value: {}\". format (val_min))\n",
        "pos_min = numpy.argmin (values) # Minimum value position in vector (starting with 0)\n",
        "print (\"Minimum value index: {}\". format (pos_min))\n",
        "```\n",
        "\n",
        "Try it several times."
      ]
    },
    {
      "cell_type": "code",
      "metadata": {
        "id": "HdJ3V78hSEpL",
        "colab": {
          "base_uri": "https://localhost:8080/"
        },
        "outputId": "29655612-bf51-49af-a920-ee48ece34640"
      },
      "source": [
        "import numpy\n",
        "# The following statement is used to generate a vector of 10 random data\n",
        "# Each time it runs it gives different values\n",
        "values = numpy.random.random (10) # 10 random values ​​in the range [0,1)\n",
        "print (\"Values: {}\". format (values))\n",
        "val_max = numpy.max (values) # Maximum value of vector components\n",
        "print (\"Maximum value: {}\". format (val_max))\n",
        "pos_max = numpy.argmax (values) # Position of the maximum value in the vector (starting with 0)\n",
        "print (\"Maximum value index: {}\". format (pos_max))\n",
        "val_min = numpy.min (values) # Minimum value of vector components\n",
        "print (\"Minimum value: {}\". format (val_min))\n",
        "pos_min = numpy.argmin (values) # Minimum value position in vector (starting with 0)\n",
        "print (\"Minimum value index: {}\". format (pos_min))"
      ],
      "execution_count": null,
      "outputs": [
        {
          "output_type": "stream",
          "name": "stdout",
          "text": [
            "Values: [0.61456012 0.01615299 0.55466334 0.39362083 0.34181736 0.30084242\n",
            " 0.73275871 0.72513693 0.50013746 0.80286394]\n",
            "Maximum value: 0.8028639377239485\n",
            "Maximum value index: 9\n",
            "Minimum value: 0.016152987682307773\n",
            "Minimum value index: 1\n"
          ]
        }
      ]
    },
    {
      "cell_type": "markdown",
      "metadata": {
        "id": "OfnUxEuUSEpL"
      },
      "source": [
        "## 9.7. NumPy : Matrices\n"
      ]
    },
    {
      "cell_type": "markdown",
      "metadata": {
        "id": "Ne7uat6OSEpL"
      },
      "source": [
        "An array is a two-dimensional array like this:\n",
        "\n",
        "\n",
        "$$\n",
        "\\left ( \\begin{array}{cccc}\n",
        "3 & 4 & 7 & 8 \\\\ 6 & 1 & 0 & 3 \\\\ 11 & 9 & 7 & 5\n",
        "\\end{array} \\right )\n",
        "$$\n",
        "\n",
        "where you have an array of 3 rows and 4 columns (we also say it is a 3x4 array)."
      ]
    },
    {
      "cell_type": "markdown",
      "metadata": {
        "id": "3vrTIILRSEpM"
      },
      "source": [
        "### 9.7.1 Creating arrays from NumPy functions\n",
        "\n",
        "\n",
        "- The function `numpy.zeros (nfil, ncol))` generates an array (two-dimensional array) where all components have the value zero (real). _nfil_ indicates the number of rows and _ncol_ the number of columns.\n",
        "\n",
        "- The `numpy.ones (nfil, ncol))` function does the same thing but with all components with the value 1 (real).\n",
        "\n",
        "Note that there is **a double parenthesis game**, which was not necessary in the case of a vector.\n",
        "\n",
        "For example, the following instructions generate a 3x4 array where all elements are zero and a 5x4 array where all elements are ones:\n",
        "```Python\n",
        "import numpy\n",
        "mat_A = numpy.zeros((3,4))\n",
        "print (\"Matrice A\")\n",
        "print(mat_A)\n",
        "mat_B = numpy.ones((5,4))\n",
        "print (\"Matrice B\")\n",
        "print(mat_B)\n",
        "```\n",
        "Check it in the following cell:"
      ]
    },
    {
      "cell_type": "code",
      "metadata": {
        "id": "-1xp8SEASEpM",
        "colab": {
          "base_uri": "https://localhost:8080/"
        },
        "outputId": "0c650dcb-e0f2-4594-b24a-5e1e72eaa754"
      },
      "source": [
        "import numpy\n",
        "mat_A = numpy.zeros((3,4))\n",
        "print (\"Matrice A\")\n",
        "print(mat_A)\n",
        "mat_B = numpy.ones((5,4))\n",
        "print (\"Matrice B\")\n",
        "print(mat_B)"
      ],
      "execution_count": null,
      "outputs": [
        {
          "output_type": "stream",
          "name": "stdout",
          "text": [
            "Matrice A\n",
            "[[0. 0. 0. 0.]\n",
            " [0. 0. 0. 0.]\n",
            " [0. 0. 0. 0.]]\n",
            "Matrice B\n",
            "[[1. 1. 1. 1.]\n",
            " [1. 1. 1. 1.]\n",
            " [1. 1. 1. 1.]\n",
            " [1. 1. 1. 1.]\n",
            " [1. 1. 1. 1.]]\n"
          ]
        }
      ]
    },
    {
      "cell_type": "markdown",
      "metadata": {
        "id": "h6gag7xpSEpM"
      },
      "source": [
        "### 9.7.2 Create arrays from user-entered data\n",
        "\n",
        "We have seen before that to create _arrays_ with data entered by the user we have different options:\n",
        "\n",
        "1. Create a list as we read the data and then convert the list to NumPy array.\n",
        "2. Create an array full of zeros (`numpy.zeros`) or ones (` numpy.ones`) and then assign the values, component by component.\n",
        "3. Read the data in a file. We will see this variant in another session.\n",
        "\n",
        "Let's look at an example of the second option where we build a 4x3 array from data entered by the user.\n",
        "\n",
        "```Python\n",
        "import numpy\n",
        "mat = numpy.zeros((4,3))   # We create the matrice 4x3, all zeros\n",
        "\n",
        "for i in range(4):         # Cycle over the rows of the matrix\n",
        "    for j in range(3):     # Cycle over the columns of the matrix\n",
        "        mat[i,j] = float(input(\"Introduce the value of the element {},{}: \".format(i,j)))   # Enter the value\n",
        "\n",
        "print(mat)\n",
        "```\n",
        "Run it to see how it works:"
      ]
    },
    {
      "cell_type": "code",
      "metadata": {
        "id": "dF9q-OWcSEpM",
        "colab": {
          "base_uri": "https://localhost:8080/"
        },
        "outputId": "4c8945e3-09e1-4c85-ed1f-846887b7e828"
      },
      "source": [
        "import numpy\n",
        "mat = numpy.zeros((4,3))   # We create the matrice 4x3, all zeros\n",
        "\n",
        "for i in range(4):         # Cycle over the rows of the matrix\n",
        "    for j in range(3):     # Cycle over the columns of the matrix\n",
        "        mat[i,j] = float(input(\"Introduce the value of the element {},{}: \".format(i,j)))   # Enter the value\n",
        "\n",
        "print(mat)"
      ],
      "execution_count": null,
      "outputs": [
        {
          "output_type": "stream",
          "name": "stdout",
          "text": [
            "Introduce the value of the element 0,0: 3\n",
            "Introduce the value of the element 0,1: 2\n",
            "Introduce the value of the element 0,2: 1\n",
            "Introduce the value of the element 1,0: 0\n",
            "Introduce the value of the element 1,1: 1\n",
            "Introduce the value of the element 1,2: 4\n",
            "Introduce the value of the element 2,0: 6\n",
            "Introduce the value of the element 2,1: -8\n",
            "Introduce the value of the element 2,2: 5\n",
            "Introduce the value of the element 3,0: 0\n",
            "Introduce the value of the element 3,1: 3\n",
            "Introduce the value of the element 3,2: 1\n",
            "[[ 3.  2.  1.]\n",
            " [ 0.  1.  4.]\n",
            " [ 6. -8.  5.]\n",
            " [ 0.  3.  1.]]\n"
          ]
        }
      ]
    },
    {
      "cell_type": "code",
      "source": [
        "import numpy as np\n",
        "mat_a = np.zeros((2,2))   # We create the matrice 2x2, all zeros\n",
        "for i in range(2):         # Cycle over the rows of the matrix\n",
        "    for j in range(2):     # Cycle over the columns of the matrix\n",
        "        mat_a[i,j] = float(input(\"Introduce the value of the element {},{}: \".format(i,j)))   # Enter the value\n",
        "print(mat_a)\n",
        "\n",
        "mat_b = np.zeros((2,2))   # We create the matrice 2x2, all zeros\n",
        "for i in range(2):         # Cycle over the rows of the matrix\n",
        "    for j in range(2):     # Cycle over the columns of the matrix\n",
        "        mat_b[i,j] = float(input(\"Introduce the value of the element {},{}: \".format(i,j)))   # Enter the value\n",
        "print(mat_b)\n",
        "\n",
        "mat_c = np.zeros((2,2))   # We create the matrice 2x2, all zeros\n",
        "for i in range(2):         # Cycle over the rows of the matrix\n",
        "    for j in range(2):     # Cycle over the columns of the matrix\n",
        "        mat_c[i,j] = float(input(\"Introduce the value of the element {},{}: \".format(i,j)))   # Enter the value\n",
        "print(mat_c)\n",
        "\n",
        "mat_a_inv = np.linalg.inv(mat_a)\n",
        "print(mat_a_inv)\n",
        "mat_b_inv = np.linalg.inv(mat_b)\n",
        "print(mat_b_inv)\n",
        "\n",
        "x = np.matmul(mat_a_inv,mat_c)\n",
        "ans = np.matmul(mat_c,x)\n",
        "print(ans)"
      ],
      "metadata": {
        "colab": {
          "base_uri": "https://localhost:8080/"
        },
        "id": "20N8P3bpp1KY",
        "outputId": "cafa9589-4aa3-4d7d-b0a2-b517f03f2d3d"
      },
      "execution_count": null,
      "outputs": [
        {
          "output_type": "stream",
          "name": "stdout",
          "text": [
            "Introduce the value of the element 0,0: 1\n",
            "Introduce the value of the element 0,1: 1\n",
            "Introduce the value of the element 1,0: 1\n",
            "Introduce the value of the element 1,1: 2\n",
            "[[1. 1.]\n",
            " [1. 2.]]\n",
            "Introduce the value of the element 0,0: 4\n",
            "Introduce the value of the element 0,1: 1\n",
            "Introduce the value of the element 1,0: 3\n",
            "Introduce the value of the element 1,1: 1\n",
            "[[4. 1.]\n",
            " [3. 1.]]\n",
            "Introduce the value of the element 0,0: 24\n",
            "Introduce the value of the element 0,1: 7\n",
            "Introduce the value of the element 1,0: 31\n",
            "Introduce the value of the element 1,1: 9\n",
            "[[24.  7.]\n",
            " [31.  9.]]\n",
            "[[ 2. -1.]\n",
            " [-1.  1.]]\n",
            "[[ 1. -1.]\n",
            " [-3.  4.]]\n",
            "[[457. 134.]\n",
            " [590. 173.]]\n"
          ]
        }
      ]
    },
    {
      "cell_type": "markdown",
      "metadata": {
        "id": "RjlEBgIZSEpN"
      },
      "source": [
        " ***"
      ]
    }
  ]
}