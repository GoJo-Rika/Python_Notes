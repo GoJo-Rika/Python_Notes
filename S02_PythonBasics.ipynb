{
  "nbformat": 4,
  "nbformat_minor": 0,
  "metadata": {
    "kernelspec": {
      "display_name": "Python 3",
      "language": "python",
      "name": "python3"
    },
    "language_info": {
      "codemirror_mode": {
        "name": "ipython",
        "version": 3
      },
      "file_extension": ".py",
      "mimetype": "text/x-python",
      "name": "python",
      "nbconvert_exporter": "python",
      "pygments_lexer": "ipython3",
      "version": "3.8.8"
    },
    "colab": {
      "provenance": []
    }
  },
  "cells": [
    {
      "cell_type": "markdown",
      "metadata": {
        "id": "d-0xLRVdGJHZ"
      },
      "source": [
        "# S02 Python Basics\n",
        "\n",
        "Mit Patel\n",
        "\n",
        "Version: 1.00 (August 2023)\n",
        "\n",
        "***\n",
        "\n",
        "## How to use this Notebook:\n",
        "\n",
        "To start programming in Python we will use [Jupyter Notebook] (https://jupyter.org/). Jupyter Notebooks are open source documents, an interactive computer environment that allows us to combine code, text, math, and multimedia elements into a single document, which we can view and work on using a web browser. These documents consist of:\n",
        "\n",
        "- _text cells_ where there is explanation\n",
        "- _code cells_ where we will introduce Python instructions.\n",
        "\n",
        "** To run the code cells ** we need to click inside and then press `Shift + Enter` simultaneously (note:` Shift` is the shift key).\n",
        "\n",
        "Please note that text cells are written in a text editing language called [Markdown] (https://en.wikipedia.org/wiki/Markdown). If you want to take a look, double click on a text cell (this one) and the code will open. Pressing `Shift + Enter` will return you to the initial situation.\n",
        "\n",
        "***\n"
      ]
    },
    {
      "cell_type": "markdown",
      "metadata": {
        "id": "eLW5E0ztGJHd"
      },
      "source": [
        "# 2.1. Introduction to Python\n",
        "\n",
        "**What is a program?** A program is a document that contains a sequence of computer-directed instructions, which are written in a specific language (programming language). This language is much simpler than the language we use to communicate between people (for example Catalan) but you will see that its rules are much stricter.\n",
        "\n",
        "## 2.1.1. Python versions\n",
        "\n",
        "In this course we will use the Python programming language in version 3. There are currently two predominant versions of the Python language, 2.7 in which Python was closed in version 2 and Python 3.X (where X is changing) which is the current standard and what continues to be developed. As the Python development wiki itself says:\n",
        "\n",
        "> Python 2.x is legacy, Python 3.x is the present and future of the language."
      ]
    },
    {
      "cell_type": "markdown",
      "metadata": {
        "id": "lix2ftavGJHe"
      },
      "source": [
        "## 2.1.2. Variables\n",
        "\n",
        "### First example: Ideal gas pressure\n",
        "\n",
        "One of the utilities of programming that may interest us is to determine the value of physical or chemical quantities, according to an expression.\n",
        "\n",
        "To begin with, consider the equation of state of an ideal gas\n",
        "\n",
        "$$\n",
        "p V = n R T\n",
        "$$\n",
        "\n",
        "and suppose we want to calculate the pressure value of 0.5 mol of sulfur dioxide, SO2, at 298.15 K in a 5.0 liter container, according to this model, taking into account the universal gas constant $ R = 0.08206 $ atm $ \\cdot $ L $ \\cdot $ mol $ ^ {- 1} \\cdot $ K $ ^ {- 1} $.\n",
        "\n",
        "How would we solve it? First of all, let's isolate the pressure from the equation above:\n",
        "$$\n",
        "p = \\frac {n R T} {V}\n",
        "$$\n",
        "\n",
        "Then, in a program we can reserve RAM spaces to store information and identify these memory spaces using symbols such as those used in equations; are what we call **variables**."
      ]
    },
    {
      "cell_type": "markdown",
      "metadata": {
        "id": "9ndq9K5PGJHf"
      },
      "source": [
        "## 2.1.3. Assignment instruction\n",
        "\n",
        " The most common way to enter a certain numeric value into a variable is to use the so-called **assignment instruction** which is as follows:\n",
        "\n",
        "    variable = expression\n",
        "\n",
        "where `variable` corresponds to the name we use to identify the memory space and` expression` would be a mathematical operation or directly a numerical value.\n",
        "\n",
        "If we write:\n",
        "```Python\n",
        "R = 0.08206\n",
        "n = 0.5\n",
        "T = 298.15\n",
        "V = 5.0\n",
        "p = n * R * T / V\n",
        "```\n",
        "\n",
        "with the first 4 instructions we are telling the computer to put in the variable to the left of the equal sign the value of the right and with the last expression we are indicating the following:\n",
        "\n",
        "1. Access the values ​​of the memory spaces `n`,` R`, `T` and` V`.\n",
        "2. Do the operations (two multiplications and one division) with these values.\n",
        "3. Assign the result of the operation to the variable `p`.\n",
        "\n",
        "From this moment the calculated value of the pressure will be stored in the variable `p`.\n",
        "\n",
        "\n",
        "Note that the decimal separator is the dot `.` and not the comma`, `.\n",
        "\n",
        "We take this opportunity to indicate that the operators `+, -, /, *` correspond to addition, difference, division and multiplication, respectively. If you want to make a power, use the `**` symbol."
      ]
    },
    {
      "cell_type": "markdown",
      "metadata": {
        "id": "7f4y-o4iGJHf"
      },
      "source": [
        "## 2.1.4. Print instruction\n",
        "\n",
        "The `print` statement tells the computer to type what is in parentheses on the screen.\n",
        "\n",
        "For our moment example we will use the simple form\n",
        "```Python\n",
        "print (p)\n",
        "```\n",
        "which tells the computer to look at the value in the variable `p` and type it on the screen."
      ]
    },
    {
      "cell_type": "code",
      "metadata": {
        "id": "5yvCMcOuHvHQ"
      },
      "source": [],
      "execution_count": null,
      "outputs": []
    },
    {
      "cell_type": "markdown",
      "metadata": {
        "id": "lkSiYCcqGJHg"
      },
      "source": [
        "### First program\n",
        "\n",
        "Copy and paste in the next cell the instructions in section 2.1.3 and behind the instruction `print` above. In this way we already have a first version of the program for determining the pressure of an ideal gas.\n",
        "\n",
        "Run the cell to get the value of the pressure in atm (by pressing `Shift + Enter`). The result is close to 2.44 atm."
      ]
    },
    {
      "cell_type": "code",
      "metadata": {
        "id": "OZRYYqx_GJHh",
        "colab": {
          "base_uri": "https://localhost:8080/"
        },
        "outputId": "4c531111-f7c9-4fd0-f97d-487948e461a7"
      },
      "source": [
        "R = 0.08206\n",
        "n = 0.5\n",
        "T = 298.15\n",
        "V = 5.0\n",
        "p = n*R*T/V\n",
        "print(p)"
      ],
      "execution_count": null,
      "outputs": [
        {
          "output_type": "stream",
          "name": "stdout",
          "text": [
            "2.4466189\n"
          ]
        }
      ]
    },
    {
      "cell_type": "markdown",
      "metadata": {
        "id": "TJ6L7o4zGJHh"
      },
      "source": [
        "Copy the contents of the previous cell to the next one and modify the volume variable so that its value now corresponds to 2.5 liters.\n",
        "\n",
        "Run the cell and check that the result is close to 4.89 atm."
      ]
    },
    {
      "cell_type": "code",
      "metadata": {
        "id": "zOShE2JxN-nZ"
      },
      "source": [
        "R = 0.08206\n",
        "n = 0.5\n",
        "T = 298.15\n",
        "V = 2.5\n",
        "P = n*R*T/V\n",
        "print (\"At temperature {} K the pressure is {} atm.\".format(T,P))"
      ],
      "execution_count": null,
      "outputs": []
    },
    {
      "cell_type": "markdown",
      "metadata": {
        "id": "H_HwLLXBGJHi"
      },
      "source": [
        "It is worth noting that later we will see a more practical way to do this program that will be used for any values of the number of moles, temperature and volume, without having to change the value assigned to the corresponding variable."
      ]
    },
    {
      "cell_type": "markdown",
      "metadata": {
        "id": "U6xg2fZJGJHj"
      },
      "source": [
        "## 2.1.5 Variable names\n",
        "\n",
        "The name of the variables in Python must contain only alphabetic characters (uppercase or lowercase letters of the English alphabet) and / or numbers and must begin with a letter. The underscore is also accepted as a letter.\n",
        "\n",
        "```Python\n",
        "4area # this name is incorrect for one variable\n",
        "area4 # this yes\n",
        "```\n",
        "\n",
        "In principle there is no limit to the length of the variable name, but it is VERY advisable that:\n",
        "- not too long\n",
        "- keep a relationship with its content\n",
        "\n",
        "What variable names would you use for a temperature? Possibly one of the following: t, T, temp, temperature, ...\n",
        "\n",
        "And for the pressure? p, P, press, pressure, ...\n",
        "\n",
        "The Python interpreter **is case sensitive** for both variable names and instructions. Thus p and P correspond to different variables. And the write instruction should be in the form `print` and not for example` PRINT`."
      ]
    },
    {
      "cell_type": "markdown",
      "metadata": {
        "id": "Ry2fXCv3GJHj"
      },
      "source": [
        "## 2.1.6 Other forms of the print statement\n",
        "\n",
        "The `print` statement also allows us to enter text, thus providing more complete information to the user.\n",
        "\n",
        "Notice how we modified the ideal gas program:\n",
        "\n",
        "```Python\n",
        "R = 0.08206\n",
        "n = 0.5\n",
        "T = 298.15\n",
        "V = 5.0\n",
        "p = n * R * T / V\n",
        "print (\"Gas pressure is {} atm\" .format (p))\n",
        "```\n",
        "The `print` statement tells the computer to type the text in quotation marks on the screen by putting the value of the variable p where the\" {} \"keys are.\n",
        "\n",
        "Copy and run it in the cell below:"
      ]
    },
    {
      "cell_type": "code",
      "metadata": {
        "id": "_757vyekGJHk"
      },
      "source": [],
      "execution_count": null,
      "outputs": []
    },
    {
      "cell_type": "markdown",
      "metadata": {
        "id": "1A1Xi9ZHGJHk"
      },
      "source": [
        "In a `print` statement we can write one or more variables and more or less text.\n",
        "\n",
        "For example, copy the contents of the previous cell to the next, replace the `print` statement with this one\n",
        "```Python\n",
        "print (\"At the temperature of {} K the pressure is {} atm.\". format (T, p))\n",
        "```\n",
        "and run it."
      ]
    },
    {
      "cell_type": "code",
      "metadata": {
        "id": "fB5t4lZOGJHk"
      },
      "source": [],
      "execution_count": null,
      "outputs": []
    },
    {
      "cell_type": "markdown",
      "metadata": {
        "id": "goP3_AdSGJHl"
      },
      "source": [
        "Thus, the `print` statement writes the text in quotation marks, replacing each of the\" {} \"keys with the value of the rightmost variable in the` format () `function. (attention must be paid to the order in which the variables are written)."
      ]
    },
    {
      "cell_type": "markdown",
      "metadata": {
        "id": "X_gIrKNOGJHl"
      },
      "source": [
        "Here we can see another example with 3 variables\n",
        "```python\n",
        "a = 2\n",
        "b = 3\n",
        "area = a * b\n",
        "print (\"The area of the edge rectangle {} and {} is valid {}.\" format (a, b, area))\n",
        "```\n",
        "which you can copy and run."
      ]
    },
    {
      "cell_type": "code",
      "metadata": {
        "id": "iTb86uMbGJHl"
      },
      "source": [],
      "execution_count": null,
      "outputs": []
    },
    {
      "cell_type": "markdown",
      "metadata": {
        "id": "4jq7rYJeGJHl"
      },
      "source": [
        "## 2.1.7. More details of the assignment instruction\n",
        "\n",
        "The sign `=` **should not be interpreted in any case as a mathematical equality**, but indicates to the computer that it evaluates the arithmetic expression on the right (simple or complicated) and that , **when finished**, save the result in the variable on the left:\n",
        "\n",
        "     variable = expression\n",
        "\n",
        "If we understand this concept, what value will the variable `i` contain after each of the following two instructions?\n",
        "```Python\n",
        "i = 5\n",
        "i = i + 1\n",
        "```\n",
        "\n",
        "Copy these two lines of code into the cell below and check your prediction by typing the value of the `i` variable after each of them with a` print (i) `statement:"
      ]
    },
    {
      "cell_type": "code",
      "metadata": {
        "id": "c5ZjjszmGJHm"
      },
      "source": [],
      "execution_count": null,
      "outputs": []
    },
    {
      "cell_type": "markdown",
      "metadata": {
        "id": "wtSNx0_RGJHm"
      },
      "source": [
        "Here's another example (think about what values this program snippet will write before running it):\n",
        "```Python\n",
        "j = 2\n",
        "print (\"Now the variable j is \", j)\n",
        "j = j * j + j + 3\n",
        "print (\"But now is\", j)\n",
        "j = j * 10\n",
        "print (\"Finally valid\", j)\n",
        "```"
      ]
    },
    {
      "cell_type": "code",
      "metadata": {
        "id": "vVJWuk_9GJHm"
      },
      "source": [],
      "execution_count": null,
      "outputs": []
    },
    {
      "cell_type": "markdown",
      "metadata": {
        "id": "jVsYTxMaGJHm"
      },
      "source": [
        "### Caution\n",
        "\n",
        "Each time we assign a value to a variable, the value it previously had is lost.\n",
        "\n",
        "If you do not want to lose the old value, the simplest solution is to use another variable for the new value."
      ]
    },
    {
      "cell_type": "markdown",
      "metadata": {
        "id": "5VxFZ9h5GJHm"
      },
      "source": [
        "## 2.1.8 Numerical data\n",
        "\n",
        "The Python language allows you to work with different types of data:\n",
        "\n",
        "- Numerical (integers, real numbers, complex numbers).\n",
        "\n",
        "- Literals (letters, punctuation, etc.)\n",
        "\n",
        "- Of logical or boolean type (which can take the values _true_ or _false_).\n",
        "\n",
        "Python also supports collective variables such as _lists_ and _arrays_, which we will see later, and others such as _tuples_ and _dictionaries_, which we will not see.\n",
        "\n",
        "For now, we will focus on working with numerical data and we can distinguish three types:\n",
        "\n",
        "- **integer** or of type `int`\n",
        "- **real** or `float` type\n",
        "- **complex** or `complex` type"
      ]
    },
    {
      "cell_type": "markdown",
      "metadata": {
        "id": "AuECnb3uGJHn"
      },
      "source": [
        "### 2.1.8.1 Integer data\n",
        "\n",
        "They correspond to integers (type `int`), without decimal part, such as $ 3, 0, -15, 2015, \\ldots $\n",
        "\n",
        "### 2.1.8.2 Actual data\n",
        "\n",
        "The actual (float) data correspond to numbers with decimals, such as $ 1.2, 0.13, -3.14159, \\ldots $ or written in scientific notation.\n",
        "\n",
        "#### Scientific notation\n",
        "\n",
        "It is often helpful to use scientific notation when dealing with very large or very small numbers.\n",
        "\n",
        "- The value 123000, in scientific notation is written $ 1.23 \\cdot10 ^ 5 $ and in Python it can be put as 1.23E5 or 1.23e5.\n",
        "- The value 0.000456, in scientific notation is written $ 4.56 \\cdot10 ^ {- 4} $ and in Python it can be put as 4.56E-4 or 4.56e-4.\n",
        "\n",
        "Note that the exponent of 10 must be an integer value.\n"
      ]
    },
    {
      "cell_type": "markdown",
      "metadata": {
        "id": "lfkOOXlxGJHn"
      },
      "source": [
        "### 2.1.8.3 Conversions between integers and reals\n",
        "\n",
        "If necessary, we can convert a real value into an integer and vice versa. The instructions for doing so are (in parentheses would be the value to convert):\n",
        "\n",
        "- `float ()` to change from integer to real\n",
        "- `int ()` to go from real to integer losing decimals\n",
        "\n",
        "Please check this by copying these instructions to the next cell and running it (try to guess the result before doing so).\n",
        "```Python\n",
        "a = 3\n",
        "b = float (a)\n",
        "print (\"The variable b is {}\". format (b))\n",
        "b = 3.8\n",
        "c = int (b)\n",
        "print (\"The variable c is valid {}\". format (c))\n",
        "```"
      ]
    },
    {
      "cell_type": "code",
      "metadata": {
        "id": "TWGF3NKEQG-6"
      },
      "source": [],
      "execution_count": null,
      "outputs": []
    },
    {
      "cell_type": "markdown",
      "metadata": {
        "id": "9LtTX9DEGJHn"
      },
      "source": [
        "### 2.1.8.4 Operations between integers and reals\n",
        "\n",
        "When we perform mathematical operations between data of different types, the result will maintain the most general type in the expression, except in a case that we will see below. This way:\n",
        "\n",
        "- operations between integer data will provide integer results\n",
        "- operations between real data will provide real results\n",
        "- operations between whole data and real data will generate real results\n",
        "\n",
        "The only special case is the **division between integers**, which in Python3 can be done in two ways:\n",
        "\n",
        "- **standard division**: 3/2 the result is 1.5, a real number.\n",
        "- **integer division**: 3 // 2 the result is 1, an integer\n",
        "\n",
        "Check the result of the following operations in the cell below. Copy all lines into the cell and run it.\n",
        "```python\n",
        "dr = 0.3 / 8.2\n",
        "print (dr)\n",
        "dre = 5.4 / 5\n",
        "print (dre)\n",
        "se = 3 + 1\n",
        "print\n",
        "der = 7/2\n",
        "print (der)\n",
        "dee = 7 // 2\n",
        "print (dee)\n",
        "```"
      ]
    },
    {
      "cell_type": "code",
      "metadata": {
        "id": "RRk0zbyWGJHo"
      },
      "source": [],
      "execution_count": null,
      "outputs": []
    },
    {
      "cell_type": "markdown",
      "metadata": {
        "id": "SeZr5ddKGJHo"
      },
      "source": [
        "### 2.1.8.5 Residue of a division between integers\n",
        "\n",
        "We take advantage of the fact that we have just seen that the division between integers can be done in two different ways to introduce an operation that will often be useful to us, the calculation of the **residue of an division between integers**.\n",
        "\n",
        "As you checked in the previous cell the quotient of 7 and 2 is 3.5 but if we do the whole division the result is 3.\n",
        "\n",
        "The residue of this last operation will be 1 and we can determine it as follows:\n",
        "\n",
        "```python\n",
        "res = 7% 2\n",
        "print (res)\n",
        "```\n",
        "\n",
        "Check it in the following cell:"
      ]
    },
    {
      "cell_type": "code",
      "metadata": {
        "id": "JF6l7qFVGJHo"
      },
      "source": [],
      "execution_count": null,
      "outputs": []
    },
    {
      "cell_type": "markdown",
      "metadata": {
        "id": "SI7mor-7GJHo"
      },
      "source": [
        "What will be the value of the residue of the whole division between 7 and 4?\n",
        "Check it in the following cell:"
      ]
    },
    {
      "cell_type": "code",
      "metadata": {
        "id": "-xBCDw5ZGJHo"
      },
      "source": [],
      "execution_count": null,
      "outputs": []
    },
    {
      "cell_type": "markdown",
      "metadata": {
        "id": "KSopsFefGJHo"
      },
      "source": [
        "#### 2.1.9 Write a real number with the desired decimals\n",
        "\n",
        "The instruction `print`ens allows us to specify the number of decimals with which we want to write a certain real number. To do this we simply need to specify it inside the keys.\n",
        "\n",
        "We can see it in the program fragment where we assign a value to a variable and then write it with only 3 decimals:\n",
        "\n",
        "```python\n",
        "vhx = 149.26535897936715 # This is the value that the variable will have in the rest of the program\n",
        "print (\"The approximate value of the variable vhx is {: .3f}\" .format (vhx))\n",
        "print (\"And in scientific notation is {: .3e}\" .format (vhx))\n",
        "```\n",
        "\n",
        "The specification of the **write format** is given between the keys, in this case **`{:. 3f}`** means _a real number (float) with **three decimals** _. For the writing to be done in scientific notation, also with 3 decimals, it is necessary to put **`{:. 3e}`**.\n",
        "\n",
        "Copy the contents of the previous lines to the next cell and check the result."
      ]
    },
    {
      "cell_type": "code",
      "metadata": {
        "id": "DtDvqPwJGJHp"
      },
      "source": [],
      "execution_count": null,
      "outputs": []
    },
    {
      "cell_type": "markdown",
      "metadata": {
        "id": "ug-niONRGJHp"
      },
      "source": [
        "**Important**: Writing a variable, whether formatted or not, never changes its value; the format only changes the way it is displayed."
      ]
    },
    {
      "cell_type": "markdown",
      "metadata": {
        "id": "GPlYu4gtGJHp"
      },
      "source": [
        "## 2.1.10 Priority in arithmetic operations\n",
        "\n",
        "In an arithmetic operation written in Python, situations can occur in which the order of execution of the operations is not very clear. For example, given the expression:\n",
        "\n",
        "$$ \\frac {2 ∗ a + b ^ 2} c $$\n",
        "\n",
        "Which of the following Python expressions encodes the expression correctly?\n",
        "\n",
        "1. `2 * a + b ** 2 / c`\n",
        "2. `(2 * a) + b ** 2 / c`\n",
        "3. `(2 * a + b ** 2) / c`\n",
        "\n",
        "To find the solution you need to know ** the priority ** with which the different operators are executed in the expression. For example, when we find the expression `2 * a + b ** 2`, in what order are the operations executed?\n",
        "\n",
        "- The square is executed first, so b ** 2\n",
        "- Then the product: 2 * a\n",
        "- Finally the sum\n",
        "\n",
        "Below is a table with the priority of the operations we have seen so far.\n",
        "\n",
        "|Priority  | Operator |\n",
        "|:--------:|----------|\n",
        "|(1)       | ( )       |\n",
        "|(2)       | - (change of sign)|\n",
        "|(3)       | \\**       |\n",
        "|(4)       | * / % //      |\n",
        "|(5)       | + -       |\n",
        "\n",
        "Note that there are operations (product, division, ...) that have the same priority. In this case, the priority is set from left to right. In other words that is:\n",
        "\n",
        "    a / b * c\n",
        "\n",
        "is equivalent to\n",
        "\n",
        "    (a / b) * c\n",
        "\n",
        "**Warning** that the \\*\\* operator instead applies from right to left. `2**3**2` is equivalent to` 2**(3**2) `ie $ 2 ^ 9 $ (512) and not` (2**3)**2` ($ 8 ^ 2 = $ 64)!\n",
        "\n",
        "When in doubt, however, the best option is to use parentheses to ensure the desired order and, incidentally, to make the code easier to read.\n",
        "\n",
        "Now back to the expression\n",
        "\n",
        "$$ \\frac {2 ∗ a + b ^ 2} c $$\n",
        "\n",
        "and mentally calculate what value to give for the values ​​4, 5, and 3 of a, b, and c.\n",
        "\n",
        "Then copy these instructions into the following code cell, and check which of the above expressions gives the correct result:\n",
        "```Python\n",
        "a = 4\n",
        "b = 5\n",
        "c = 3\n",
        "x1 = 2 * a + b ** 2 / c\n",
        "print (x1)\n",
        "x2 = (2 * a) + b ** 2 / c\n",
        "print (x2)\n",
        "x3 = (2 * a + b ** 2) / c\n",
        "print (x3)\n",
        "```"
      ]
    },
    {
      "cell_type": "code",
      "metadata": {
        "id": "ZFVUpr9XGJHp"
      },
      "source": [],
      "execution_count": null,
      "outputs": []
    },
    {
      "cell_type": "markdown",
      "metadata": {
        "id": "DBLYbhIPGJHp"
      },
      "source": [
        "## 2.1.11. Data entry by the user (input instruction)\n",
        "\n",
        "If we have to repeat the execution of a program with different data, it is convenient to assign the value to a variable at the time of execution by means of the instruction instruction:\n",
        "\n",
        "    variable = input ()\n",
        "\n",
        "The `input ()` statement stops execution to prompt the user to enter the value they want the variable to be, and then press `Enter` to assign that value and continue execution.\n",
        "\n",
        "In parentheses we can put a help text that serves to understand what information is expected.\n",
        "\n",
        "Let's see what the ideal gas program can look like:\n",
        "```Python\n",
        "R = 0.08206\n",
        "n = input (\"Enter the number of moles:\")\n",
        "n = float (n)\n",
        "T = input (\"Enter the temperature in K:\")\n",
        "T = float (T)\n",
        "V = input (\"Enter volume in L:\")\n",
        "V = float (V)\n",
        "p = n * R * T / V\n",
        "print (\"Gas pressure is {} atm\" .format (p))\n",
        "```\n",
        "Copy the program and run it in the next cell. You can assume, for example, that you have 0.5 moles of gas at 298.15 K in a 5.0 liter container. The pressure will be around 2.44 atm."
      ]
    },
    {
      "cell_type": "code",
      "metadata": {
        "id": "9-wXWxk6GJHp"
      },
      "source": [],
      "execution_count": null,
      "outputs": []
    },
    {
      "cell_type": "markdown",
      "metadata": {
        "id": "poclE9lIGJHq"
      },
      "source": [
        "You can run this program as many times as you want **without having to modify it** with different datasets."
      ]
    },
    {
      "cell_type": "markdown",
      "metadata": {
        "id": "eEJlvqBPGJHq"
      },
      "source": [
        "Attention! Although we have not yet seen the _literary variables_, it is important to note at this point that the information entered from the keyboard is collected **as text!** This means that if the user enters the value \"300 \"on the keyboard, the input statement will read it as a string and not as a numeric value.\n",
        "\n",
        "That's why we need to add the `float` statement to make it a real numeric value (in this same notebook we had already seen this statement but applied to an integer value)."
      ]
    },
    {
      "cell_type": "markdown",
      "metadata": {
        "id": "8321UJ1bGJHq"
      },
      "source": [
        "Note that if what you want to get is an integer value you need to add the `int` statement instead of` float`, for example like this:\n",
        "```Python\n",
        "n = input (\"Enter an integer:\")\n",
        "n = int (n)\n",
        "```"
      ]
    },
    {
      "cell_type": "markdown",
      "metadata": {
        "id": "RNYaZMWwGJHq"
      },
      "source": [
        "The `input` and` float` or `input` and` int` statements can be combined in a single statement. In this way the previous program would be like this:\n",
        "```Python\n",
        "R = 0.08206\n",
        "n = float (input (\"Enter the number of moles:\"))\n",
        "T = float (input (\"Enter the temperature in K:\"))\n",
        "V = float (input (\"Enter volume in L:\"))\n",
        "p = n * R * T / V\n",
        "print (\"Gas pressure is {} atm\" .format (p))\n",
        "```\n",
        "Check in the next cell that the result is the same as before (for 0.5 moles of gas at 298.15 K in a 5.0 liter container the pressure will give about 2.44 atm)."
      ]
    },
    {
      "cell_type": "code",
      "metadata": {
        "id": "43LS-Is-GJHq"
      },
      "source": [],
      "execution_count": null,
      "outputs": []
    },
    {
      "cell_type": "markdown",
      "metadata": {
        "id": "ijKxTN83GJHq"
      },
      "source": [
        "## 2.1.12. Polishing the code: Comments and documentation\n",
        "\n",
        "A very convenient habit when programming is to use feedback. These are lines of text in the code that the Python interpreter does not read, skips them, but that we can read. They serve to comment on the meaning of the instructions and thus make the code more understandable.\n",
        "\n",
        "There are two ways to enter comments in Python:\n",
        "\n",
        "- _Line comments_: are marked with pads (\"** # **\") and are usually used to provide information about specific sections of the code\n",
        "- _Introduction Comments_: A good practice is to describe what the general intent of the code is, what it is for. This information is convenient to put at the beginning and can be entered in a text delimited by three double quotation marks in a row. So we can write a text in multiple lines.\n",
        "\n",
        "In this way, our complete code for calculating the ideal gas pressure could look like this:\n",
        "```Python\n",
        "\"\" \"This program calculates the pressure\n",
        "of an ideal gas, given a number of moles,\n",
        "temperature and volume. The units are kelvin, liter and atmosphere. \"\" \"\n",
        "R = 0.08206\n",
        "# Enter the data\n",
        "n = float (input (\"Enter the number of moles:\"))\n",
        "T = float (input (\"Enter the temperature in K:\"))\n",
        "V = float (input (\"Enter volume in L:\"))\n",
        "# We calculate the pressure\n",
        "p = n * R * T / V\n",
        "# We write the result\n",
        "print (\"Gas pressure is {} atm\" .format (p))\n",
        "```\n",
        "\n",
        "Copy it and run it again in the next cell (for 0.5 moles of gas at 298.15 K in a 5.0 liter container the pressure is around 2.44 atm)."
      ]
    },
    {
      "cell_type": "code",
      "metadata": {
        "id": "lfIxQF3BGJHq"
      },
      "source": [],
      "execution_count": null,
      "outputs": []
    },
    {
      "cell_type": "markdown",
      "metadata": {
        "id": "uf_MGoJjGJHq"
      },
      "source": [
        "Note that when running the cell, all the information we entered in triple quotes or after the pad does not appear as a result, is ignored by the interpreter and the execution has been identical to the code we did before. This is information for the programmer."
      ]
    },
    {
      "cell_type": "markdown",
      "metadata": {
        "id": "pnpcxNGCGJHr"
      },
      "source": [
        "***\n",
        "\n",
        "# 2.2 Modules\n",
        "\n",
        "The Python language alone has a relatively limited set of built-in features (you can find a list at the following [link] (https://docs.python.org/3.3/library/functions.html).\n",
        "The intention is to have a relatively _light_ language and to incorporate functionalities only when these are necessary.\n",
        "\n",
        "If more functions are needed, they can be _loaded_ as Python packages with the command `import` followed by the module name:\n",
        "\n",
        "```Python\n",
        "import module_name\n",
        "```\n",
        "\n",
        "Some of the most commonly used modules in Python are:\n",
        "\n",
        "- [`math`] (https://docs.python.org/3.0/library/math.html): sets of mathematical functions and values\n",
        "- [`sys`] (https://docs.python.org/3.0/library/sys.html), [` os`] (https://docs.python.org/3.5/library/os.html) and [`os.path`] (https://docs.python.org/3/library/os.path.html): interaction with the operating system\n",
        "- [`random`] (https://docs.python.org/3.0/library/random.html): random value generating functions\n",
        "- [`numpy`] (http://www.numpy.org/), [` scipy`] (http://www.scipy.org/): functions and objects oriented to numerical and scientific calculation\n",
        "- [`matplotlib`] (http://matplotlib.org/): graphical representation\n",
        "- [`cclib`] (https://pypi.python.org/pypi/cclib): Computer-oriented chemistry\n",
        "\n",
        "\n",
        "### NOTE: We recommend putting the `import` instructions in front of the whole program.\n"
      ]
    },
    {
      "cell_type": "markdown",
      "metadata": {
        "id": "COJFqpeMGJHr"
      },
      "source": [
        "## 2.2.1. `Math` module\n",
        "\n",
        "To be able to work with trigonometric, hyperbolic, logarithmic functions, etc. in Python it is necessary to use the instruction\n",
        "```Python\n",
        "import math\n",
        "```\n",
        "\n",
        "The above instruction incorporates a number of mathematical functions and some special values, such as the number $ \\ pi $.\n",
        "\n",
        "To know what functions a module incorporates, if we are in a notebook we can execute the instruction `dir (module_name)`. Try it in the next cell with\n",
        "```Python\n",
        "import math\n",
        "dir (math)\n",
        "```"
      ]
    },
    {
      "cell_type": "code",
      "metadata": {
        "id": "96B37zd5GJHr"
      },
      "source": [],
      "execution_count": null,
      "outputs": []
    },
    {
      "cell_type": "markdown",
      "metadata": {
        "id": "nrAocdZZGJHr"
      },
      "source": [
        "And to know what each of the functions does we can perform (also on a notebook):\n",
        "\n",
        "     math.functionname?\n",
        "    \n",
        "with question mark included!\n",
        "\n",
        "Running the cell opens a window at the bottom of the browser that explains the purpose of the function. Once read, you can close it and continue working. Find out in the next cell what the `math.exp` function does."
      ]
    },
    {
      "cell_type": "code",
      "metadata": {
        "id": "3I7uLdzcGJHr"
      },
      "source": [],
      "execution_count": null,
      "outputs": []
    },
    {
      "cell_type": "markdown",
      "metadata": {
        "id": "lrcp33k4GJHr"
      },
      "source": [
        "## 2.2.2 An example\n",
        "\n",
        "Suppose we want to calculate the sine of an angle expressed in sexagesimal degrees. We can code it for example like this:\n",
        "```Python\n",
        "import math\n",
        "ang = float (input (\"Enter an angle in sexagesimal degrees:\"))\n",
        "ang_rad = ang * math.pi / 180 # we convert the angle to radians\n",
        "if = math.sin (ang_rad) # the sine is calculated\n",
        "print (\"The sine of {} º is {}\". format (ang, si))\n",
        "```\n",
        "\n",
        "Note that the `math` module has been referred to twice, the first to take advantage of the value of the number $ \\ pi $ that the module incorporates and the other to call the function that calculates the sine.\n",
        "\n",
        "Copy the contents of this program to the next cell and run it."
      ]
    },
    {
      "cell_type": "code",
      "metadata": {
        "id": "im3FnSzrGJHr"
      },
      "source": [],
      "execution_count": null,
      "outputs": []
    },
    {
      "cell_type": "markdown",
      "metadata": {
        "id": "4Qab9nYtGJHs"
      },
      "source": [
        "## 2.2.3 Alternative way to load a module with an abbreviated name\n",
        "\n",
        "If we have to use a certain module many times and / or its name is quite long, there is the possibility of instructing the interpreter to incorporate the module but with an abbreviated name.\n",
        "\n",
        "In the case of the `math` module we can use, for example the abbreviation` m`, in the instruction `import` as follows:\n",
        "```Python\n",
        "import math as m\n",
        "```\n",
        "\n",
        "Now the previous program would look like this:\n",
        "```Python\n",
        "import math as m\n",
        "ang = float (input (\"Enter an angle in sexagesimal degrees:\"))\n",
        "ang_rad = ang * m.pi / 180 # we convert the angle to radians\n",
        "si = m.sin (ang_rad) # the sine is calculated\n",
        "print (\"The sine of {} º is {}\". format (ang, si))\n",
        "```\n",
        "\n",
        "Check that it works, in the following code cell. Note that the two module references (number $ \\ pi $ and function sin) have been changed."
      ]
    },
    {
      "cell_type": "code",
      "metadata": {
        "id": "CEYyM-iFGJHs"
      },
      "source": [],
      "execution_count": null,
      "outputs": []
    },
    {
      "cell_type": "markdown",
      "metadata": {
        "id": "oDDfmuPVGJHs"
      },
      "source": [
        "***"
      ]
    }
  ]
}