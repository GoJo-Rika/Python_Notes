{
  "nbformat": 4,
  "nbformat_minor": 0,
  "metadata": {
    "kernelspec": {
      "display_name": "Python 3",
      "language": "python",
      "name": "python3"
    },
    "language_info": {
      "codemirror_mode": {
        "name": "ipython",
        "version": 3
      },
      "file_extension": ".py",
      "mimetype": "text/x-python",
      "name": "python",
      "nbconvert_exporter": "python",
      "pygments_lexer": "ipython3",
      "version": "3.8.8"
    },
    "colab": {
      "provenance": []
    }
  },
  "cells": [
    {
      "cell_type": "markdown",
      "metadata": {
        "id": "Ysh8AURMieR-"
      },
      "source": [
        "# S05 Repetitive structure while\n",
        "\n",
        "Mit Patel.\n",
        "\n",
        "Version: 1.00 (August 2023)\n",
        "\n",
        "***\n",
        "\n",
        "# 5. Repetitive structure\n",
        "\n",
        "We explained in the previous session that there are three basic algorithmic structures so that by combining them all programs can be made:\n",
        "\n",
        "- **Sequential structure**, where a series of instructions are **executed one after the other**.\n",
        "- **Alternative structure**, where **one set of instructions is executed** or **another depending on whether a condition is met or not**.\n",
        "- **Repetitive structure**, where a **set of instructions is executed several times in a row**.\n",
        "\n",
        "In the previous session we saw the repetitive structure `for` and in this one we will see the` while`.\n",
        "\n",
        "The repetitive structure `for` is used when we can know in some way in advance the number of times a set of instructions will be repeated. Instead the repetitive structure `while` is used when initially we do not know how many times the instructions of a cycle will be repeated."
      ]
    },
    {
      "cell_type": "markdown",
      "metadata": {
        "id": "rQk_2GSgieSA"
      },
      "source": [
        "## 5.1 Cycles using the `while` statement\n",
        "\n",
        "It is very interesting to be able to indicate to the computer something like:\n",
        "\n",
        "> _Perform a series of operations while a condition is met_\n",
        "\n",
        "This is the task of the `while` statement in Python.\n",
        "\n",
        "Let's look at an example. The following code reads an integer written by the user and, if its value is positive, calculates and writes the integer division by 3. Then re-read an integer and do the same as many times as necessary while the last number is entered be positive. If this value is not positive, do not do more.\n",
        "```Python\n",
        "num = int (input (\"Enter an integer value:\"))\n",
        "\n",
        "while num> 0:\n",
        "    res = num // 3\n",
        "    print (\"The integer division of {} by 3 gives: {}\". format (num, res))\n",
        "    num = int (input (\"Enter an integer value:\"))\n",
        "    \n",
        "print (\"We're done\")\n",
        "```\n",
        "Since we cannot know how many values ​​the user will enter, the repetitive structure we will use will be `while`.\n",
        "\n",
        "Run the cell and check its operation by entering different values, such as 18, 10, 4 and 0.\n"
      ]
    },
    {
      "cell_type": "code",
      "metadata": {
        "id": "QVr2IXJgieSA"
      },
      "source": [],
      "execution_count": null,
      "outputs": []
    },
    {
      "cell_type": "markdown",
      "metadata": {
        "id": "1vgGW8PkieSB"
      },
      "source": [
        "Before looking at the syntax, let's try to reason how this line-by-line code works:\n",
        "\n",
        "1. A keyboard value (`input ()`) is requested, converted to an integer type (`int ()`) and assigned to the variable `num`\n",
        "2. Check the condition (if the value of `num` is greater than zero)\n",
        "3. If the condition is true, the instructions written further to the right are executed and _if otherwise_ skip them and advance to the instruction:\n",
        "`print (\" We're done \")`\n",
        "4. If the condition is met, the program control enters the rightmost instruction block:\n",
        "\n",
        "    1. Divide the current value of `num` by 3\n",
        "    2. write the new value of `num` and that of the result` res` of the whole division\n",
        "    3. a new keyboard value is requested to be entered and converted to an integer type\n",
        "    4. after the block instructions, the program control returns to the `while` statement and re-evaluates the condition (point 2.)\n",
        "5. Write \"We're done\" as the last instruction in the program\n",
        "\n",
        "**Please note** that the new value is requested at the end of the indented instructions so that when the `while` condition is reassessed you are in a situation similar to when the first value was requested.\n",
        "\n",
        "The **syntax** of the `while` statement is very similar to the one we saw for the` if` block:\n",
        "\n",
        "1. next to the `while` statement a **condition** is specified, then we have to put\" `:` \"\n",
        "2. the instructions to be executed in case the condition is fulfilled are **indented**, four spaces to the right\n",
        "3. once the block is finished, it returns to the previous indent\n",
        "4. blank lines are not needed but we have put them to emphasize the repetitive structure `while`\n",
        "\n",
        "If you followed the execution of the previous cell, you will have noticed a fundamental difference between the `if` and` while` statements. In the case of the conditional structure, once the block instructions have been executed, the program flow moves on to the first instruction that is no longer part of the block.\n",
        "\n",
        "Instead, when you finish the last line of the `while` block, the control of the program goes back up to the` while` line to assess whether the condition is still fulfilled or not. If so, the block is re-executed and otherwise goes to the first instruction that is no longer part of the block.\n",
        "\n",
        "Each time the block is run, it is said that a **cycle** or **iteration** has taken place."
      ]
    },
    {
      "cell_type": "markdown",
      "metadata": {
        "id": "N0nVa_t2ieSC"
      },
      "source": [
        "## 5.2 Counters\n",
        "\n",
        "It is often useful to have information about how many times the cycle has been run (how many _ iterations_ have been done). A very simple and convenient resource is to use a variable which is initially assigned the value `0` (before the` while` block) and which increases its value by `1` with each execution of the block. This variable is called a **counter**.\n",
        "\n",
        "In the example above:\n",
        "```Python\n",
        "num = int (input (\"Enter an integer value:\"))\n",
        "ndiv = 1 # We initialize the division counter set to zero\n",
        "\n",
        "while ndiv< num:\n",
        "     res = num // ndiv\n",
        "     print (\"The integer division of {} by {} gives: {}\". format (num, ndiv, res))\n",
        "     ndiv = ndiv + 1 # Increase the value of the divisor counter made a unit\n",
        "\n",
        "\n",
        "print (\"We're done\")\n",
        "print (\"Total number of divisions: {}\". format (ndiv))\n",
        "```\n",
        "we've added three new instructions that include the `ndiv` variable (number of divisions).\n",
        "\n",
        "Check its operation in the following cell:"
      ]
    },
    {
      "cell_type": "code",
      "metadata": {
        "id": "JZ33J2tUieSC",
        "colab": {
          "base_uri": "https://localhost:8080/"
        },
        "outputId": "3e7457f8-31a8-47e4-ad54-7f2721d3e647"
      },
      "source": [
        "num = int (input (\"Enter an integer value:\"))\n",
        "ndiv = 1 # We initialize the division counter set to zero\n",
        "\n",
        "while ndiv< num:\n",
        "     res = num // ndiv\n",
        "     print (\"The integer division of {} by {} gives: {}\". format (num, ndiv, res))\n",
        "     ndiv = ndiv + 1 # Increase the value of the divisor counter made a unit\n",
        "\n",
        "\n",
        "print (\"We're done\")\n",
        "print (\"Total number of divisions: {}\". format (ndiv))"
      ],
      "execution_count": null,
      "outputs": [
        {
          "output_type": "stream",
          "name": "stdout",
          "text": [
            "Enter an integer value:10\n",
            "The integer division of 10 by 1 gives: 10\n",
            "The integer division of 10 by 2 gives: 5\n",
            "The integer division of 10 by 3 gives: 3\n",
            "The integer division of 10 by 4 gives: 2\n",
            "The integer division of 10 by 5 gives: 2\n",
            "The integer division of 10 by 6 gives: 1\n",
            "The integer division of 10 by 7 gives: 1\n",
            "The integer division of 10 by 8 gives: 1\n",
            "The integer division of 10 by 9 gives: 1\n",
            "We're done\n",
            "Total number of divisions: 10\n"
          ]
        }
      ]
    },
    {
      "cell_type": "markdown",
      "metadata": {
        "id": "DXH3k2yuieSC"
      },
      "source": [
        "Needless to say, the variable can have the name we want, as long as it meets the rule of starting with an alphabetical character that all variables must meet and that, to be fair, its name remembers what it means. It could be for example ncic (number of cycles), or niter (number of iterations), etc.\n",
        "\n",
        "Note that if we write the value of the counter immediately after increasing its value by 1 (within the block) what it will give us will be the number of iterations done so far and instead if we write it after the block (out), will give us the total number of iterations.\n",
        "```Python\n",
        "num = int (input (\"Enter an integer value:\"))\n",
        "ndiv = 0 # Let's initialize the counter to zero\n",
        "\n",
        "while num> 0:\n",
        "    res = num // 3\n",
        "    print (\"The integer division of {} by 3 gives: {}\". format (num, res))\n",
        "    ndiv = ndiv + 1 # Increase the value of the divisor counter made a unit\n",
        "    print (\"Number of divisions so far: {}\". format (ndiv))\n",
        "    num = int (input (\"Enter an integer value:\"))\n",
        "\n",
        "print (\"We're done\")\n",
        "print (\"Total number of iterations: {}\". format)\n",
        "```"
      ]
    },
    {
      "cell_type": "code",
      "metadata": {
        "id": "Lxo3c1-XieSD",
        "colab": {
          "base_uri": "https://localhost:8080/"
        },
        "outputId": "e246e654-6ce4-40a6-c423-7a05e7966883"
      },
      "source": [
        "num = int (input (\"Enter an integer value:\"))\n",
        "ndiv = 0 # Let's initialize the counter to zero\n",
        "\n",
        "while num> 0:\n",
        "    res = num // 3\n",
        "    print (\"The integer division of {} by 3 gives: {}\". format (num, res))\n",
        "    ndiv = ndiv + 1 # Increase the value of the divisor counter made a unit\n",
        "    print (\"Number of divisions so far: {}\". format (ndiv))\n",
        "    num = int (input (\"Enter an integer value:\"))\n",
        "\n",
        "print (\"We're done\")\n",
        "print (\"Total number of iterations: {}\". format(ndiv))"
      ],
      "execution_count": null,
      "outputs": [
        {
          "output_type": "stream",
          "name": "stdout",
          "text": [
            "Enter an integer value:10\n",
            "The integer division of 10 by 3 gives: 3\n",
            "Number of divisions so far: 1\n",
            "Enter an integer value:3\n",
            "The integer division of 3 by 3 gives: 1\n",
            "Number of divisions so far: 2\n",
            "Enter an integer value:2\n",
            "The integer division of 2 by 3 gives: 0\n",
            "Number of divisions so far: 3\n",
            "Enter an integer value:5\n",
            "The integer division of 5 by 3 gives: 1\n",
            "Number of divisions so far: 4\n",
            "Enter an integer value:6\n",
            "The integer division of 6 by 3 gives: 2\n",
            "Number of divisions so far: 5\n",
            "Enter an integer value:8\n",
            "The integer division of 8 by 3 gives: 2\n",
            "Number of divisions so far: 6\n",
            "Enter an integer value:0\n",
            "We're done\n",
            "Total number of iterations: 6\n"
          ]
        }
      ]
    },
    {
      "cell_type": "markdown",
      "metadata": {
        "id": "miZc63anieSD"
      },
      "source": [
        "## 5.3 Accumulators\n",
        "\n",
        "In the previous session we had already seen how to get the sum of a series of values ​​in the case of the repetitive structure `for`. We will now see that in the case of the repetitive structure `while` it can also be done.\n",
        "\n",
        "In both cases the strategy must be the same:\n",
        "\n",
        "- a variable is used to go **accumulating** the value of the sum or the product, which we will call **accumulator**\n",
        "- this accumulator must be assigned an initial value, **initialize it**, to a value that is neutral (`0` in the case of the sum and` 1` in the case of the product)\n",
        "- a repetitive structure is used that is executed as many times (cycles) as terms we want to accumulate\n",
        "- in each cycle, a term is added to the accumulator in the form of a sum or product, as appropriate.\n",
        "\n",
        "Below we will see a piece of code made in such a way that it asks the user for real and positive numerical values. It is a matter of obtaining the sum of all these values ​​until one enters that is zero or negative.\n",
        "```Python\n",
        "sum = 0\n",
        "value = float (input (\"Enter a real value:\"))\n",
        "\n",
        "while value> 0:\n",
        "    sum = sum + value\n",
        "    value = float (input (\"Enter another real value:\"))\n",
        "    \n",
        "print (\"Cumulative amount: {}\". format (sum))\n",
        "```\n",
        "Check its operation in the next cell."
      ]
    },
    {
      "cell_type": "code",
      "metadata": {
        "id": "p370cwsxieSE",
        "colab": {
          "base_uri": "https://localhost:8080/"
        },
        "outputId": "8e46ea35-7236-462f-be34-b7b5f3920fcf"
      },
      "source": [
        "sum = 0\n",
        "value = float (input (\"Enter a real value:\"))\n",
        "\n",
        "while value> 0:\n",
        "    sum = sum + value\n",
        "    value = float (input (\"Enter another real value:\"))\n",
        "\n",
        "print (\"Cumulative amount: {}\". format (sum))"
      ],
      "execution_count": null,
      "outputs": [
        {
          "output_type": "stream",
          "name": "stdout",
          "text": [
            "Enter a real value:12\n",
            "Enter another real value:34\n",
            "Enter another real value:2\n",
            "Enter another real value:1\n",
            "Enter another real value:5\n",
            "Enter another real value:7\n",
            "Enter another real value:-0\n",
            "Cumulative amount: 61.0\n"
          ]
        }
      ]
    },
    {
      "cell_type": "markdown",
      "metadata": {
        "id": "bQan7J5XieSE"
      },
      "source": [
        "As you can see, a sum accumulator is always used in the same way:\n",
        "```Python\n",
        "sum = 0\n",
        "for or while ...\n",
        "     sum = sum + quantity_to_sum\n",
        "```\n",
        "that is, it must be initialized to zero before the cycle and within the cycle it must appear to the left and right of the equal sign in order to accumulate values."
      ]
    },
    {
      "cell_type": "markdown",
      "metadata": {
        "id": "DkXZzlZuieSE"
      },
      "source": [
        "_Note:_ Note that counters (Section 5.1) are nothing more than a particular case of sum accumulators where the term added to the sum is always 1."
      ]
    },
    {
      "cell_type": "markdown",
      "metadata": {
        "id": "Ga3o8_B3ieSE"
      },
      "source": [
        "## 5.4 Iterative solution of equations with the fixed point method\n",
        "\n",
        "In this section we will see a very useful application of repetitive structures using the `while` statement such as the _ iterative solution of equations_ using the ** fixed point method ** of successive approximations and which can be used when a variable does not can be isolated in an equation.\n",
        "\n",
        "In this method, an equation of a variable in the form is expressed\n",
        "$$ x = g (x) $$\n",
        "and it is about finding the actual value of $ x $ that satisfies it (it is called `fixed point`).\n",
        "\n",
        "In order to work with a specific example we will pose a problem: In a thermodynamic process of an ideal gas it has been found that from the initial temperature of the gas which is 298 K the system reaches a final temperature given by the equation\n",
        "\n",
        "$$ ln (T) + 1,445 · 10 - 3 T = 5.60 $$\n",
        "\n",
        "It is a question of determining the value of temperature T.\n",
        "\n",
        "Since the T cannot be isolated, what we can do is, for example, put the equation into the form\n",
        "\n",
        "$$ ln (T) = 5.60 - 1.445 · 10 ^ {- 3} {T} $$\n",
        "\n",
        "and therefore\n",
        "\n",
        "$$ T = e ^ \\left (5.60-1.445 · 10 ^ {- 3} T \\right) $$\n",
        "\n",
        "expression that is of the form $ T = g (T) $ suitable to apply the method of the `fixed point`.\n",
        "\n",
        "For Python resolution, instead of a variable T we will use two ($ T_0 $ and $ T_1 $) so that\n",
        "\n",
        "$$ T_1 = e ^\\left (5.60-1.445 · 10 ^ {- 3} T_0 \\right) $$\n",
        "\n",
        "that is, we have replaced the T on the part of the expression with $ T_0 $ and the one on the left with $ T_1 $.\n",
        "\n",
        "Finally we will use an iterative procedure consisting of giving an initial value to $ T_0 $ and thus calculating $ T_1 $. We will take the value thus obtained, set it as $ T_0 $ and re-determine $ T_1 $. With a little luck these values ​​will get closer and closer until they match. If $ T_1 $ and $ T_0 $ in the end are equal, it is clear that the original equation will be fulfilled with T and therefore we will have found the solution.\n",
        "\n",
        "The most common dilemma in such iterative resolutions is what initial value to use in the first step of all. This may vary depending on the problem we are solving, but whenever possible we will take a value that we know will be close to the solution.\n",
        "\n",
        "The reasons for using a good initial value are varied. Sometimes there is more than one solution and usually (not always) it is the closest to the value of what you start. In addition, this usually tends to find the solution with fewer steps, which is important if the calculation time of each cycle is very long (which in real problems can be hours, days or weeks, although it is not our case).\n",
        "\n",
        "The following code allows you to calculate the final temperature for the proposed case:\n",
        "```Python\n",
        "import math\n",
        "T0 = ​​float (input (\"Enter an initial temperature value in K:\"))\n",
        "T1 = math.exp (5.60-1.445e-3 * T0)\n",
        "print (\"Approximate temperature: {} K\" .format (T1))\n",
        "while T1! = T0:\n",
        "    T0 = ​​T1 # The value obtained is set back to T0\n",
        "    T1 = math.exp (5.60-1.445e-3 * T0)\n",
        "    print (\"Approximate temperature: {} K\" .format (T1))\n",
        "print (\"Final temperature: {} K\" .format (T1))\n",
        "```\n",
        "Copy it and run it in the next cell, entering an initial value of 298 K (since we do not know what value it will have we set the temperature of the initial state)."
      ]
    },
    {
      "cell_type": "code",
      "metadata": {
        "id": "4vV8bShgieSF"
      },
      "source": [],
      "execution_count": null,
      "outputs": []
    },
    {
      "cell_type": "markdown",
      "metadata": {
        "id": "atQDqLxnieSF"
      },
      "source": [
        "Note that in this example, the first time we evaluate the expression with the test value is _out of cycle_ `while`. We do this so that when evaluating the condition `T1! = T0` the two variables have an assigned value, as otherwise the Python interpreter would give an error."
      ]
    },
    {
      "cell_type": "markdown",
      "metadata": {
        "id": "zVwmb69kieSF"
      },
      "source": [
        "### 5.4.1 Iteration counter in the iterative solution of equations\n",
        "\n",
        "It is always interesting to know in how many iterations the equation has been solved using the indicated iterative procedure.\n",
        "\n",
        "According to what has been explained in section 5.2 we can add a counter that in this case we have called `niter` (number of iterations) to our program like this:\n",
        "\n",
        "```Python\n",
        "import math\n",
        "T0 = ​​float (input (\"Enter an initial temperature value in K:\"))\n",
        "T1 = math.exp (5.60-1.445e-3 * T0)\n",
        "print (\"Approximate temperature: {} K\" .format (T1))\n",
        "niter = 0\n",
        "while T1! = T0:\n",
        "    T0 = ​​T1 # The value obtained is set back to T0\n",
        "    T1 = math.exp (5.60-1.445e-3 * T0)\n",
        "    print (\"Approximate temperature: {} K\" .format (T1))\n",
        "    niter = niter + 1\n",
        "print (\"Final temperature: {} K\" .format (T1))\n",
        "print (\"Number of iterations: {}\" .format (niter))\n",
        "```\n",
        "\n",
        "Note that in this case the variable `niter`, tells us only the calculations made within the cycle. If you also want to count the calculation made before entering the cycle, you only need, for example, to initialize this variable to 1 instead of 0.\n",
        "\n",
        "Copy it and run it in the next cell entering a value of 298 K and check that at the end of it all write the number of iterations it took to find the result."
      ]
    },
    {
      "cell_type": "code",
      "metadata": {
        "id": "7mgs7_riieSF"
      },
      "source": [],
      "execution_count": null,
      "outputs": []
    },
    {
      "cell_type": "markdown",
      "metadata": {
        "id": "r5xA2OfYieSF"
      },
      "source": [
        "### 5.4.2 Convergence criterion\n",
        "\n",
        "When we manage to solve an equation iteratively we say that **convergence** has been achieved.\n",
        "\n",
        "It is worth noting that iterative algorithms with real numbers can sometimes present convergence problems due to the accuracy of these types of numbers (for example the sum of 2.2 and 4.4 should give 6.6 and instead give 6.6000000000000005).\n",
        "\n",
        "Also, the solution with so many decimals is often not needed. For example, in the case of the temperature we were seeing with 2 or 3 decimals would be enough.\n",
        "\n",
        "That is why it is not advisable to consider the **strict equality** between the test value $ T_0 $ and the resulting value $ T_1 $ as a condition of the end of the cycle. It could be the case that they would never be strictly the same and the cycle would run indefinitely.\n",
        "\n",
        "To avoid this type of situation, a condition is usually established according to which $ T_0 $ and $ T_1 $ cannot differ beyond a _conversion criterion_, indicated by $ \\ epsilon $. We can decide that we will consider that the values ​​are **practically the same** if they differ for example less than $ 10 ^ {- 6} $. Since to be practically equal no matter if $ T_1 $ is greater than or less than $ T_0 $, we will use the absolute value of the difference.\n",
        "\n",
        "Thus the _convergence condition_ is: $ | T_1 - T_0 | \\le \\epsilon $ (if the difference in absolute value between $ T_1 $ and $ T_0 $ is smaller than $ \\epsilon $ is considered to be _practically equal_ and not otherwise).\n",
        "\n",
        "Also note that the condition that must go with the `while` statement must always be the **opposite** to the end condition."
      ]
    },
    {
      "cell_type": "markdown",
      "metadata": {
        "id": "IsjFciHCieSG"
      },
      "source": [
        "We have modified our temperature program code so that the user can enter the value of $ \\epsilon $ (epsilon).\n",
        "```Python\n",
        "import math\n",
        "T0 = ​​float (input (\"Enter an initial temperature value in K:\"))\n",
        "eps = float (input (\"Enter epsilon value:\"))\n",
        "T1 = math.exp (5.60-1.445e-3 * T0)\n",
        "print (\"Approximate temperature: {} K\" .format (T1))\n",
        "niter = 0\n",
        "while abs (T1 - T0)> eps:\n",
        "    T0 = ​​T1 # The value obtained is set back to T0\n",
        "    T1 = math.exp (5.60-1.445e-3 * T0)\n",
        "    print (\"Approximate temperature: {} K\" .format (T1))\n",
        "    niter = niter + 1\n",
        "print (\"Final temperature: {} K\" .format (T1))\n",
        "print (\"Number of iterations: {}\" .format (niter))\n",
        "```\n",
        "\n",
        "Try to calculate the result from an initial temperature of 298 K, more and more accurately, with different values ​​of $ \\epsilon $ (1e-2, 1e-3, 1e-4, ...).\n",
        "\n",
        "We take this opportunity to remind you that when asked for the epsilon value, we can enter these values ​​by typing exactly 1e-2, 1e-3, 1e-4, ..., as an alternative to writing 0.01, 0.001, 0.0001, etc.\n",
        "\n",
        "Note that the more accuracy required the greater the number of iterations required."
      ]
    },
    {
      "cell_type": "code",
      "metadata": {
        "id": "qD4M1qR3ieSG"
      },
      "source": [],
      "execution_count": null,
      "outputs": []
    },
    {
      "cell_type": "markdown",
      "metadata": {
        "id": "UjcnKKClieSG"
      },
      "source": [
        "### 5.4.3 It does not always converge\n",
        "\n",
        "It is worth noting that this fixed point method of successive approximations does not always lead to a solution. Sometimes the consecutive values ​​are more and more different and then it is said that the method does not _converge_ but _diverges_.\n",
        "\n",
        "As an example we can consider the same equation as our example of temperature:\n",
        "\n",
        "$$ ln (T) + 1,445 · 10 - 3 T = 5.60 $$\n",
        "\n",
        "Instead of isolating the T from the Neperian logarithm we can directly isolate the other (which is even easier to obtain) and put\n",
        "\n",
        "$$ T = \\frac {5.60 - ln (T)} {1.445 · 10 ^ {- 3}} $$\n",
        "\n",
        "If we now split into $ T_0 $ and $ T_1 $ we will have\n",
        "\n",
        "$$ T_1 = \\frac {5.60 - ln (T_0)} {1.445 · 10 ^ {- 3}} $$\n",
        "\n",
        "The code to find the solution would now be this\n",
        "```Python\n",
        "import math\n",
        "T0 = ​​float (input (\"Enter an initial temperature value in K:\"))\n",
        "eps = float (input (\"Enter epsilon value:\"))\n",
        "T1 = (5.60-math.log (T0)) / 1.445e-3\n",
        "print (\"Approximate temperature: {} K\" .format (T1))\n",
        "niter = 0\n",
        "while abs (T1 - T0)> eps:\n",
        "    T0 = ​​T1 # The value obtained is set back to T0\n",
        "    T1 = (5.60-math.log (T0)) / 1.445e-3\n",
        "    print (\"Approximate temperature: {} K\" .format (T1))\n",
        "    niter = niter + 1\n",
        "print (\"Final temperature: {} K\" .format (T1))\n",
        "print (\"Number of iterations: {}\" .format (niter))\n",
        "```\n",
        "Copy it and test it in the next cell with an initial temperature of 298 K."
      ]
    },
    {
      "cell_type": "code",
      "metadata": {
        "id": "F9aFg_vOieSG"
      },
      "source": [],
      "execution_count": null,
      "outputs": []
    },
    {
      "cell_type": "markdown",
      "metadata": {
        "id": "j4Znu6lBieSH"
      },
      "source": [
        "Observe what the program writes. Can you tell why the code ends up making a mistake?"
      ]
    },
    {
      "cell_type": "markdown",
      "metadata": {
        "id": "gSpcyp2WpI-Z"
      },
      "source": [
        "We cannot log a negative number\n"
      ]
    },
    {
      "cell_type": "markdown",
      "metadata": {
        "id": "F4AbL-tEieSH"
      },
      "source": [
        "***"
      ]
    }
  ]
}