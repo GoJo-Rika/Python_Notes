{
  "nbformat": 4,
  "nbformat_minor": 0,
  "metadata": {
    "kernelspec": {
      "display_name": "Python 3",
      "language": "python",
      "name": "python3"
    },
    "language_info": {
      "codemirror_mode": {
        "name": "ipython",
        "version": 3
      },
      "file_extension": ".py",
      "mimetype": "text/x-python",
      "name": "python",
      "nbconvert_exporter": "python",
      "pygments_lexer": "ipython3",
      "version": "3.8.8"
    },
    "colab": {
      "provenance": []
    }
  },
  "cells": [
    {
      "cell_type": "markdown",
      "metadata": {
        "id": "RataCXlLRbB9"
      },
      "source": [
        "# S07 Lists\n",
        "\n",
        "Mit Patel. Version 1.00 (August 2023)\n",
        "\n",
        "***\n",
        "\n",
        "# 7. Collective variables\n",
        "\n",
        "In this session we introduce a new family of variables which are the **collective variables**, to which we can assign not a single value but **a whole collection of values​​**.\n",
        "\n",
        "In standard Python, there are 4 basic types of collective variables:\n",
        "\n",
        "- **lists**, called `list` variables\n",
        "- the **dictionaries**, called variables of type `dict`\n",
        "- the **sets**, called `set` type variables\n",
        "\n",
        "Some Python modules also incorporate new, more sophisticated data structures that are built from more basic ones. An example is the _NumPy arrays_ that we will see in later sessions.\n",
        "\n",
        "Of the 4 basic types, this course will only look at how they are and how the lists work."
      ]
    },
    {
      "cell_type": "markdown",
      "metadata": {
        "id": "bpe2gI6ARbB_"
      },
      "source": [
        "## 7.1. Lists\n",
        "\n",
        "Lists in Python (`list` objects) can store a **_ordered_ collection of values​​**.\n",
        "\n",
        "The easiest way to generate a list is to use the following statement:\n",
        "\n",
        "```python\n",
        "variable = [comma separated items]\n",
        "```\n",
        "\n",
        "The syntax of the instruction is important. List items are entered **in square brackets and separated by commas**.\n",
        "\n",
        "In the following program excerpt, two lists are defined in this way. The first contains four integers and we have called it 'll_integers`. This list we just created contains only integer values, but we could also have real, complex, or literal values, and so on. In fact, one of the great flexibilities of lists in Python is that ** they can simultaneously contain values ​​of different types **. In the second list, which we have called `smooth` can be seen. The list in this case consists of a real value, an integer, a complex number, a string, a Boolean value, and even a 2-item list.\n",
        "```Python\n",
        "_Integer = [1, 2, 3, 4]\n",
        "smooth = [3.14, 7, -2 + 3j, 'water', False, [1, 2]]\n",
        "```\n",
        "These **lists are sorted**: by making a _print_, the computer writes its items in the same order in which we entered them. This command is essential to be able to retrieve the information in the list. Check it in the following cell, copying and running these lines:\n",
        "```Python\n",
        "\n",
        "_Integer = [1, 2, 3, 4]\n",
        "_print (integer)\n",
        "smooth = [3.14, 7, -2 + 3j, 'water', False, [1, 2]]\n",
        "print (smooth)\n",
        "```"
      ]
    },
    {
      "cell_type": "code",
      "metadata": {
        "id": "6M4h6GluRbCA",
        "colab": {
          "base_uri": "https://localhost:8080/"
        },
        "outputId": "0581b1e1-87b0-4cdf-bf61-a49ae4ab5913"
      },
      "source": [
        "_Integer = [1, 2, 3, 4]\n",
        "print(_Integer)\n",
        "smooth = [3.14, 7, -2 + 3j, 'water', False, [1, 2]]\n",
        "print(smooth)"
      ],
      "execution_count": null,
      "outputs": [
        {
          "output_type": "stream",
          "name": "stdout",
          "text": [
            "[1, 2, 3, 4]\n",
            "[3.14, 7, (-2+3j), 'water', False, [1, 2]]\n"
          ]
        }
      ]
    },
    {
      "cell_type": "markdown",
      "metadata": {
        "id": "Xs2h0G_iRbCA"
      },
      "source": [
        "Just check that if we only refer to the name of the list (in our example `whole_` or` smooth` using a `print` statement) we get **all its values**."
      ]
    },
    {
      "cell_type": "markdown",
      "metadata": {
        "id": "t_Nv7Ka-RbCB"
      },
      "source": [
        "### 7.1.1 Length of a list\n",
        "\n",
        "We can get the total number of items in a list using the ** `len ()` ** function. We already used this function to determine the length of a character string.\n",
        "\n",
        "Check this by running the following program snippet:\n",
        "```Python\n",
        "smooth = [3.14, 7, -2 + 3j, 'water', False, [1, 2]]\n",
        "long_smooth = len (smooth)\n",
        "print (long_llis)\n",
        "```"
      ]
    },
    {
      "cell_type": "code",
      "metadata": {
        "id": "WLCddTvvRbCB",
        "colab": {
          "base_uri": "https://localhost:8080/"
        },
        "outputId": "39b22397-a2af-4e41-9c1a-30e5bc1370e4"
      },
      "source": [
        "smooth = [3.14, 7, -2 + 3j, 'water', False, [1, 2]]\n",
        "long_smooth = len (smooth)\n",
        "print(smooth)\n",
        "print (long_smooth)"
      ],
      "execution_count": null,
      "outputs": [
        {
          "output_type": "stream",
          "name": "stdout",
          "text": [
            "[3.14, 7, (-2+3j), 'water', False, [1, 2]]\n",
            "6\n"
          ]
        }
      ]
    },
    {
      "cell_type": "markdown",
      "metadata": {
        "id": "XtWGV3zjRbCB"
      },
      "source": [
        "## 7.2 Specify some items in a list\n",
        "\n",
        "We've seen before that if we type only the name of the list, we get **all its values**.\n",
        "\n",
        "To get the value of one or more items in a list you will need to:\n",
        "\n",
        "- we specify the name of the variable that contains the list and in addition\n",
        "- we specify the position (s) of the item (or items) we want to get\n",
        "\n",
        "There are two ways to do this. We will use one way or the other depending on whether we only want a single element, or a segment (_slice_, in English) of it.\n"
      ]
    },
    {
      "cell_type": "markdown",
      "metadata": {
        "id": "VzCVYrUURbCB"
      },
      "source": [
        "### 7.2.1 Obtain individual items from a list\n",
        "\n",
        "Each item in a list occupies a position and is automatically associated with an ** index **. To get its value we need to specify ** the name of the variable and the position of the desired element **.\n",
        "\n",
        "The position is indicated by an integer value expressed in square brackets and keep in mind that ** the list always starts at position 0 **.\n",
        "\n",
        "Notice the similarity with what we saw in the previous session on specifying characters in strings.\n",
        "\n",
        "What value do you think this program snippet will write?\n",
        "```Python\n",
        "smooth = [3.14, 7, -2 + 3j, 'water', False, [1, 2]]\n",
        "print (smooth [2])\n",
        "```\n",
        "\n",
        "Try it in the following cell:"
      ]
    },
    {
      "cell_type": "code",
      "metadata": {
        "id": "pxSF0b_oRbCC"
      },
      "source": [
        "\n"
      ],
      "execution_count": null,
      "outputs": []
    },
    {
      "cell_type": "markdown",
      "metadata": {
        "id": "8SgQgbQFRbCC"
      },
      "source": [
        "If we use an index that exceeds the number of items in the list as an index, the Python interpreter will give an error message and stop the program from running. To check this, run the following code in the cell that asks for the value of the item with index 8 in the list, when it has only 6 items.\n",
        "  ```Python\n",
        "smooth = [3.14, 7, -2 + 3j, 'water', False, [1, 2]]\n",
        "print (smooth [8])\n",
        "  ```"
      ]
    },
    {
      "cell_type": "code",
      "metadata": {
        "id": "4NOCX80hRbCC"
      },
      "source": [],
      "execution_count": null,
      "outputs": []
    },
    {
      "cell_type": "markdown",
      "metadata": {
        "id": "KqF0HyG6RbCC"
      },
      "source": [
        "Notice what you get in the following case:\n",
        "```Python\n",
        "smooth = [3.14, 7, -2 + 3j, 'water', False, [1, 2]]\n",
        "print (smooth [5]) # The index 5 item in the list is written\n",
        "print (smooth [5] [1]) # Writing index item 1 from smooth list [5]\n",
        "```"
      ]
    },
    {
      "cell_type": "code",
      "metadata": {
        "id": "5rreSnBLRbCC"
      },
      "source": [],
      "execution_count": null,
      "outputs": []
    },
    {
      "cell_type": "markdown",
      "metadata": {
        "id": "Gzrv5GqXRbCD"
      },
      "source": [
        "Note that because the index item 5 in the `smooth` list is also a list (` [1, 2] `) the second index (` [1] `) indicates the item in that list that is what will be written."
      ]
    },
    {
      "cell_type": "markdown",
      "metadata": {
        "id": "Y2_oBGqERbCD"
      },
      "source": [
        "### 7.2.2 Get a _slice_ from the list\n",
        "\n",
        "Finally, if we are interested in a **slice of the list** (a subset, a segment or cut of list items) we will indicate the first and last item we want from the list, always using the square brackets. Here, too, a clarification is needed: When specifying the start and end index of the range, **the end index will be excluded**.\n",
        "\n",
        "Like this:\n",
        "\n",
        "```python\n",
        "[start: end]\n",
        "```\n",
        "indicates all items between `start` and` end-1`.\n",
        "\n",
        "\n",
        "If the initial or final value in brackets is left blank, the first or last item in the list is understood, respectively:\n",
        "\n",
        "```python\n",
        "[: end] # items between the first item in the list and \"end-1\"\n",
        "[start:] # items between \"start\" and the last item in the list\n",
        "```\n",
        "\n",
        "Think about what the _print_ instructions will write in the following code and check:\n",
        "```Python\n",
        "smooth = [3.14, 7, -2 + 3j, 'water', False, [1, 2]]\n",
        "print (smooth [: 3])\n",
        "print (smooth [1: 4])\n",
        "print (smooth [2:])\n",
        "```"
      ]
    },
    {
      "cell_type": "code",
      "metadata": {
        "id": "FJiKWegnRbCD"
      },
      "source": [
        "\n"
      ],
      "execution_count": null,
      "outputs": []
    },
    {
      "cell_type": "markdown",
      "metadata": {
        "id": "CIwINCfaRbCD"
      },
      "source": [
        "You can also specify a third index that corresponds to the increase to be taken into account in the indexes from the beginning. If we do not put it, it is supposed to be worth 1.\n",
        "\n",
        "So we can put for example:\n",
        "```Python\n",
        "smooth = [3.14, 7, -2 + 3j, 'water', False, [1, 2]]\n",
        "print (smooth [:: 2]) # From start to finish, 2 by 2\n",
        "print (smooth [1 :: 2]) # From index item 1 to end, 2 by 2\n",
        "```\n",
        "Think about what will be written and check it out:"
      ]
    },
    {
      "cell_type": "code",
      "metadata": {
        "id": "224EgJNPRbCD",
        "colab": {
          "base_uri": "https://localhost:8080/"
        },
        "outputId": "b221af5d-a48b-4065-dc65-466047c5fb0a"
      },
      "source": [
        "smooth = [3.14, 7, -2 + 3j, 'water', False, [1, 2]]\n",
        "print (smooth [:: 2]) # From start to finish, 2 by 2\n",
        "print (smooth [1 :: 2]) # From index item 1 to end, 2 by 2"
      ],
      "execution_count": null,
      "outputs": [
        {
          "output_type": "stream",
          "name": "stdout",
          "text": [
            "[3.14, (-2+3j), False]\n",
            "[7, 'water', [1, 2]]\n"
          ]
        }
      ]
    },
    {
      "cell_type": "markdown",
      "metadata": {
        "id": "WnXuZ4SIRbCE"
      },
      "source": [
        "### 7.2.3 Negative indexes\n"
      ]
    },
    {
      "cell_type": "markdown",
      "metadata": {
        "id": "YgDZxfzpRbCE"
      },
      "source": [
        "It is possible to use **negative indices** as _start_ and / or _end_ values, corresponding to the value \"-1\" in the last element, \"-2\" in the penultimate, etc.\n",
        "\n",
        "Let's look at an example:\n",
        "```Python\n",
        "smooth = [3.14, 7, -2 + 3j, 'water', False, [1, 2]]\n",
        "print (smooth [-1])\n",
        "print (smooth [-2])\n",
        "print (smooth [-4: -2])\n",
        "```\n",
        "What do you think he will write? Check it out:"
      ]
    },
    {
      "cell_type": "code",
      "metadata": {
        "id": "gr7t4qHbRbCE",
        "colab": {
          "base_uri": "https://localhost:8080/"
        },
        "outputId": "2b683b7d-cd11-4361-ec98-049b242d1368"
      },
      "source": [
        "smooth = [3.14, 7, -2 + 3j, 'water', False, [1, 2]]\n",
        "print (smooth [-1])\n",
        "print (smooth [-2])\n",
        "print (smooth [-4: -2])"
      ],
      "execution_count": null,
      "outputs": [
        {
          "output_type": "stream",
          "name": "stdout",
          "text": [
            "[1, 2]\n",
            "False\n",
            "[(-2+3j), 'water']\n"
          ]
        }
      ]
    },
    {
      "cell_type": "markdown",
      "metadata": {
        "id": "kzg1iVvqRbCE"
      },
      "source": [
        "(_Note:_ Remember that the last index will be excluded from the sequence if we specify it)"
      ]
    },
    {
      "cell_type": "markdown",
      "metadata": {
        "id": "Q5MZOfsBRbCE"
      },
      "source": [
        "## 7.3 Add and remove items from a list\n"
      ]
    },
    {
      "cell_type": "markdown",
      "metadata": {
        "id": "swvq45W7RbCE"
      },
      "source": [
        "Items in a list can be removed from the list, and new items can be inserted in any position.\n",
        "\n",
        "This type of operation is performed using the so-called ** list methods **, which have the form\n",
        "\n",
        "`` `python\n",
        "variable_name.method (arguments)\n",
        "`` `\n",
        "\n",
        "Although there are many methods for listing, we will only see a couple of them as an example of what can be done.\n",
        "\n",
        "### 7.3.1 Adding new items to the end of a list: `.append ()` method\n",
        "\n",
        "To **add an item to the end of the existing list**, we will use the method **`.append ()`** and in parentheses (as an argument) we will specify the value we want to add.\n",
        "\n",
        "The following code snippet adds the value 25 to the end of the list we've been seeing so far.\n",
        "```Python\n",
        "smooth = [3.14, 7, -2 + 3j, 'water', False, [1, 2]]\n",
        "smooth.append (25) # add the value \"25\" to the end of the list\n",
        "print (smooth)\n",
        "```\n",
        "\n",
        "Run it in the cell and check that it looks like this:"
      ]
    },
    {
      "cell_type": "code",
      "metadata": {
        "id": "DkAOWvXmRbCF"
      },
      "source": [],
      "execution_count": null,
      "outputs": []
    },
    {
      "cell_type": "markdown",
      "metadata": {
        "id": "P2hW83gWRbCF"
      },
      "source": [
        "### 7.3.2 Remove items from a list: `.pop () method\n",
        "\n",
        "To **remove items from a list** there are different possible methods depending on what we want to do. Here we will see only one.\n",
        "\n",
        "- The `.pop ()`  method removes an item from the list and allows you to assign the deleted value to a variable. In parentheses, as an argument to the function, the position of the item to be deleted is specified.\n",
        "\n",
        "In the following example we define a list with the symbol of different chemical elements and then remove the third element which is that of index 2 (remember that indices start with zero).\n",
        "```Python\n",
        "chem_sim = [\"H\", \"Pb\", \"I\", \"F\", \"Cl\", \"Ar\", \"O\"]\n",
        "element = chem_sim.pop (2) # The third item in the list is removed\n",
        "print (\"We have removed the item: {}\". format (item))\n",
        "print (\"The list is now: {}\". format (chem_sim))\n",
        "```\n",
        "\n",
        "Run it in the cell to see the result of the `pop ()` statement:"
      ]
    },
    {
      "cell_type": "code",
      "metadata": {
        "id": "wIa8aL_NRbCF",
        "colab": {
          "base_uri": "https://localhost:8080/"
        },
        "outputId": "9632ba03-a755-47d5-ee5f-0ce7d2a1fbfc"
      },
      "source": [
        "chem_sim = [\"H\", \"Pb\", \"I\", \"F\", \"Cl\", \"Ar\", \"O\"]\n",
        "element = chem_sim.pop (2) # The third item in the list is removed\n",
        "print (\"We have removed the item: {}\". format (element))\n",
        "print (\"The list is now: {}\". format (chem_sim))"
      ],
      "execution_count": null,
      "outputs": [
        {
          "output_type": "stream",
          "name": "stdout",
          "text": [
            "We have removed the item: I\n",
            "The list is now: ['H', 'Pb', 'F', 'Cl', 'Ar', 'O']\n"
          ]
        }
      ]
    },
    {
      "cell_type": "code",
      "source": [
        "chem_sim"
      ],
      "metadata": {
        "colab": {
          "base_uri": "https://localhost:8080/"
        },
        "id": "wmIoYOiqLicY",
        "outputId": "ca4c192d-2820-4c4e-fb12-565fe1c7c3b7"
      },
      "execution_count": null,
      "outputs": [
        {
          "output_type": "execute_result",
          "data": {
            "text/plain": [
              "['H', 'Pb', 'I', 'F', 'Cl', 'O']"
            ]
          },
          "metadata": {},
          "execution_count": 18
        }
      ]
    },
    {
      "cell_type": "markdown",
      "metadata": {
        "id": "OY6UsMumRbCF"
      },
      "source": [
        "If the `.pop ()` method argument is left blank, the last item in the list is removed.\n",
        "\n",
        "Check this by running the following code snippet:\n",
        "```Python\n",
        "chem_sim = [\"H\", \"Pb\", \"I\", \"F\", \"Cl\", \"Ar\", \"O\"]\n",
        "element = chem_sim.pop ()\n",
        "print (\"We have removed the item: {}\". format (item))\n",
        "print (\"The list is now: {}\". format (chem_sim))\n",
        "```"
      ]
    },
    {
      "cell_type": "code",
      "metadata": {
        "id": "2r8aGoJiRbCF",
        "colab": {
          "base_uri": "https://localhost:8080/"
        },
        "outputId": "4ee9f086-d8aa-45b5-9a09-6abd0c8df882"
      },
      "source": [
        "chem_sim = [\"H\", \"Pb\", \"I\", \"F\", \"Cl\", \"Ar\", \"O\"]\n",
        "element = chem_sim.pop ()\n",
        "print (\"We have removed the item: {}\". format (element))\n",
        "print (\"The list is now: {}\". format (chem_sim))"
      ],
      "execution_count": null,
      "outputs": [
        {
          "output_type": "stream",
          "name": "stdout",
          "text": [
            "We have removed the item: O\n",
            "The list is now: ['H', 'Pb', 'I', 'F', 'Cl', 'Ar']\n"
          ]
        }
      ]
    },
    {
      "cell_type": "markdown",
      "metadata": {
        "id": "oNFoir5ORbCF"
      },
      "source": [
        "## 7.4 Creating a list\n",
        "\n",
        "### 7.4.1 By assignment\n",
        "To create a list, the most direct way is to write it directly with its elements in square brackets and separated by commas, as we have seen:\n",
        "\n",
        "```python\n",
        "chem_sim = [\"H\", \"Pb\", \"I\", \"F\", \"Cl\", \"Ar\", \"O\"]\n",
        "```"
      ]
    },
    {
      "cell_type": "markdown",
      "metadata": {
        "id": "qwfbAw8QRbCF"
      },
      "source": [
        "### 7.4.2 Using the range () statement\n",
        "\n",
        "A second way to generate a list is to take advantage of a Python statement that automatically generates a sequence. Probably the most commonly used statement in Python to generate a sequence is `range ()`, which we already saw.\n",
        "\n",
        "The integer sequence generated by `range ()` can be converted to a list using the `list ()` function. Let's look at the following example, in which with `range` the sequence of integers from 0 to 6 is generated and with` list` it becomes a list.\n",
        "```Python\n",
        "nat7 = list (range (7))\n",
        "print (nat7) # The list is being written\n",
        "print (type (nat7)) # Let's type the type of the variable to see that it is a list\n",
        "```\n",
        "Note that in the last line we typed the type of the variable `nat7` with the function` type` to check that a list has actually been obtained.\n",
        "\n",
        "The `type` function can be used with any type of variable and is called:` type (variable_name) `.\n",
        "It is not usually necessary, but it is useful in case we have doubts about the type of a variable."
      ]
    },
    {
      "cell_type": "code",
      "metadata": {
        "id": "H2ZfdpqKRbCG",
        "colab": {
          "base_uri": "https://localhost:8080/"
        },
        "outputId": "d72f20e1-4565-42e0-9c1c-6c1cfd329ca0"
      },
      "source": [
        "nat7 = list (range (7))\n",
        "print (nat7) # The list is being written\n",
        "print (type (nat7)) # Let's type the type of the variable to see that it is a list"
      ],
      "execution_count": null,
      "outputs": [
        {
          "output_type": "stream",
          "name": "stdout",
          "text": [
            "[0, 1, 2, 3, 4, 5, 6]\n",
            "<class 'list'>\n"
          ]
        }
      ]
    },
    {
      "cell_type": "markdown",
      "metadata": {
        "id": "B2qF9JRPRbCG"
      },
      "source": [
        "### 7.4.3 Based on data entered by the user\n",
        "\n",
        "We often want to develop Python programs that ask the user for data so that the user can enter it at runtime, without having to modify the Python program.\n",
        "\n",
        "A practical way to build a list of values ​​from data entered by the user is, first, to **initialize a variable with an empty list**:\n",
        "\n",
        "```python\n",
        "new_list = [] #create new empty list\n",
        "```\n",
        "\n",
        "Once the empty list is created, items are added iteratively.\n",
        "\n",
        "We must keep in mind that the values ​​entered by the user are always read as strings and that if we want to work with them as numeric data we must convert them to numeric type (`float` or `int`).\n",
        "\n",
        "#### Enter data one by one\n",
        "\n",
        "In the following example there is a code that constructs a list of items called `llnum` from numeric data entered by the user. Study it carefully (no new instructions appear) and then run it in the cell:\n",
        "```Python\n",
        "print (\"This program will create a list from real numeric data\")\n",
        "nval = int (input (\"Enter number of values:\")) # Number of values ​​must be integer\n",
        "llnum = [] # We create an empty list\n",
        "# Cycle for about the number of values ​​to enter\n",
        "# The range will generate a sequence of n values ​​(0.1, ..., n-1)\n",
        "for i in range (nval):\n",
        "    value = float (input (\"Enter a numeric value:\")) # Enter the value and convert it to float\n",
        "    llnum.append (value) # Add it to the list\n",
        "print (llnum)\n",
        "```\n"
      ]
    },
    {
      "cell_type": "code",
      "metadata": {
        "id": "6BVedG_jRbCG",
        "colab": {
          "base_uri": "https://localhost:8080/"
        },
        "outputId": "56c4af95-2862-46ad-fc59-6d8136d663a5"
      },
      "source": [
        "print (\"This program will create a list from real numeric data\")\n",
        "nval = int (input (\"Enter number of values:\")) # Number of values ​​must be integer\n",
        "llnum = [] # We create an empty list\n",
        "# Cycle for about the number of values ​​to enter\n",
        "# The range will generate a sequence of n values ​​(0.1, ..., n-1)\n",
        "for i in range (nval):\n",
        "    value = float (input (\"Enter a numeric value:\")) # Enter the value and convert it to float\n",
        "    llnum.append (value) # Add it to the list\n",
        "print (llnum)"
      ],
      "execution_count": null,
      "outputs": [
        {
          "output_type": "stream",
          "name": "stdout",
          "text": [
            "This program will create a list from real numeric data\n",
            "Enter number of values:5\n",
            "Enter a numeric value:2.1\n",
            "Enter a numeric value:2.2\n",
            "Enter a numeric value:5.1\n",
            "Enter a numeric value:5.8\n",
            "Enter a numeric value:9\n",
            "[2.1, 2.2, 5.1, 5.8, 9.0]\n"
          ]
        }
      ]
    },
    {
      "cell_type": "markdown",
      "metadata": {
        "id": "Vz9-80UVRbCG"
      },
      "source": [
        "#### Enter data on a single line\n",
        "\n",
        "The combination of the `for` statement and the` .split () `method of the strings allows us to **generate a list of values ​** from user data without having to enter them one by one. and pressing `Enter` each time, but **in a single line** and pressing` Enter` only once.\n",
        "\n",
        "Note the following example where a list of temperature values ​​is read:\n",
        "```Python\n",
        "line = input (\"Enter, in a single line and SEPARATED BY SPACES, the desired temperature values:\")\n",
        "# Separate values ​​as text strings and get a list of strings\n",
        "smooth_txt = line.split ()\n",
        "print (\"List is now {}\" .format (smooth_txt))\n",
        "temp = [] # We create an empty list for numeric values\n",
        "for element in smooth_txt: # For each element in the string list\n",
        "    value = float (element) # we convert the element to float\n",
        "    temp.append (value) # and we add the numeric value to the new list\n",
        "print (\"The final list is {}\". format (temp)) # We write the list of numeric values\n",
        "```\n",
        "For example, run it in the incoming cell on the same line:\n",
        " 5.1 10.2 15.5 20.3 25.8 30.4"
      ]
    },
    {
      "cell_type": "code",
      "metadata": {
        "id": "wF-7OjNjRbCH",
        "colab": {
          "base_uri": "https://localhost:8080/"
        },
        "outputId": "723eb91b-47a2-4b37-cc14-47d75c93aae8"
      },
      "source": [
        "line = input (\"Enter, in a single line and SEPARATED BY SPACES, the desired temperature values:\")\n",
        "# Separate values ​​as text strings and get a list of strings\n",
        "smooth_txt = line.split ()\n",
        "print (\"List is now {}\" .format (smooth_txt))\n",
        "temp = [] # We create an empty list for numeric values\n",
        "for element in smooth_txt: # For each element in the string list\n",
        "    value = float (element) # we convert the element to float\n",
        "    temp.append (value) # and we add the numeric value to the new list\n",
        "print (\"The final list is {}\". format (temp)) # We write the list of numeric values"
      ],
      "execution_count": null,
      "outputs": [
        {
          "output_type": "stream",
          "name": "stdout",
          "text": [
            "Enter, in a single line and SEPARATED BY SPACES, the desired temperature values:203 302.11 277.88 298.12 233.33 301.12\n",
            "List is now ['203', '302.11', '277.88', '298.12', '233.33', '301.12']\n",
            "The final list is [203.0, 302.11, 277.88, 298.12, 233.33, 301.12]\n"
          ]
        }
      ]
    },
    {
      "cell_type": "markdown",
      "metadata": {
        "id": "bNimHKNsRbCH"
      },
      "source": [
        "Note that in the first case the values, as they are strings, come out in quotation marks and in the second case, as they are numeric, no longer."
      ]
    },
    {
      "cell_type": "markdown",
      "metadata": {
        "id": "fWj8uQeeRbCH"
      },
      "source": [
        "### 7.4.4 From a _string_\n",
        "\n",
        "\n",
        "If a program already has a string, as we saw in the previous example, a list can be generated from it using the ** `.split ()` method **, which allows us to separate a string from characters in several.\n",
        "\n",
        "If we do not put anything in parentheses (we do not specify any arguments) the string is segmented using whitespace as separators.\n",
        "\n",
        "In the following example, we apply the `.split ()` method to a string (which we have called `phrase`) and assign the result to a list of strings which we have called` words`.\n",
        "```Python\n",
        "line = \"Temperature is 298.15 K before combustion\"\n",
        "words = line.split () # Separates line into words\n",
        "print (words)\n",
        "```\n",
        "\n",
        "Run it and you will see the result:"
      ]
    },
    {
      "cell_type": "code",
      "metadata": {
        "id": "mc4CVWEJRbCH",
        "colab": {
          "base_uri": "https://localhost:8080/"
        },
        "outputId": "022d6563-6f5a-41b3-9d6d-ead9c95836c9"
      },
      "source": [
        "line = \"Temperature is 298.15 K before combustion\"\n",
        "words = line.split (' ') # Separates line into words\n",
        "print (words)"
      ],
      "execution_count": null,
      "outputs": [
        {
          "output_type": "stream",
          "name": "stdout",
          "text": [
            "['Temperature', 'is', '298.15', 'K', 'before', 'combustion']\n"
          ]
        }
      ]
    },
    {
      "cell_type": "markdown",
      "metadata": {
        "id": "Jx-T6DJwRbCH"
      },
      "source": [
        "Its fifth item on the list is the value of temperature. If we wanted to operate numerically with it, we would have to make it a real value.\n",
        "\n",
        "So we would have for example:\n",
        "```Python\n",
        "line = \"Temperature is 298.15 K before combustion\"\n",
        "words = line.split () # Separates line into words\n",
        "tK = float (words [4]) # The fifth item in the list corresponds to index 4\n",
        "tC = tK - 273.15 # The temperature in kelvin is converted to degrees Celsius\n",
        "print (\"Temperature in degrees Celsius: {}\". format (tC))\n",
        "```\n",
        "\n",
        "Run it in the following cell to check:"
      ]
    },
    {
      "cell_type": "code",
      "metadata": {
        "id": "j7fQG-GhRbCI",
        "colab": {
          "base_uri": "https://localhost:8080/",
          "height": 228
        },
        "outputId": "97304fa3-d90f-4856-f04e-0f8319cd2683"
      },
      "source": [
        "line = \"Temperature is 298.15 K before combustion\"\n",
        "words = line.split () # Separates line into words\n",
        "tK = float (words [4]) # The fifth item in the list corresponds to index 4\n",
        "tC = tK - 273.15 # The temperature in kelvin is converted to degrees Celsius\n",
        "print (\"Temperature in degrees Celsius: {}\". format (tC))"
      ],
      "execution_count": null,
      "outputs": [
        {
          "output_type": "error",
          "ename": "TypeError",
          "evalue": "ignored",
          "traceback": [
            "\u001b[0;31m---------------------------------------------------------------------------\u001b[0m",
            "\u001b[0;31mTypeError\u001b[0m                                 Traceback (most recent call last)",
            "\u001b[0;32m<ipython-input-36-9ef105c82ef2>\u001b[0m in \u001b[0;36m<cell line: 4>\u001b[0;34m()\u001b[0m\n\u001b[1;32m      2\u001b[0m \u001b[0mwords\u001b[0m \u001b[0;34m=\u001b[0m \u001b[0mline\u001b[0m\u001b[0;34m.\u001b[0m\u001b[0msplit\u001b[0m \u001b[0;34m(\u001b[0m\u001b[0;34m)\u001b[0m \u001b[0;31m# Separates line into words\u001b[0m\u001b[0;34m\u001b[0m\u001b[0;34m\u001b[0m\u001b[0m\n\u001b[1;32m      3\u001b[0m \u001b[0mtK\u001b[0m \u001b[0;34m=\u001b[0m \u001b[0;34m(\u001b[0m\u001b[0mwords\u001b[0m \u001b[0;34m[\u001b[0m\u001b[0;36m4\u001b[0m\u001b[0;34m]\u001b[0m\u001b[0;34m)\u001b[0m \u001b[0;31m# The fifth item in the list corresponds to index 4\u001b[0m\u001b[0;34m\u001b[0m\u001b[0;34m\u001b[0m\u001b[0m\n\u001b[0;32m----> 4\u001b[0;31m \u001b[0mtC\u001b[0m \u001b[0;34m=\u001b[0m \u001b[0mtK\u001b[0m \u001b[0;34m-\u001b[0m \u001b[0;36m273.15\u001b[0m \u001b[0;31m# The temperature in kelvin is converted to degrees Celsius\u001b[0m\u001b[0;34m\u001b[0m\u001b[0;34m\u001b[0m\u001b[0m\n\u001b[0m\u001b[1;32m      5\u001b[0m \u001b[0mprint\u001b[0m \u001b[0;34m(\u001b[0m\u001b[0;34m\"Temperature in degrees Celsius: {}\"\u001b[0m\u001b[0;34m.\u001b[0m \u001b[0mformat\u001b[0m \u001b[0;34m(\u001b[0m\u001b[0mtC\u001b[0m\u001b[0;34m)\u001b[0m\u001b[0;34m)\u001b[0m\u001b[0;34m\u001b[0m\u001b[0;34m\u001b[0m\u001b[0m\n",
            "\u001b[0;31mTypeError\u001b[0m: unsupported operand type(s) for -: 'str' and 'float'"
          ]
        }
      ]
    },
    {
      "cell_type": "markdown",
      "metadata": {
        "id": "cMAyi_ZlRbCI"
      },
      "source": [
        "## 7.5 Listed transactions\n",
        "\n",
        "### 7.5.1 Operations on a list item\n",
        "\n",
        "Unlike strings, **items in a list can be modified** individually without having to modify the entire list or create a new one. In more technical language, lists are said to be _mutable_ and strings are _immutable_. However, we will not work on these concepts in this course.\n",
        "\n",
        "**We can operate on the elements of a list by specifying the name of the list and the position of the element within it**, its index. For example, we can do:\n",
        "```Python\n",
        "list1 = [-1,1,1]\n",
        "list1 [1] = list1 [1] - 1 # Subtract the value 1 from the second item in the list (index item 1)\n",
        "print (list1) # Write the list to see if it has changed\n",
        "```\n",
        "Check it out:"
      ]
    },
    {
      "cell_type": "code",
      "metadata": {
        "id": "Yut02aZURbCI",
        "colab": {
          "base_uri": "https://localhost:8080/"
        },
        "outputId": "2616e565-7d7f-44e2-870d-1591a1bfbd5b"
      },
      "source": [
        "list1 = [-1,1,1]\n",
        "list1 [1] = list1 [1] - 1 # Subtract the value 1 from the second item in the list (index item 1)\n",
        "print (list1) # Write the list to see if it has changed"
      ],
      "execution_count": null,
      "outputs": [
        {
          "output_type": "stream",
          "name": "stdout",
          "text": [
            "[-1, 0, 1]\n"
          ]
        }
      ]
    },
    {
      "cell_type": "markdown",
      "metadata": {
        "id": "vtlIc1_jRbCI"
      },
      "source": [
        "#### Logical operations\n",
        "\n",
        "A common logical operation in lists is to ask if a certain value is between the items in a list. Here is a simple example with two possible answers.\n",
        "```Python\n",
        "chem_sim = [\"H\", \"Pb\", \"I\", \"F\", \"Cl\", \"Ar\", \"O\"]\n",
        "ans = \"I\" in chem_sim\n",
        "print (years)\n",
        "ans = \"Br\" in chem_sim\n",
        "print (years)\n",
        "```\n",
        "\n",
        "Run it in cell:"
      ]
    },
    {
      "cell_type": "code",
      "metadata": {
        "id": "obelyTitRbCI",
        "colab": {
          "base_uri": "https://localhost:8080/"
        },
        "outputId": "8868b2dc-f52b-4b5b-ae1a-58760aa66eca"
      },
      "source": [
        "chem_sim = [\"H\", \"Pb\", \"I\", \"F\", \"Cl\", \"Ar\", \"O\"]\n",
        "ans = \"I\" in chem_sim\n",
        "print (ans)\n",
        "ans = \"Br\" in chem_sim\n",
        "print (ans)"
      ],
      "execution_count": null,
      "outputs": [
        {
          "output_type": "stream",
          "name": "stdout",
          "text": [
            "True\n",
            "False\n"
          ]
        }
      ]
    },
    {
      "cell_type": "markdown",
      "metadata": {
        "id": "6nZJZB0yRbCI"
      },
      "source": [
        "### 7.5.2 Operations on an entire list\n",
        "\n",
        "In addition to operating on items in a list individually, we can do operations on the list as a whole. For example, the **concatenation**: two lists can be merged into one using the \"` + `\" operator:\n",
        "```Python\n",
        "l1 = [1, 2, 3] # we define a first list\n",
        "l2 = [4, 5, 6] # we define a second list\n",
        "l = l1 + l2 # we add the lists\n",
        "print (\"The new list is {}\". format (l))\n",
        "```\n",
        "Check it out:"
      ]
    },
    {
      "cell_type": "code",
      "metadata": {
        "id": "vywX1mhDRbCI"
      },
      "source": [],
      "execution_count": null,
      "outputs": []
    },
    {
      "cell_type": "markdown",
      "metadata": {
        "id": "QO1E9KjGRbCI"
      },
      "source": [
        "The effect, then, of the _sum of lists_ is its concatenation and not the sum of its elements. Remember that for _strings_ it was already like that.\n",
        "\n",
        "Similarly the product of an integer `n` for a list gives a new list where the original list` n` has been repeated times.\n",
        "\n",
        "Let's see it by running the code in the following example:\n",
        "```Python\n",
        "l1 = [1, 2, 3] # we define a list\n",
        "l2 = 4 * l1\n",
        "print (l2)\n",
        "```"
      ]
    },
    {
      "cell_type": "code",
      "metadata": {
        "id": "JXWMZ9T5RbCI"
      },
      "source": [],
      "execution_count": null,
      "outputs": []
    },
    {
      "cell_type": "markdown",
      "metadata": {
        "id": "N-HCq3N9RbCJ"
      },
      "source": [
        "### 7.5.3 More cycles are in lists\n",
        "\n",
        "The `for` statement is very useful in the context of lists, as this statement will allow us to access each of its elements.\n",
        "\n",
        "Let's look at the following example:\n",
        "```Python\n",
        "list = [273.15, 373.15, 425.00, 612.35]\n",
        "print (\"Full list:\")\n",
        "print (list)\n",
        "print (\"Item to item list:\")\n",
        "for item in list: # For each item in the list\n",
        "     print (element) # the element is written\n",
        "```"
      ]
    },
    {
      "cell_type": "code",
      "metadata": {
        "id": "djDxw30FRbCJ"
      },
      "source": [],
      "execution_count": null,
      "outputs": []
    },
    {
      "cell_type": "markdown",
      "metadata": {
        "id": "-yq8G2LYRbCJ"
      },
      "source": [
        "An alternative would be the following, where the items in the list are referenced by their index (position in the list starting from zero).\n",
        "```Python\n",
        "list = [273.15, 373.15, 425.00, 612.35]\n",
        "print (\"Full list:\")\n",
        "print (list) #\n",
        "nelem = len (list) # The number of items is determined\n",
        "print (\"Item to item list:\")\n",
        "for and in range (nelem): # All indexes are generated: 0.1, ..., nelem-1\n",
        "     print (list [i]) # The index element i is written\n",
        "```\n",
        "Take a closer look at what you put in it and run it in the cell:"
      ]
    },
    {
      "cell_type": "code",
      "metadata": {
        "id": "HGsDZySORbCJ"
      },
      "source": [],
      "execution_count": null,
      "outputs": []
    },
    {
      "cell_type": "markdown",
      "metadata": {
        "id": "7tuFfyXjRbCJ"
      },
      "source": [
        "It is worth noting that this way of accessing the items in a list is more useful when the items in two or more lists that have the same number of items need to be related to each other, as in the following case:\n",
        "```Python\n",
        "# A few lowercase letters\n",
        "lm = ['a', 'b', 'c', 'd', 'e']\n",
        "# The same capital letters\n",
        "lM = ['A', 'B', 'C', 'D', 'E']\n",
        "long = len (lm) # The number of items is determined\n",
        "for i in range (long):\n",
        "     print (lm [i], lM [i]) # Lowercase and uppercase pair\n",
        "```\n",
        "\n",
        "Check it out:"
      ]
    },
    {
      "cell_type": "code",
      "metadata": {
        "id": "QBEVb1rJRbCJ"
      },
      "source": [],
      "execution_count": null,
      "outputs": []
    },
    {
      "cell_type": "markdown",
      "metadata": {
        "id": "qH0hKMaiRbCJ"
      },
      "source": [
        "But if we only have one list, the option is always easier:\n",
        "```Python\n",
        "for item in list:\n",
        "```"
      ]
    },
    {
      "cell_type": "markdown",
      "metadata": {
        "id": "BcLLWTwtRbCJ"
      },
      "source": [
        "### 7.5.4 Copying a list\n",
        "\n",
        "We had seen that to copy one scalar variable `a` to another scalar variable` b` all you had to do was do it\n",
        "```Python\n",
        "b = a\n",
        "```\n",
        "\n",
        "It would seem that to copy one `a` list to another` b` list you just need to do the same.\n",
        "\n",
        "It turns out, however, that if you do this the result of working with `a` and` b` may not be as expected (Python considers the list to be unique and can be accessed with both `a` like the name` b` so if one changes it also changes the other!).\n",
        "\n",
        "If you want to copy an existing list `a` to another` b` and use them as separate lists, we recommend that you use one of the following two instructions:\n",
        "```Python\n",
        "b = a.copy ()\n",
        "```\n",
        "or\n",
        "```Python\n",
        "b = list (a)\n",
        "```\n",
        "\n",
        "***"
      ]
    }
  ]
}