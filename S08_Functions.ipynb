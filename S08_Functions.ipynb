{
  "nbformat": 4,
  "nbformat_minor": 0,
  "metadata": {
    "kernelspec": {
      "display_name": "Python 3",
      "language": "python",
      "name": "python3"
    },
    "language_info": {
      "codemirror_mode": {
        "name": "ipython",
        "version": 3
      },
      "file_extension": ".py",
      "mimetype": "text/x-python",
      "name": "python",
      "nbconvert_exporter": "python",
      "pygments_lexer": "ipython3",
      "version": "3.8.8"
    },
    "colab": {
      "provenance": []
    }
  },
  "cells": [
    {
      "cell_type": "markdown",
      "metadata": {
        "id": "7EBz73Kck5O_"
      },
      "source": [
        "# S08 Functions\n",
        "\n",
        "Mit Patel. Version: 1.00 (August 2023)\n",
        "\n",
        "***\n",
        "\n",
        "\n",
        "# 8. Features\n",
        "\n",
        "We have already used _built-in functions_ several times in Python and its modules, in particular the math module. In this session we will learn how to define our own functions.\n",
        "\n",
        "A function is a one-time code snippet that can be executed in different places within a program or in different programs.\n",
        "\n",
        "If we have to perform the same series of instructions at different points in a program, it is practical to group these instructions into a function and **call it** (the most correct technical term is _invoke_) whenever necessary . This allows programs to be shorter and error correction easier.\n",
        "\n",
        "We will usually call a function from the _main program_ (called `main ()`) and the function will return a result, but we may also have the case that one function calls another function.\n",
        "\n",
        "The functions must in any case be defined (the most correct technical word would be _declared_) before we call them and, in general, it is recommended that they be **declared at the beginning of the program**.\n",
        "\n",
        "The information that the function has to work with is passed to it through the **arguments of the function**, which are indicated in parentheses. The **result of the function** (single or multiple) is returned to the program or function that called it using the `return` statement."
      ]
    },
    {
      "cell_type": "markdown",
      "metadata": {
        "id": "7Jsgu8zGk5PC"
      },
      "source": [
        "## 8.1. Single variable functions\n",
        "\n",
        "### 8.1.1 Declare a function\n",
        "\n",
        "We will first focus on single-argument functions, that is, there will be a single variable in parentheses.\n",
        "\n",
        "As an example we will start with a very simple function that serves to convert a temperature value from the Celsius scale to the absolute temperature scale.\n",
        "\n",
        "Observe the following code and read the comments to understand how it works:\n",
        "\n",
        "```Python\n",
        "def Cel2Kel (C): # we define the function \"Cel2Kel\" with 1 argument \"C\" (degrees Celsius)\n",
        "     K = C + 273.15 # we convert the temperature value of degrees Celsius to kelvin\n",
        "     return K # returns the result in kelvin to the main program\n",
        "```"
      ]
    },
    {
      "cell_type": "markdown",
      "metadata": {
        "id": "iT4AEZsak5PC"
      },
      "source": [
        "This function definition will only reserve space for your computer's RAM for this set of operations (very simple in this case) and will be named `Cel2Kel`. Nothing will be executed until it is called.\n",
        "\n",
        "Let's see in detail what the **syntax** of the previous code snippet is:\n",
        "\n",
        "- The keyword is the `def` statement followed by the function name:` ​​def Cel2Kel`. We are telling the interpreter that below we will define a function with this name.\n",
        "- The arguments of the function are specified in parentheses next to their name. These parentheses are required, although the function may not have any arguments.\n",
        "- After the parentheses there should be a colon \"`: `\" (required).\n",
        "- The instructions belonging to the function are **indented four spaces to the right**, as in the blocks of alternative and repetitive structures.\n",
        "- Finally, the `return` statement returns its result, and control the execution of the program that called the function at the point from where it was called."
      ]
    },
    {
      "cell_type": "markdown",
      "metadata": {
        "id": "KEZWtnvHk5PD"
      },
      "source": [
        "### 8.1.2 Invoking a function\n",
        "\n",
        "Once we have defined the function, how do we use it?\n",
        "\n",
        "First of all, if we want it to be executed, we need to _call it_ (which we _call_, more colloquially, or _call_ in English) giving value to the argument. Since the function in this case returns a value, it is also necessary that, once executed, we store the returned value in a variable or that we use it in some way.\n",
        "\n",
        "Here are some examples of using the `Cel2Kel ()` function defined above. In all of them the function has been added at the beginning.\n",
        "\n",
        "**Example 1:**\n",
        "```Python\n",
        "def Cel2Kel (C): # we define the function \"Cel2Kel\" with 1 argument \"C\" (degrees Celsius)\n",
        "    K = C + 273.15 # we convert the temperature value in Celsius to kelvin\n",
        "    return K # returns the result in kelvin to the main program\n",
        "\n",
        "tC = float (input (\"Enter a temperature in degrees Celsius:\"))\n",
        "tK = Cel2Kel (tC) # calls the function and assigns the result to a variable\n",
        "print (\"Corresponds to {} in absolute scale.\" format (tK))\n",
        "```\n",
        "Try it in the next cell."
      ]
    },
    {
      "cell_type": "code",
      "metadata": {
        "id": "c6UXFi9sk5PD"
      },
      "source": [
        "def helloworld:\n",
        "  pass"
      ],
      "execution_count": null,
      "outputs": []
    },
    {
      "cell_type": "markdown",
      "metadata": {
        "id": "JlzxhLSOk5PE"
      },
      "source": [
        "We discuss how the previous code snippet that follows the definition of the function and which is the main program works:\n",
        "\n",
        "1. The user enters a temperature value using the `input ()` statement which is assigned to the variable `tC`, making it a real number.\n",
        "2. The `Cel2Kel ()` function is then called using `tC` as an argument, that is, passing to the function the value that contains` tC`.\n",
        "3. At this point the execution is transferred to the function so that C becomes the value of tC, converts the value from Celsius to kelvin, and finally returns the value to the main program.\n",
        "4. The execution of the program returns to the line where the function was invoked and the returned value is assigned to the variable `tK` of the main program.\n",
        "5. Enter the returned value per screen."
      ]
    },
    {
      "cell_type": "markdown",
      "metadata": {
        "id": "Kzjp61RHk5PE"
      },
      "source": [
        "**Example 2:**\n",
        "```Python\n",
        "def Cel2Kel (C): # we define the function \"Cel2Kel\" with 1 argument \"C\" (degrees Celsius)\n",
        "     K = C + 273.15 # we convert the temperature value in Celsius to kelvin\n",
        "     return K # returns the result in kelvin to the main program\n",
        "\n",
        "temp_C = float (input (\"Enter a temperature in degrees Celsius:\"))\n",
        "# The result of the function is written directly\n",
        "print (\"Corresponds to {} on the absolute scale.\" format (Cel2Kel (temp_C)))\n",
        "```\n",
        "\n",
        "Try it in the next cell."
      ]
    },
    {
      "cell_type": "code",
      "metadata": {
        "id": "N_QwPJd4k5PE"
      },
      "source": [],
      "execution_count": null,
      "outputs": []
    },
    {
      "cell_type": "markdown",
      "metadata": {
        "id": "cCM1BXDEk5PE"
      },
      "source": [
        "Note that in this second case, the result is written directly, without storing it in a variable."
      ]
    },
    {
      "cell_type": "markdown",
      "metadata": {
        "id": "3wX5Pqo8k5PF"
      },
      "source": [
        "**Example 3:**\n",
        "```Python\n",
        "def Cel2Kel (C): # we define the function \"Cel2Kel\" with 1 argument \"C\" ( Celsius degrees)\n",
        "     K = C + 273.15 # we convert the temperature value in Celsius to kelvin\n",
        "     return K # returns the result in kelvin to the main program\n",
        "\n",
        "C1 = float (input (\"Enter a temperature in Celsius degrees:\"))\n",
        "C2 = float (input (\"Enter another temperature in Celsius degrees:\"))\n",
        "# Calculate the difference 1 / T1 - 1 / T2 in kelvin\n",
        "dif = 1 / Cel2Kel (C1) - 1 / Cel2Kel (C2)\n",
        "print (\"The inverse temperature difference in kelvins is {}\". format (diff))\n",
        "```\n",
        "\n",
        "Try it in the next cell."
      ]
    },
    {
      "cell_type": "code",
      "metadata": {
        "id": "J7PTGMCgk5PF"
      },
      "source": [],
      "execution_count": null,
      "outputs": []
    },
    {
      "cell_type": "markdown",
      "metadata": {
        "id": "AEGqWCoVk5PF"
      },
      "source": [
        "In this example, it was observed that the function is believed to be due to its own limits as well as some values ​​entered by the user. The results are fanned for an operation (the difference between the inverses) and then the value of that difference is written."
      ]
    },
    {
      "cell_type": "markdown",
      "metadata": {
        "id": "VXFM-Kukk5PF"
      },
      "source": [
        "Note that when we call the function, the name of the argument must **NOT** be the same name we used in the function statement.\n",
        "\n",
        "In our example, in the `Cel2Kel ()` statement we used the variable `C` for the temperature value in Celsius, but when we invoked the function we used` tC`, `temp_C`, and` C1 `and` C2` in the different examples.\n",
        "\n",
        "Consider that `C` in the function is just a wildcard where we put the information that comes from the main program.\n",
        "\n",
        "In fact, we don't even have to put the name of a variable in the argument in the function call, we can put a value or an operation directly on it.\n",
        "\n",
        "Check this by running this code in the following cell:\n",
        "```Python\n",
        "def Cel2Kel (C): # we define the function \"Cel2Kel\" with 1 argument \"C\" (degrees Celsius)\n",
        "    K = C + 273.15 # we convert the temperature value in Celsius to kelvin\n",
        "    return K # returns the result in kelvin to the main program\n",
        "\n",
        "tK1 = Cel2Kel (25) # calls with a value as an argument and not with a variable\n",
        "print (tK1)\n",
        "increment = 10\n",
        "tK2 = Cel2Kel (25+ increment) # calls with the value of an arithmetic operation as an argument\n",
        "print (tK2)\n",
        "```"
      ]
    },
    {
      "cell_type": "code",
      "metadata": {
        "id": "B6pOXvEWk5PG"
      },
      "source": [],
      "execution_count": null,
      "outputs": []
    },
    {
      "cell_type": "markdown",
      "metadata": {
        "id": "ojUfLedKk5PG"
      },
      "source": [
        "What must be respected is that the data type of the argument is consistent with the treatment that is done within the function. For example, since the `Cel2Kel ()` function adds 273.15 to the argument, it must be of numeric type, and if we invoke a string, for example, when invoking it, the Python interpreter will fail.\n",
        "\n",
        "Check this by running this code in the following cell:\n",
        "```Python\n",
        "def Cel2Kel (C): # we define the function \"Cel2Kel\" with 1 argument \"C\" (degrees Celsius)\n",
        "     K = C + 273.15 # we convert the temperature value in Celsius to kelvin\n",
        "     return K # returns the result in kelvin to the main program\n",
        "    \n",
        "tC = input (\"Enter a temperature in degrees Celsius:\")\n",
        "tK = Cel2Kel (tC)\n",
        "print (tK)\n",
        "```"
      ]
    },
    {
      "cell_type": "code",
      "metadata": {
        "id": "tBNw2CIuk5PG"
      },
      "source": [],
      "execution_count": null,
      "outputs": []
    },
    {
      "cell_type": "markdown",
      "metadata": {
        "id": "6LA1R-mPk5PG"
      },
      "source": [
        "## 8.2 Local and global variables\n",
        "\n",
        "One main program variable and one function variable, even though they have the same name, have nothing to do with each other, are **local** variables of the main program and function, and may have different types and values (not there is no relationship between them).\n",
        "\n",
        "If we want to relate the variables of the main program with the variables of a function, we can do it by means of the list of arguments (instruction `def`) and / or the list of returned results (instruction` return`).\n",
        "\n",
        "NOTE: If a variable is used in a function to which no value has been assigned within the function and there is a variable of the same name in the main program, its value will be used because it is considered to be a **global** variable (this can lead to unexpected results and we recommend avoiding it)."
      ]
    },
    {
      "cell_type": "markdown",
      "metadata": {
        "id": "h79nQZQUk5PG"
      },
      "source": [
        "## 8.3 Importing modules into functions\n",
        "\n",
        "It may be that in a function that we declare in a Python program we need to call a specific function of a module. In this case we have two options:\n",
        "\n",
        "1. import the module into the main program or\n",
        "2. import the module into the function declaration.\n",
        "\n",
        "If we only need to use the module in the function, it makes sense to import it inside, but we must keep in mind then that it will only be defined inside it, it will be local. If instead we import the module from the main program, then the functions and types of variables of the module will be defined globally."
      ]
    },
    {
      "cell_type": "markdown",
      "metadata": {
        "id": "eCoLRc3Vk5PH"
      },
      "source": [
        "## 8.4 Functions with multiple arguments\n",
        "\n",
        "The functions we have defined so far are functions of a single variable $ y = f (x) $ or, in more computer language, functions have a single argument. However, functions can have as many arguments as we want, the only condition being that they be separated by commas, $ z = f (x, y) $.\n",
        "\n",
        "Consider, for example, the equation of state of an ideal gas:\n",
        "$$ p = \\frac {R T} {V_m} $$\n",
        "Gas pressure is a function of temperature ($ T $) and molar volume ($ V_m $).\n",
        "\n",
        "A possible Python function would be:"
      ]
    },
    {
      "cell_type": "markdown",
      "metadata": {
        "id": "0nA_cIcWk5PH"
      },
      "source": [
        "```Python\n",
        "def p_ideal (T, Vm):\n",
        "     \"\"\"Function that calculates the pressure of a gas according to\n",
        "     the equation of state of an ideal gas \"\"\"\n",
        "     R = 0.08206 #units: atm L mol-1 K-1\n",
        "     p = R * T / Vm\n",
        "     return p\n",
        "```"
      ]
    },
    {
      "cell_type": "markdown",
      "metadata": {
        "id": "P2Ik-XMWk5PH"
      },
      "source": [
        "The arguments of the function are `T` (temperature) and` Vm` (molar volume) and must be given a value when we invoke the function.\n",
        "\n",
        "This function is called three times in the following code:\n",
        "```Python\n",
        "def p_ideal (T, Vm):\n",
        "     \"\"\"Function that calculates the pressure of a gas according to\n",
        "     the equation of state of an ideal gas \"\"\"\n",
        "     R = 0.08206 #units: atm L mol-1 K-1\n",
        "     p = R * T / Vm\n",
        "     return p\n",
        "\n",
        "T1 = 293.15\n",
        "Vm1 = 1.5\n",
        "# In this example the function is called with two variables\n",
        "p1 = p_ideal (T1, Vm1)\n",
        "print (\"Gas pressure is {: .3f} atm.\". format (p1))\n",
        "# In this example the function is called with a variable and a constant\n",
        "T2 = 298.15\n",
        "p2 = p_ideal (T2, 1.2)\n",
        "print (\"Gas pressure is {: .3f} atm.\". format (p2))\n",
        "# In this example the function with two constants is called\n",
        "p3 = p_ideal (300.15, 0.7)\n",
        "print (\"Gas pressure is {: .3f} atm.\". format (p3))\n",
        "```\n",
        "\n",
        "Run it in the next cell."
      ]
    },
    {
      "cell_type": "code",
      "metadata": {
        "id": "a6ry5-Gxk5PH"
      },
      "source": [],
      "execution_count": null,
      "outputs": []
    },
    {
      "cell_type": "markdown",
      "metadata": {
        "id": "7cttCFupk5PH"
      },
      "source": [
        "It should be noted that when calling the function with multiple arguments **it is very important to enter the arguments in the order in which they were defined in the function**. In our example, the `p_ideal (T, Vm)` function is a function of two arguments, where the first value corresponds to temperature and the second to molar volume.\n",
        "\n",
        "If we get confused and reverse the order of the arguments when calling it, the function may not give error messages, but the result is wrong.\n",
        "\n",
        "Check this by running this code in the following cell:\n",
        "```Python\n",
        "def p_ideal (T, Vm):\n",
        "     \"\"\"Function that calculates the pressure of a gas according to\n",
        "     the equation of state of an ideal gas \"\"\"\n",
        "     R = 0.08206 #units: atm L mol-1 K-1\n",
        "     p = R * T / Vm\n",
        "     return p\n",
        "\n",
        "T1 = 293.15\n",
        "Vm1 = 1.5\n",
        "# In this example the function is called with the two variables changed in order\n",
        "p1 = p_ideal (Vm1, T1)\n",
        "print (\"Gas pressure is {: .3f} atm.\". format (p1))\n",
        "```"
      ]
    },
    {
      "cell_type": "code",
      "metadata": {
        "id": "FQv__PJ7k5PI"
      },
      "source": [],
      "execution_count": null,
      "outputs": []
    },
    {
      "cell_type": "markdown",
      "metadata": {
        "id": "-_C33NP2k5PI"
      },
      "source": [
        "## 8.5 Functions with multiple results\n",
        "\n",
        "Python functions can return more than one value to the main program. To do this we just need to put in the `return` statement all the variables that need to be returned, separated by commas.\n",
        "\n",
        "Let's look at the following definition of a function we called `agmean ()`:\n",
        "```Python\n",
        "def agmean (x, y): # function of 2 arguments\n",
        "     ma = (x + y) / 2 # arithmetic mean\n",
        "     mg = (x * y) ** (1/2) # geometric mean\n",
        "     return ma, mg # returns the two calculated values to the main program\n",
        "```"
      ]
    },
    {
      "cell_type": "markdown",
      "metadata": {
        "id": "-FNScB-nk5PI"
      },
      "source": [
        "The `agmean ()` function receives the values ​​of `x` and` y` and calculates the arithmetic and geometric mean. The values ​​of the two averages are assigned to the variables `a` and` b` respectively and these are returned to the main program.\n",
        "\n",
        "Logically, since the function has two arguments, when we invoke this function from the main program, we will need to provide two values ​​in its call. And considering that the function returns two values, it will be necessary that, when we invoke it in the main program, if we assign its result to variables, we use two (`multi-assignment`).\n",
        "\n",
        "Run this code in the following cell:\n",
        "```Python\n",
        "def agmean (x, y): # function of 2 arguments\n",
        "    ma = (x + y) / 2 # arithmetic mean\n",
        "    mg = (x * y) ** (1/2) # geometric mean\n",
        "    return ma, mg # returns the two calculated values ​​to the main program\n",
        "\n",
        "x1 = 2.1\n",
        "x2 = 7.3\n",
        "arit, geom = agmean (x1, x2) # multiasign\n",
        "print (\"The arithmetic mean is {} and the geometry is {}.\".format(arit, geom))\n",
        "```"
      ]
    },
    {
      "cell_type": "code",
      "metadata": {
        "id": "8GBwwtfzk5PI"
      },
      "source": [],
      "execution_count": null,
      "outputs": []
    },
    {
      "cell_type": "markdown",
      "metadata": {
        "id": "eN1D0l4Ak5PI"
      },
      "source": [
        "## 8.6 Functions without values ​​to return\n",
        "\n",
        "Some functions may not have a value to return, just do some action and that's it.\n",
        "\n",
        "In the example below we define a `menu ()` function that displays messages per screen, but does not return any value in the main program (it has no arguments either).\n",
        "```Python\n",
        "def menu ():\n",
        "    print (\"What action do you want to take with these values?\")\n",
        "    print (\"Press 'a' for arithmetic mean\")\n",
        "    print (\"Press 'g' for geometric mean\")\n",
        "    return # note that there is no variable to the right of the return!\n",
        "       \n",
        "x1 = float (input (\"Enter first real value:\"))\n",
        "x2 = float (input (\"Enter a second real value:\"))\n",
        "menu()\n",
        "sel = input (\"Selection:\")\n",
        "if sel == 'a':\n",
        "    arit = 0.5 * (x1 + x2)\n",
        "    print (\"Result: {}\". format(arit))\n",
        "elif sel == 'g':\n",
        "    geom = (x1 * x2) ** (1/2)\n",
        "    print (\"Result: {}\". format(geom))\n",
        "else:\n",
        "    print (\"Invalid option\")\n",
        "```\n",
        "\n",
        "Run it at least once by asking you to calculate the geometric mean and another by asking you to calculate the geometric mean:"
      ]
    },
    {
      "cell_type": "code",
      "metadata": {
        "id": "fU0Ilkwjk5PI"
      },
      "source": [],
      "execution_count": null,
      "outputs": []
    },
    {
      "cell_type": "markdown",
      "metadata": {
        "id": "rffPPoBlk5PJ"
      },
      "source": [
        "## 8.7 Function documentation\n",
        "\n",
        "There is general agreement in the Python code development community about the need to _document the codes_.\n",
        "\n",
        "If we do not provide information about what a program does, what information it needs and what it produces, we will not be able to distribute it, we will only use it for our own use. This statement is also valid for functions.\n",
        "\n",
        "We have just seen that functions may require different arguments, that they must be of a certain type and that they return the results in a given way. All of this information should be readily available to the programmer using the feature in their program.\n",
        "\n",
        "For this reason, the functions should contain a documentation text, called a _doc string_. This text should be included **at the beginning of the function** (after the `def` statement) using the three double quotation marks followed by` \"\"\"`. Let's look at the definition of the ` agmean () `:\n",
        "\n",
        "```Python\n",
        "def agmean (x, y):\n",
        "    \"\"\"\n",
        "    Function to calculate the arithmetic and geometric mean of (x, y)\n",
        "    Returns two values, the first the arithmetic mean and the second the geometry\n",
        "    \"\"\"\n",
        "    ma = (x + y) / 2\n",
        "    mg = (x * y) ** (1/2)\n",
        "    return ma, mg\n",
        "```"
      ]
    },
    {
      "cell_type": "markdown",
      "metadata": {
        "id": "vk9BZ3agk5PJ"
      },
      "source": [
        "***"
      ]
    }
  ]
}