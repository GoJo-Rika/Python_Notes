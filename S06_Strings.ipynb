{
  "nbformat": 4,
  "nbformat_minor": 0,
  "metadata": {
    "kernelspec": {
      "display_name": "Python 3",
      "language": "python",
      "name": "python3"
    },
    "language_info": {
      "codemirror_mode": {
        "name": "ipython",
        "version": 3
      },
      "file_extension": ".py",
      "mimetype": "text/x-python",
      "name": "python",
      "nbconvert_exporter": "python",
      "pygments_lexer": "ipython3",
      "version": "3.8.8"
    },
    "colab": {
      "provenance": []
    }
  },
  "cells": [
    {
      "cell_type": "markdown",
      "metadata": {
        "id": "bU8akR58969a"
      },
      "source": [
        "# S06 Strings\n",
        "\n",
        "Mit Patel. Version: 1.00 (August 2023)\n",
        "\n",
        "\n",
        "***\n",
        "\n",
        "# 6. Variables with characters: Strings\n",
        "\n",
        "In addition to numeric data and logical data, we may be interested in storing in the computer's memory _strings_, such as names, addresses, and so on. This type of data is also called _ literal data_. Its English name is **strings**.\n",
        "\n",
        "Python is a particularly versatile language when it comes to handling this type of data as we will see in this session. Although the aim of the course is to focus on numerical calculation using Python, it is advisable to have a minimum knowledge of how to work with _strings_."
      ]
    },
    {
      "cell_type": "markdown",
      "metadata": {
        "id": "Hm8xLkxp969b"
      },
      "source": [
        "## 6.1 Generating string variables\n",
        "\n",
        "There are several ways to store a literal value in a variable:\n",
        "\n",
        "- The first is assigning the content of a text to be written in quotation marks or apostrophes to the variable.\n",
        "\n",
        "As an example, in the following program excerpt we assign two names to two variables and then write them using the `print` statement.\n",
        "```Python\n",
        "comp1 = 'ethanol'\n",
        "comp2 = \"water\"\n",
        "print (\"{} and {} are miscible.\" format (comp1, comp2))\n",
        "```\n",
        "\n",
        "Copy it to the next cell, and then run it:"
      ]
    },
    {
      "cell_type": "code",
      "metadata": {
        "id": "Wap6H1f-969c",
        "colab": {
          "base_uri": "https://localhost:8080/"
        },
        "outputId": "7269a5df-1b6a-4f13-f1cb-78d83e844e2c"
      },
      "source": [
        "comp1 = \"ethanol\"\n",
        "comp2 = \"water\"\n",
        "print (\" {} and {} are miscible.\" .format (comp1, comp2))"
      ],
      "execution_count": null,
      "outputs": [
        {
          "output_type": "stream",
          "name": "stdout",
          "text": [
            " ethanol and water are miscible.\n"
          ]
        }
      ]
    },
    {
      "cell_type": "code",
      "source": [
        "comp1 = 'ethanol'\n",
        "comp2 = \"water\"\n",
        "print (f\"{comp1} and {comp2} are miscible.\")"
      ],
      "metadata": {
        "colab": {
          "base_uri": "https://localhost:8080/"
        },
        "id": "tPbL1vWi5VsV",
        "outputId": "6d0d2be8-b9eb-409a-ea51-1b2c3e831388"
      },
      "execution_count": null,
      "outputs": [
        {
          "output_type": "stream",
          "name": "stdout",
          "text": [
            "ethanol and water are miscible.\n"
          ]
        }
      ]
    },
    {
      "cell_type": "markdown",
      "metadata": {
        "id": "GZli4JK1969c"
      },
      "source": [
        "- The second way to store text in a variable is to assign the result of the `input ()` function to a variable (as we have seen in previous sessions).\n",
        "\n",
        "Example:\n",
        "```Python\n",
        "n_h2o = input (\"How many water molecules are there?\")\n",
        "print (\"There are {} water molecules.\" format (n_h2o))\n",
        "```\n",
        "\n",
        "Check it in the cell, running it twice, one entering a `5` and the other entering the word` five`, without quotes or apostrophes."
      ]
    },
    {
      "cell_type": "code",
      "metadata": {
        "id": "xv5Ay6fT969d",
        "colab": {
          "base_uri": "https://localhost:8080/"
        },
        "outputId": "2908ee8b-afaf-410c-cdac-1ae0fad68a46"
      },
      "source": [
        "n_h2o = input (\"How many water molecules are there? \")\n",
        "print (\"There are {} water molecules.\" .format (n_h2o))"
      ],
      "execution_count": null,
      "outputs": [
        {
          "output_type": "stream",
          "name": "stdout",
          "text": [
            "How many water molecules are there?five\n",
            "There are five water molecules.\n"
          ]
        }
      ]
    },
    {
      "cell_type": "code",
      "source": [
        "n_h2o = input (\"How many water molecules are there? \")\n",
        "print (f\"There are {n_h2o} water molecules.\")"
      ],
      "metadata": {
        "colab": {
          "base_uri": "https://localhost:8080/"
        },
        "id": "RrepBZ577zzW",
        "outputId": "f97765cf-53c1-421d-fe9b-9b3884c4453e"
      },
      "execution_count": null,
      "outputs": [
        {
          "output_type": "stream",
          "name": "stdout",
          "text": [
            "How many water molecules are there? 00\n",
            "There are 00 water molecules.\n"
          ]
        }
      ]
    },
    {
      "cell_type": "markdown",
      "metadata": {
        "id": "Q9iNRnEM969d"
      },
      "source": [
        "It is clear that the `input ()` function always reads the user's response as if it were a string, so the contents of the `n_h2o` variable are a **text** and not a numeric value .\n",
        "\n",
        "If we enter a value with numeric digits and want to operate with it, remember that we need to convert it using the `float ()` statement (to convert it to a real number) or `int ()` (to convert it to an integer ).\n",
        "\n",
        "- Finally, we can assign a text string to a variable using the result of an operation involving at least one literal variable (we'll see later in this session)."
      ]
    },
    {
      "cell_type": "markdown",
      "metadata": {
        "id": "3XA54Dgs969d"
      },
      "source": [
        "### 6.1.1 Length of a string.\n",
        "\n",
        "Given a variable that contains a string, we can find out its ** length ** (that is, the number of characters it contains) using the `len ()` function, which returns an integer value.\n",
        "\n",
        "In the following code snippet we can see an example of using the `len` function.\n",
        "```Python\n",
        "phrase = input (\"Enter a sentence:\")\n",
        "long = len (phrase)\n",
        "print (\"The input phrase is {} characters\". format (long))\n",
        "```\n",
        "The integer value (type `int`) returned by the function is assigned to a variable which in this case has been called` long`.\n",
        "\n",
        "Note that the blanks in the sentence also count as characters."
      ]
    },
    {
      "cell_type": "code",
      "metadata": {
        "id": "O8RCS9NZ969e",
        "colab": {
          "base_uri": "https://localhost:8080/"
        },
        "outputId": "fe8e78f5-7ef6-4c40-e1f2-56b5172e917d"
      },
      "source": [
        "phrase = input (\"Enter a sentence:\")\n",
        "long = len (phrase)\n",
        "print (\"The input phrase is {} characters\" .format (long))"
      ],
      "execution_count": null,
      "outputs": [
        {
          "output_type": "stream",
          "name": "stdout",
          "text": [
            "Enter a sentence:1321dshf aaew rhjafe rfafrf \n",
            "The input phrase is 28 characters\n"
          ]
        }
      ]
    },
    {
      "cell_type": "code",
      "source": [
        "phrase = input (\"Enter a sentence:\")\n",
        "long = len (phrase)\n",
        "print (f\"The input phrase is {len(phrase)} characters\")"
      ],
      "metadata": {
        "colab": {
          "base_uri": "https://localhost:8080/"
        },
        "id": "1He_0L9z8H1l",
        "outputId": "3a6beced-f56c-4e9e-89dd-333abffc6cde"
      },
      "execution_count": null,
      "outputs": [
        {
          "output_type": "stream",
          "name": "stdout",
          "text": [
            "Enter a sentence:1321dshf aaew rhjafe rfafrf \n",
            "The input phrase is 28 characters\n"
          ]
        }
      ]
    },
    {
      "cell_type": "code",
      "source": [
        "phrase = input (\"Enter a sentence:\")\n",
        "long = len (phrase)\n",
        "print (f\"The input phrase is {long} characters\")"
      ],
      "metadata": {
        "colab": {
          "base_uri": "https://localhost:8080/"
        },
        "id": "wZk9069p8rOs",
        "outputId": "3924abb2-9f8c-43f5-ad1b-8a84097f6913"
      },
      "execution_count": null,
      "outputs": [
        {
          "output_type": "stream",
          "name": "stdout",
          "text": [
            "Enter a sentence:79879 retrtff fa f dfdaf a\n",
            "The input phrase is 26 characters\n"
          ]
        }
      ]
    },
    {
      "cell_type": "markdown",
      "metadata": {
        "id": "jlOSug9w969e"
      },
      "source": [
        "## 6.2 Specifying substrings of a string\n",
        "\n",
        "We should see a string as an **ordered sequence of characters** in which each of them, **including spaces**, occupies a certain position, given that **the first character occupies the position with index 0**.\n",
        "\n",
        "For example, in the string \"` ireland` \"each character occupies a position (the index is the number below):\n",
        "\n",
        "> ```python\n",
        "> ireland\n",
        "> 0123456\n",
        "> ```\n",
        "\n",
        "Thus, for example, the `t` character is in the fourth place (position 3) and the` n` character is in the sixth (position 5) of the string.\n",
        "\n",
        "If we want to get the value of a specific character in the string, **we need to indicate the index of its position in square brackets**.\n",
        "\n",
        "     variable_name [index]\n",
        "    \n",
        "Check with the following program excerpt that what we just said is true.\n",
        "\n",
        "> ```python\n",
        "comp = \"ireland\"\n",
        "print (comp [3])\n",
        "print (comp [5])\n",
        "```"
      ]
    },
    {
      "cell_type": "code",
      "metadata": {
        "id": "48890aA5969e"
      },
      "source": [
        "comp = \"ireland\"\n",
        "print (comp [3])\n",
        "print (comp [5])"
      ],
      "execution_count": null,
      "outputs": []
    },
    {
      "cell_type": "markdown",
      "metadata": {
        "id": "M_sTAMjT969f"
      },
      "source": [
        "Try to predict the character written in each of the following _print_ instructions and check:\n",
        "```Python\n",
        "comp = \"ireland\"\n",
        "print (comp [1])\n",
        "print (comp [4])\n",
        "print (comp [6])\n",
        "```"
      ]
    },
    {
      "cell_type": "code",
      "metadata": {
        "id": "Rn93lzlE969f"
      },
      "source": [
        "comp = \"ireland\"\n",
        "print (comp [1])\n",
        "print (comp [4])\n",
        "print (comp [6])"
      ],
      "execution_count": null,
      "outputs": []
    },
    {
      "cell_type": "markdown",
      "metadata": {
        "id": "hLCREv7A969f"
      },
      "source": [
        "What if we stored the word \"riboflavin\" in the variable `comp`? How do we get the last \"a\"?\n",
        "\n",
        "When the strings are very long, it is practical to specify the last position of the string with the value -1 of the index, the penultimate -2, and so on.\n",
        "\n",
        "Try to predict the character produced by each of the following `print` statements and check it in the cell below:\n",
        "```Python\n",
        "comp = \"riboflavin\"\n",
        "print (comp [-1])\n",
        "print (comp [-3])\n",
        "print (comp [-4])\n",
        "```"
      ]
    },
    {
      "cell_type": "code",
      "metadata": {
        "id": "0ckzU3mg969f"
      },
      "source": [
        "comp = \"riboflavin\"\n",
        "print (comp [-1])\n",
        "print (comp [-3])\n",
        "print (comp [-4])"
      ],
      "execution_count": null,
      "outputs": []
    },
    {
      "cell_type": "markdown",
      "metadata": {
        "id": "X118oJh5969f"
      },
      "source": [
        "In addition to individual characters, we can also obtain a _substring_ from an existing string variable using what is called a `slice` in English. This is to indicate the **name of the variable** and then, using square brackets, **specify the indices of the start and end position of the substring**, for example:\n",
        "\n",
        "> ```python\n",
        "> comp [i: j]\n",
        "> ```\n",
        "\n",
        "The above instruction provides the substring of the variable `comp` **starting with the index position` i` and ending with the index position `j-1`**. Please note that position `j` is not included in the result!\n",
        "\n",
        "If the starting position is left blank, this indicates from the beginning of the string:\n",
        "\n",
        "> ```python\n",
        "> comp [: j] # substring from position 0 to position (j-1)\n",
        "> ```\n",
        "\n",
        "However, if the end position is left blank, the character string is obtained to the last position:\n",
        "\n",
        "> ```python\n",
        "> comp [i:] # substring of characters from position and end position\n",
        "> ```\n",
        "\n",
        "Note that in any case, the colon `:` is required to get a substring.\n",
        "\n",
        "According to what we just discussed, what will be the character string produced by each of the `print` instructions in the following program snippet?\n",
        "```Python\n",
        "comp = \"riboflavin\"\n",
        "print (comp [0: 3])\n",
        "print (comp [3: 6])\n",
        "print (comp [: 3])\n",
        "print (comp [2:])\n",
        "```\n",
        "\n",
        "Once you're clear, check your prediction:"
      ]
    },
    {
      "cell_type": "code",
      "metadata": {
        "id": "_mYgOyhB969g"
      },
      "source": [
        "comp = \"riboflavin\"\n",
        "print (comp [0: 3])\n",
        "print (comp [3: 6])\n",
        "print (comp [: 3])\n",
        "print (comp [2:])"
      ],
      "execution_count": null,
      "outputs": []
    },
    {
      "cell_type": "markdown",
      "metadata": {
        "id": "yqNIqaaR969g"
      },
      "source": [
        "You can also specify a third index that corresponds to the increase to be taken into account in the indexes from the beginning (if we do not put it, it is assumed to be 1).\n",
        "\n",
        "So we can write for example:\n",
        "```Python\n",
        "comp = \"riboflavin\"\n",
        "print (comp [:: 2]) # From beginning to end 2 by 2\n",
        "print (comp [1 :: 2]) # From the second element to the end of 2 in 2\n",
        "```"
      ]
    },
    {
      "cell_type": "code",
      "metadata": {
        "id": "DyJQWzsY969g"
      },
      "source": [
        "comp = \"riboflavin\"\n",
        "print (comp [:: 2]) # From beginning to end 2 by 2\n",
        "print (comp [1 :: 2]) # From the second element to the end of 2 in 2"
      ],
      "execution_count": null,
      "outputs": []
    },
    {
      "cell_type": "markdown",
      "metadata": {
        "id": "9v9FR5Ho969h"
      },
      "source": [
        "Using a -1 value as the third index of a slice makes it easy to invert a string.\n",
        "\n",
        "Copy and paste this code into the following cell and check:\n",
        "```Python\n",
        "text = input (\"Enter a text:\")\n",
        "text_inv = text [:: - 1]\n",
        "print (text_inv)\n",
        "```"
      ]
    },
    {
      "cell_type": "code",
      "metadata": {
        "id": "SVdVz-i0969h"
      },
      "source": [
        "text = input (\"Enter a text:\")\n",
        "text_inv = text [:: - 1]\n",
        "print (text_inv)"
      ],
      "execution_count": null,
      "outputs": []
    },
    {
      "cell_type": "markdown",
      "metadata": {
        "id": "9sXpEnqd969h"
      },
      "source": [
        "## 6.3 String operations\n",
        "\n",
        "The sum or product operators can be applied to the strings, but they have a different result than the arithmetic operations:\n",
        "\n",
        "- We can use the \"` + `\" operator to **concatenate** two strings. Concatenating two strings of text means joining them together.\n",
        "\n",
        "Look at the following example and run it below:\n",
        "```Python\n",
        "txt1 = input (\"Enter a text:\")\n",
        "txt2 = input (\"And now another text:\")\n",
        "new_text = txt1 + txt2\n",
        "print (\"This is the result of concatenation: {}\". format (new_text))\n",
        "```"
      ]
    },
    {
      "cell_type": "code",
      "metadata": {
        "id": "9gu2_qGi969i"
      },
      "source": [
        "txt1 = input (\"Enter a text:\")\n",
        "txt2 = input (\"And now another text:\")\n",
        "new_text = txt1 + txt2\n",
        "print (\"This is the result of concatenation: {}\". format (new_text))"
      ],
      "execution_count": null,
      "outputs": []
    },
    {
      "cell_type": "markdown",
      "metadata": {
        "id": "W6FF0vy2969i"
      },
      "source": [
        "The previous result when typing `new_text` was a bit ugly. The two texts have been joined without leaving any separation between them. If you want to leave a blank space in the middle, you can do so for example:\n",
        "```Python\n",
        "txt1 = input (\"Enter a text:\")\n",
        "txt2 = input (\"And now another text:\")\n",
        "new_text = txt1 + \"\" + txt2 # Note the blank in the middle\n",
        "print (\"This is the result of concatenation: {}\". format (new_text))\n",
        "```"
      ]
    },
    {
      "cell_type": "code",
      "metadata": {
        "id": "QFIOUa4u969i"
      },
      "source": [
        "txt1 = input (\"Enter a text:\")\n",
        "txt2 = input (\"And now another text:\")\n",
        "new_text = txt1 + \"\" + txt2 # Note the blank in the middle\n",
        "print (\"This is the result of concatenation: {}\". format (new_text))"
      ],
      "execution_count": null,
      "outputs": []
    },
    {
      "cell_type": "markdown",
      "metadata": {
        "id": "wThffoz1969i"
      },
      "source": [
        "- We can use the `*` operator combined with an integer value to ** replicate ** the string.\n",
        "\n",
        "In the following example we triple the content of the variable:\n",
        "```Python\n",
        "txt = input (\"Enter a text:\")\n",
        "triplicate = 3 * txt\n",
        "print (triplicate)\n",
        "```\n",
        "Check it out:"
      ]
    },
    {
      "cell_type": "code",
      "metadata": {
        "id": "MWWtylK5969i"
      },
      "source": [
        "txt = input (\"Enter a text:\")\n",
        "triplicate = 3 * txt\n",
        "print (triplicate)"
      ],
      "execution_count": null,
      "outputs": []
    },
    {
      "cell_type": "markdown",
      "metadata": {
        "id": "lQWPICyB969i"
      },
      "source": [
        "## 6.4 String methods.\n",
        "\n",
        "### 6.4.1 Functions and methods\n",
        "\n",
        "In Python we have already seen some ** functions **, such as those in the `math` module:\n",
        "\n",
        "```python\n",
        "import math\n",
        "x = 0.5\n",
        "y = math.sin (x)\n",
        "z = math.log10 (y)\n",
        "```\n",
        "\n",
        "Each function has a name and its name is followed by possible **arguments** in parentheses.\n",
        "\n",
        "```python\n",
        "function_name (arguments)\n",
        "```\n",
        "\n",
        "The function calculates a result that can be used somewhere in the program that calls it, often assigning it to a variable\n",
        "\n",
        "\n",
        "```python\n",
        "nothing = function_name (arguments)\n",
        "```\n",
        "\n",
        "But Python also has so-called **methods** that have the same result, but are called differently.\n",
        "\n",
        "Each type of data is usually associated with certain methods that make it easier to work with (for example, converting the contents of a string variable to uppercase or lowercase).\n",
        "\n",
        "The syntax for running a method is as follows:\n",
        "\n",
        "```python\n",
        "variable_name.method_name (arguments)\n",
        "```\n",
        "\n",
        "which is usually used thus\n",
        "\n",
        "```python\n",
        "res = variable_name.method_name (arguments)\n",
        "```\n",
        "\n",
        "Note that **the variable to which the method is applied is written first and followed by a dot `.`, the method name, and the parentheses**. If there are arguments they are put in parentheses.\n",
        "\n",
        "#### Capitalize a text: the `.upper ()` method\n",
        "\n",
        "The **`.upper ()`** method converts all alphabetic characters in a _string_ to uppercase.\n",
        "\n",
        "Check it out with this example:\n",
        "```Python\n",
        "txt = input (\"Enter a text (in lower case):\")\n",
        "txt_maj = txt.upper ()\n",
        "print (txt_maj)\n",
        "```"
      ]
    },
    {
      "cell_type": "code",
      "metadata": {
        "id": "mJVbcUSp969j"
      },
      "source": [
        "txt = input (\"Enter a text (in lower case):\")\n",
        "txt_maj = txt.upper ()\n",
        "print (txt_maj)"
      ],
      "execution_count": null,
      "outputs": []
    },
    {
      "cell_type": "markdown",
      "metadata": {
        "id": "8WiGjAUl969j"
      },
      "source": [
        "#### Convert text to lowercase: `.lower ()` method\n",
        "\n",
        "The **`.lower ()`** method converts all alphabetic characters from a _string_ to lowercase.\n",
        "\n",
        "Check it out with this other example:\n",
        "```Python\n",
        "txt = input (\"Enter a text (in uppercase):\")\n",
        "txt_min = txt.lower ()\n",
        "print (txt_min)\n",
        "```"
      ]
    },
    {
      "cell_type": "code",
      "metadata": {
        "id": "0EZCVxGy969j"
      },
      "source": [
        "txt = input (\"Enter a text (in uppercase):\")\n",
        "txt_min = txt.lower ()\n",
        "print (txt_min)"
      ],
      "execution_count": null,
      "outputs": []
    },
    {
      "cell_type": "markdown",
      "metadata": {
        "id": "YaxaiKKk969j"
      },
      "source": [
        "#### Counting occurrences in a text: the `.count ()` method\n",
        "\n",
        "The **`.count ()`** method allows us to determine how many times a certain character or string appears within the string. The character or string to search for must be enclosed in double or single quotes.\n",
        "\n",
        "Check it out with this code snippet:\n",
        "```Python\n",
        "txt = input (\"Enter a text:\")\n",
        "n_a = txt.count (\"a\") # Count the \"a\" characters in the entered text\n",
        "print (n_a)\n",
        "```"
      ]
    },
    {
      "cell_type": "code",
      "metadata": {
        "id": "CSb3rghU969j"
      },
      "source": [
        "txt = input (\"Enter a text:\")\n",
        "n_a = txt.count (\"a\") # Count the \"a\" characters in the entered text\n",
        "print (n_a)"
      ],
      "execution_count": null,
      "outputs": []
    },
    {
      "cell_type": "markdown",
      "metadata": {
        "id": "Ys9BHsUf969j"
      },
      "source": [
        "#### Find in a text: the `.find ()` method\n",
        "\n",
        "The **`.find ()`** method allows us to find out which position (starting with zero) occupies a certain character or string within the string. The character or string to search for must be enclosed in double or single quotes.\n",
        "\n",
        "Note that if the character is repeated inside the string, the `.find ()` method will result in **the first place** where it is found.\n",
        "\n",
        "And that **if it is not** in the string, it returns the value -1 (when it finds it it always returns the position that is a value greater than or equal to zero).\n",
        "\n",
        "\n",
        "Observe the contents of the following code. What values do you think he will write?\n",
        "```Python\n",
        "txt1 = \"now\"\n",
        "ipos = txt1.find ('a')\n",
        "print (ipos)\n",
        "txt2 = \"Now\"\n",
        "ipos = txt2.find ('a')\n",
        "print (ipos)\n",
        "txt3 = \"We are here now\"\n",
        "ipos = txt3.find ('a')\n",
        "print (ipos)\n",
        "txt4 = \"We are here\"\n",
        "ipos = txt4.find ('a')\n",
        "print (ipos)\n",
        "```\n",
        "\n",
        "Make your prediction and run it in the following cell:"
      ]
    },
    {
      "cell_type": "code",
      "metadata": {
        "id": "o1SyRZ7p969k"
      },
      "source": [
        "txt1 = \"now\"\n",
        "ipos = txt1.find ('a')\n",
        "print (ipos)\n",
        "txt2 = \"Now\"\n",
        "ipos = txt2.find ('a')\n",
        "print (ipos)\n",
        "txt3 = \"We are here now\"\n",
        "ipos = txt3.find ('a')\n",
        "print (ipos)\n",
        "txt4 = \"We are here\"\n",
        "ipos = txt4.find ('a')\n",
        "print (ipos)"
      ],
      "execution_count": null,
      "outputs": []
    },
    {
      "cell_type": "markdown",
      "metadata": {
        "id": "NFGJDlVc969k"
      },
      "source": [
        "If you want to determine the position of other occurrences of the character or string, you can do so by indicating after the text to find the position next to the one in which the first one was found.\n",
        "\n",
        "You can see it by running this example in the following cell:\n",
        "```Python\n",
        "txt = \"acetone: water: ethanol: chloroform\"\n",
        "ipos1 = txt.find (\":\") # The first position of the character : is determined in the text\n",
        "print (ipos1)\n",
        "ipos2 = txt.find (\":\", ipos1 + 1) # First position of : from next position to meeting before\n",
        "print (ipos2)\n",
        "```"
      ]
    },
    {
      "cell_type": "code",
      "metadata": {
        "id": "dP3G35hg969k"
      },
      "source": [
        "txt = \"acetone: water: ethanol: chloroform\"\n",
        "ipos1 = txt.find (\":\") # The first position of the character : is determined in the text\n",
        "print (ipos1)\n",
        "ipos2 = txt.find (\":\", ipos1 + 1) # First position of : from next position to meeting before\n",
        "print (ipos2)"
      ],
      "execution_count": null,
      "outputs": []
    },
    {
      "cell_type": "markdown",
      "metadata": {
        "id": "oTdwss3M969k"
      },
      "source": [
        "### 6.4.2 The `.split ()` method\n",
        "\n",
        "A very useful method of strings that we will use later is `.split ()`. This method allows you to **separate** a string, that is, split it into several strings.\n",
        "\n",
        "Using the .split () method without specifying anything in parentheses, the character string is segmented where it finds one or more whitespace.\n",
        "\n",
        "Check it out with the following example:\n",
        "```Python\n",
        "txt = \"Acetone and water are miscible\"\n",
        "list = txt.split ()\n",
        "print (list)\n",
        "```"
      ]
    },
    {
      "cell_type": "code",
      "metadata": {
        "id": "zhQ92J7a969k"
      },
      "source": [
        "txt = \"Acetone and water are miscible\"\n",
        "list = txt.split ()\n",
        "print (list)"
      ],
      "execution_count": null,
      "outputs": []
    },
    {
      "cell_type": "markdown",
      "metadata": {
        "id": "F9dmTO3Q969l"
      },
      "source": [
        "The result is the phrase segmented and poured into a **list** of strings. The list is a new type of data (or data collection) that we will see in the next session.\n",
        "\n",
        "However, we do not always have to separate a string by whitespace. We can separate by any character, for example by `:`.\n",
        "\n",
        "Check it out with this example:\n",
        "```Python\n",
        "txt = \"acetone:water:ethanol:chloroform\"\n",
        "list = txt.split (\":\")\n",
        "print (list)\n",
        "```"
      ]
    },
    {
      "cell_type": "code",
      "metadata": {
        "id": "hks7IJbL969l"
      },
      "source": [
        "txt = \"acetone:water:ethanol:chloroform\"\n",
        "list = txt.split (\":\")\n",
        "print (list)"
      ],
      "execution_count": null,
      "outputs": []
    },
    {
      "cell_type": "markdown",
      "metadata": {
        "id": "TBaY078R969l"
      },
      "source": [
        "_Note_: Note that the separator character in the `.split ()` method **disappears** when the result is given (whites in the first example and whites: in the second)."
      ]
    },
    {
      "cell_type": "markdown",
      "metadata": {
        "id": "AdHRBAvK969l"
      },
      "source": [
        "## 6.5 Alternative structures and strings\n",
        "\n",
        "Alternative structures can be applied to the strings in different ways.\n",
        "\n",
        "For example, given two string variables we can ask ourselves if they match in value, that is, if they contain the same text.\n",
        "\n",
        "Run the following code in the cell to see its result, once entering the same text twice and once entering different texts:\n",
        "```Python\n",
        "txt1 = input (\"Enter a text:\")\n",
        "txt2 = input (\"And now another text:\")\n",
        "if txt1 == txt2:\n",
        "     print (\"They're the same\")\n",
        "else:\n",
        "     print (\"They are different\")\n",
        "```"
      ]
    },
    {
      "cell_type": "code",
      "metadata": {
        "id": "3QuJZjPP969m"
      },
      "source": [
        "txt1 = input (\"Enter a text:\")\n",
        "txt2 = input (\"And now another text:\")\n",
        "if txt1 == txt2:\n",
        "     print (\"They're the same\")\n",
        "else:\n",
        "     print (\"They are different\")"
      ],
      "execution_count": null,
      "outputs": []
    },
    {
      "cell_type": "markdown",
      "metadata": {
        "id": "-hNFLJ2k969m"
      },
      "source": [
        "We may also wonder if a string contains a certain character or string.\n",
        "\n",
        "Run the following code in the cell, once you enter a text with a comma and again without:\n",
        "```Python\n",
        "txt = input (\"Enter a text:\")\n",
        "if ',' in txt:\n",
        "     print (\"There is a comma in the text\")\n",
        "else:\n",
        "     print (\"No comma in text\")\n",
        "```"
      ]
    },
    {
      "cell_type": "code",
      "metadata": {
        "id": "5BXjAIMw969m"
      },
      "source": [
        "txt = input (\"Enter a text:\")\n",
        "if ',' in txt:\n",
        "     print (\"There is a comma in the text\")\n",
        "else:\n",
        "     print (\"No comma in text\")"
      ],
      "execution_count": null,
      "outputs": []
    },
    {
      "cell_type": "markdown",
      "metadata": {
        "id": "-DSBJa1x969m"
      },
      "source": [
        "Note that the condition could also have been reversed with a `note` like this:\n",
        "```Python\n",
        "txt = input (\"Enter a text:\")\n",
        "if ',' not in txt:\n",
        "     print (\"There is no comma in the text\")\n",
        "else:\n",
        "     print (\"There are no commas in the text\")\n",
        "```\n",
        "Check it out:"
      ]
    },
    {
      "cell_type": "code",
      "metadata": {
        "id": "fiQR1jSW969m"
      },
      "source": [
        "txt = input (\"Enter a text:\")\n",
        "if ',' not in txt:\n",
        "     print (\"There is no comma in the text\")\n",
        "else:\n",
        "     print (\"There are no commas in the text\")"
      ],
      "execution_count": null,
      "outputs": []
    },
    {
      "cell_type": "markdown",
      "metadata": {
        "id": "IQpRmEjS969m"
      },
      "source": [
        "## 6.6 Repetitive structures and strings\n",
        "\n",
        "A `for` structure can be used to parse or treat each of the characters in a string.\n",
        "\n",
        "In the following example, each of the characters in a text is written on a separate line.\n",
        "```Python\n",
        "txt = input (\"Enter a text:\")\n",
        "for carac in txt: # For each character in the text\n",
        "     print (character) # The character is typed\n",
        "```\n",
        "Check it out:"
      ]
    },
    {
      "cell_type": "code",
      "metadata": {
        "id": "en5pUwoa969m"
      },
      "source": [
        "txt = input (\"Enter a text:\")\n",
        "for carac in txt: # For each character in the text\n",
        "     print (character) # The character is typed"
      ],
      "execution_count": null,
      "outputs": []
    },
    {
      "cell_type": "markdown",
      "metadata": {
        "id": "CyDEPI_k969n"
      },
      "source": [
        "An alternative way to do the same is the following code, which uses an index pointing from the first character to the last:\n",
        "```Python\n",
        "txt = input (\"Enter a text:\")\n",
        "long = len (txt) # We get the length of the entered text\n",
        "for i in range (long): # For each index i = 0,1, ..., long-1\n",
        "     print (txt [i]) # The character is typed\n",
        "```"
      ]
    },
    {
      "cell_type": "code",
      "metadata": {
        "id": "jDWY45SE969n"
      },
      "source": [
        "txt = input (\"Enter a text:\")\n",
        "long = len (txt) # We get the length of the entered text\n",
        "for i in range (long): # For each index i = 0,1, ..., long-1\n",
        "     print (txt [i]) # The character is typed"
      ],
      "execution_count": null,
      "outputs": []
    },
    {
      "cell_type": "markdown",
      "metadata": {
        "id": "OfGruHWg969n"
      },
      "source": [
        "It can be seen that in this case the first option is simpler."
      ]
    },
    {
      "cell_type": "markdown",
      "metadata": {
        "id": "tDtOz4f-969n"
      },
      "source": [
        "\n",
        "\n",
        "***\n"
      ]
    }
  ]
}